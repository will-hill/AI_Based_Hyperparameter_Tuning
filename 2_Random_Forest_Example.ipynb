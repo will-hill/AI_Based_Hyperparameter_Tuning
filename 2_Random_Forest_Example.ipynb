{
 "cells": [
  {
   "cell_type": "markdown",
   "metadata": {},
   "source": [
    "# Fraud Detection w/ Random Forest Example"
   ]
  },
  {
   "cell_type": "markdown",
   "metadata": {},
   "source": [
    "### load, sample, split data"
   ]
  },
  {
   "cell_type": "code",
   "execution_count": 1,
   "metadata": {},
   "outputs": [],
   "source": [
    "import pandas as pd\n",
    "from sklearn.model_selection import train_test_split\n",
    "\n",
    "df = pd.read_csv('fraud_0.csv').sample(10000)\n",
    "\n",
    "y = df['isFraud']\n",
    "X = df.drop(columns = ['isFraud'], axis = 1)\n",
    "\n",
    "X_train, X_test, y_train, y_test = train_test_split(X, y, test_size=0.25, random_state=0)\n",
    "\n",
    "del df, X, y, train_test_split"
   ]
  },
  {
   "cell_type": "code",
   "execution_count": 2,
   "metadata": {},
   "outputs": [
    {
     "name": "stdout",
     "output_type": "stream",
     "text": [
      "Variable   Type         Data/Info\n",
      "---------------------------------\n",
      "X_test     DataFrame            Unnamed: 0  Trans<...>[2500 rows x 401 columns]\n",
      "X_train    DataFrame            Unnamed: 0  Trans<...>[7500 rows x 401 columns]\n",
      "pd         module       <module 'pandas' from '/U<...>ages/pandas/__init__.py'>\n",
      "y_test     Series       27363     0\\n57393     0\\<...>ength: 2500, dtype: int64\n",
      "y_train    Series       115921    0\\n11310     0\\<...>ength: 7500, dtype: int64\n"
     ]
    }
   ],
   "source": [
    "%whos"
   ]
  },
  {
   "cell_type": "markdown",
   "metadata": {},
   "source": [
    "### Random Forest Hyperparams"
   ]
  },
  {
   "cell_type": "code",
   "execution_count": 3,
   "metadata": {},
   "outputs": [],
   "source": [
    "from sklearn.ensemble import RandomForestClassifier\n",
    "RandomForestClassifier?"
   ]
  },
  {
   "cell_type": "markdown",
   "metadata": {},
   "source": [
    "### induce Random Forest"
   ]
  },
  {
   "cell_type": "code",
   "execution_count": 4,
   "metadata": {},
   "outputs": [
    {
     "data": {
      "text/plain": [
       "12"
      ]
     },
     "execution_count": 4,
     "metadata": {},
     "output_type": "execute_result"
    }
   ],
   "source": [
    "from multiprocessing import cpu_count\n",
    "n_cores = cpu_count()\n",
    "n_cores"
   ]
  },
  {
   "cell_type": "code",
   "execution_count": 5,
   "metadata": {},
   "outputs": [
    {
     "name": "stdout",
     "output_type": "stream",
     "text": [
      "CPU times: user 309 ms, sys: 45.1 ms, total: 355 ms\n",
      "Wall time: 142 ms\n"
     ]
    },
    {
     "data": {
      "text/plain": [
       "RandomForestClassifier(bootstrap=True, ccp_alpha=0.0, class_weight=None,\n",
       "                       criterion='gini', max_depth=3, max_features='auto',\n",
       "                       max_leaf_nodes=None, max_samples=None,\n",
       "                       min_impurity_decrease=0.0, min_impurity_split=None,\n",
       "                       min_samples_leaf=1, min_samples_split=2,\n",
       "                       min_weight_fraction_leaf=0.0, n_estimators=50, n_jobs=12,\n",
       "                       oob_score=False, random_state=0, verbose=0,\n",
       "                       warm_start=False)"
      ]
     },
     "execution_count": 5,
     "metadata": {},
     "output_type": "execute_result"
    }
   ],
   "source": [
    "%%time\n",
    "\n",
    "clf = RandomForestClassifier(max_depth=3, n_estimators=50, random_state=0, n_jobs=n_cores)\n",
    "clf.fit(X_train, y_train)"
   ]
  },
  {
   "cell_type": "markdown",
   "metadata": {},
   "source": [
    "### feature importance"
   ]
  },
  {
   "cell_type": "markdown",
   "metadata": {},
   "source": [
    "https://gist.github.com/WillKoehrsen/475f57ab3c61ea46db0833c6708f1702"
   ]
  },
  {
   "cell_type": "code",
   "execution_count": 6,
   "metadata": {},
   "outputs": [
    {
     "data": {
      "image/png": "[encoded data removed]",
      "text/plain": [
       "<Figure size 432x288 with 1 Axes>"
      ]
     },
     "metadata": {
      "needs_background": "light"
     },
     "output_type": "display_data"
    }
   ],
   "source": [
    "fi = pd.DataFrame({'feature': list(X_train.columns),\n",
    "                   'importance': clf.feature_importances_}).sort_values('importance', ascending = False)\n",
    "\n",
    "import matplotlib.pyplot as plt\n",
    "fi.head(25).plot(x='feature', y='importance', kind='bar')\n",
    "plt.show()"
   ]
  },
  {
   "cell_type": "markdown",
   "metadata": {},
   "source": [
    "### test model"
   ]
  },
  {
   "cell_type": "code",
   "execution_count": 7,
   "metadata": {},
   "outputs": [
    {
     "data": {
      "image/png": "[encoded data removed]",
      "text/plain": [
       "<Figure size 432x288 with 1 Axes>"
      ]
     },
     "metadata": {
      "needs_background": "light"
     },
     "output_type": "display_data"
    }
   ],
   "source": [
    "from sklearn.metrics import roc_auc_score\n",
    "import matplotlib.pyplot as plt\n",
    "from sklearn import metrics\n",
    "\n",
    "auc = metrics.plot_roc_curve(clf, X_test, y_test, name='Manual RF')\n",
    "plt.show()  "
   ]
  },
  {
   "cell_type": "code",
   "execution_count": 8,
   "metadata": {},
   "outputs": [
    {
     "data": {
      "text/plain": [
       "0.7662876622414195"
      ]
     },
     "execution_count": 8,
     "metadata": {},
     "output_type": "execute_result"
    }
   ],
   "source": [
    "auc.roc_auc"
   ]
  },
  {
   "cell_type": "markdown",
   "metadata": {},
   "source": [
    "# AutoML :: Random Forest with Optuna\n",
    "https://scikit-learn.org/stable/modules/generated/sklearn.ensemble.RandomForestClassifier.html"
   ]
  },
  {
   "cell_type": "code",
   "execution_count": 9,
   "metadata": {},
   "outputs": [],
   "source": [
    "import optuna"
   ]
  },
  {
   "cell_type": "code",
   "execution_count": 10,
   "metadata": {},
   "outputs": [],
   "source": [
    "RandomForestClassifier?"
   ]
  },
  {
   "cell_type": "markdown",
   "metadata": {},
   "source": [
    "### objective function"
   ]
  },
  {
   "cell_type": "code",
   "execution_count": 11,
   "metadata": {},
   "outputs": [],
   "source": [
    "def rf_ojbective(trial):\n",
    "    \n",
    "    # Random Forest Params\n",
    "    n_estimators = trial.suggest_int('n_estimators', 10, 1000)\n",
    "    criterion = trial.suggest_categorical('criterion', ['gini','entropy'])\n",
    "    max_depth = trial.suggest_int('max_depth',1,300)\n",
    "    min_samples_split = trial.suggest_int('min_samples_split',2,20)\n",
    "    \n",
    "    # Induction\n",
    "    clf = RandomForestClassifier(\n",
    "        n_estimators = n_estimators, \n",
    "        criterion = criterion,\n",
    "        max_depth = max_depth, \n",
    "        min_samples_split = min_samples_split,\n",
    "        n_jobs = n_cores,\n",
    "        random_state = 0)\n",
    "    clf.fit(X_train, y_train)\n",
    "    \n",
    "    # Test\n",
    "    fpr, tpr, thresholds = metrics.roc_curve(y_test, [y_hat[1] for y_hat in clf.predict_proba(X_test)], pos_label=1)\n",
    "    result = 1 - metrics.auc(fpr, tpr)\n",
    "    return result"
   ]
  },
  {
   "cell_type": "markdown",
   "metadata": {},
   "source": [
    "### create study backed by PostgreSQL Docker"
   ]
  },
  {
   "cell_type": "code",
   "execution_count": 13,
   "metadata": {},
   "outputs": [],
   "source": [
    "pg_url = 'postgresql+pg8000://admin@localhost:5433/optuna'\n",
    "study = optuna.load_study(study_name='sklearn_rf_ieee_fraud', storage=pg_url)"
   ]
  },
  {
   "cell_type": "code",
   "execution_count": null,
   "metadata": {
    "scrolled": true
   },
   "outputs": [
    {
     "name": "stderr",
     "output_type": "stream",
     "text": [
      "\u001b[32m[I 2020-01-21 22:42:46,373]\u001b[0m Finished trial#78 resulted in value: 0.19469499671811807. Current best value is 0.07412447601397609 with parameters: {'n_estimators': 250, 'criterion': 'entropy', 'max_depth': 20, 'min_samples_split': 2}.\u001b[0m\n",
      "\u001b[32m[I 2020-01-21 22:42:47,735]\u001b[0m Finished trial#79 resulted in value: 0.19309640263397498. Current best value is 0.07412447601397609 with parameters: {'n_estimators': 250, 'criterion': 'entropy', 'max_depth': 20, 'min_samples_split': 2}.\u001b[0m\n",
      "\u001b[32m[I 2020-01-21 22:42:49,224]\u001b[0m Finished trial#80 resulted in value: 0.19340871074975108. Current best value is 0.07412447601397609 with parameters: {'n_estimators': 250, 'criterion': 'entropy', 'max_depth': 20, 'min_samples_split': 2}.\u001b[0m\n",
      "\u001b[32m[I 2020-01-21 22:42:50,575]\u001b[0m Finished trial#81 resulted in value: 0.19456001609180795. Current best value is 0.07412447601397609 with parameters: {'n_estimators': 250, 'criterion': 'entropy', 'max_depth': 20, 'min_samples_split': 2}.\u001b[0m\n",
      "\u001b[32m[I 2020-01-21 22:42:53,276]\u001b[0m Finished trial#82 resulted in value: 0.20032977619682812. Current best value is 0.07412447601397609 with parameters: {'n_estimators': 250, 'criterion': 'entropy', 'max_depth': 20, 'min_samples_split': 2}.\u001b[0m\n",
      "\u001b[32m[I 2020-01-21 22:42:54,645]\u001b[0m Finished trial#83 resulted in value: 0.19473999026022137. Current best value is 0.07412447601397609 with parameters: {'n_estimators': 250, 'criterion': 'entropy', 'max_depth': 20, 'min_samples_split': 2}.\u001b[0m\n",
      "\u001b[32m[I 2020-01-21 22:42:56,664]\u001b[0m Finished trial#84 resulted in value: 0.19968398653369757. Current best value is 0.07412447601397609 with parameters: {'n_estimators': 250, 'criterion': 'entropy', 'max_depth': 20, 'min_samples_split': 2}.\u001b[0m\n",
      "\u001b[32m[I 2020-01-21 22:42:57,911]\u001b[0m Finished trial#85 resulted in value: 0.18794331872366554. Current best value is 0.07412447601397609 with parameters: {'n_estimators': 250, 'criterion': 'entropy', 'max_depth': 20, 'min_samples_split': 2}.\u001b[0m\n",
      "\u001b[32m[I 2020-01-21 22:42:59,387]\u001b[0m Finished trial#86 resulted in value: 0.19707700777064951. Current best value is 0.07412447601397609 with parameters: {'n_estimators': 250, 'criterion': 'entropy', 'max_depth': 20, 'min_samples_split': 2}.\u001b[0m\n",
      "\u001b[32m[I 2020-01-21 22:43:00,310]\u001b[0m Finished trial#87 resulted in value: 0.18329310381333508. Current best value is 0.07412447601397609 with parameters: {'n_estimators': 250, 'criterion': 'entropy', 'max_depth': 20, 'min_samples_split': 2}.\u001b[0m\n",
      "\u001b[32m[I 2020-01-21 22:43:02,002]\u001b[0m Finished trial#88 resulted in value: 0.18733987592369084. Current best value is 0.07412447601397609 with parameters: {'n_estimators': 250, 'criterion': 'entropy', 'max_depth': 20, 'min_samples_split': 2}.\u001b[0m\n",
      "\u001b[32m[I 2020-01-21 22:43:02,955]\u001b[0m Finished trial#89 resulted in value: 0.22255658599589234. Current best value is 0.07412447601397609 with parameters: {'n_estimators': 250, 'criterion': 'entropy', 'max_depth': 20, 'min_samples_split': 2}.\u001b[0m\n",
      "\u001b[32m[I 2020-01-21 22:43:04,344]\u001b[0m Finished trial#90 resulted in value: 0.1975825234495754. Current best value is 0.07412447601397609 with parameters: {'n_estimators': 250, 'criterion': 'entropy', 'max_depth': 20, 'min_samples_split': 2}.\u001b[0m\n",
      "\u001b[32m[I 2020-01-21 22:43:06,150]\u001b[0m Finished trial#91 resulted in value: 0.1998824874547418. Current best value is 0.07412447601397609 with parameters: {'n_estimators': 250, 'criterion': 'entropy', 'max_depth': 20, 'min_samples_split': 2}.\u001b[0m\n",
      "\u001b[32m[I 2020-01-21 22:43:07,161]\u001b[0m Finished trial#92 resulted in value: 0.20424686103876855. Current best value is 0.07412447601397609 with parameters: {'n_estimators': 250, 'criterion': 'entropy', 'max_depth': 20, 'min_samples_split': 2}.\u001b[0m\n",
      "\u001b[32m[I 2020-01-21 22:43:09,531]\u001b[0m Finished trial#93 resulted in value: 0.19924728450740015. Current best value is 0.07412447601397609 with parameters: {'n_estimators': 250, 'criterion': 'entropy', 'max_depth': 20, 'min_samples_split': 2}.\u001b[0m\n",
      "\u001b[32m[I 2020-01-21 22:43:10,118]\u001b[0m Finished trial#94 resulted in value: 0.2394794511846534. Current best value is 0.07412447601397609 with parameters: {'n_estimators': 250, 'criterion': 'entropy', 'max_depth': 20, 'min_samples_split': 2}.\u001b[0m\n",
      "\u001b[32m[I 2020-01-21 22:43:11,200]\u001b[0m Finished trial#95 resulted in value: 0.2714804463359377. Current best value is 0.07412447601397609 with parameters: {'n_estimators': 250, 'criterion': 'entropy', 'max_depth': 20, 'min_samples_split': 2}.\u001b[0m\n",
      "\u001b[32m[I 2020-01-21 22:43:12,933]\u001b[0m Finished trial#96 resulted in value: 0.18940163882360395. Current best value is 0.07412447601397609 with parameters: {'n_estimators': 250, 'criterion': 'entropy', 'max_depth': 20, 'min_samples_split': 2}.\u001b[0m\n",
      "\u001b[32m[I 2020-01-21 22:43:14,459]\u001b[0m Finished trial#97 resulted in value: 0.1875754303499968. Current best value is 0.07412447601397609 with parameters: {'n_estimators': 250, 'criterion': 'entropy', 'max_depth': 20, 'min_samples_split': 2}.\u001b[0m\n",
      "\u001b[32m[I 2020-01-21 22:43:16,059]\u001b[0m Finished trial#98 resulted in value: 0.19854856126532439. Current best value is 0.07412447601397609 with parameters: {'n_estimators': 250, 'criterion': 'entropy', 'max_depth': 20, 'min_samples_split': 2}.\u001b[0m\n",
      "\u001b[32m[I 2020-01-21 22:43:17,124]\u001b[0m Finished trial#99 resulted in value: 0.1973707891337949. Current best value is 0.07412447601397609 with parameters: {'n_estimators': 250, 'criterion': 'entropy', 'max_depth': 20, 'min_samples_split': 2}.\u001b[0m\n",
      "\u001b[32m[I 2020-01-21 22:43:17,824]\u001b[0m Finished trial#100 resulted in value: 0.18623091744479026. Current best value is 0.07412447601397609 with parameters: {'n_estimators': 250, 'criterion': 'entropy', 'max_depth': 20, 'min_samples_split': 2}.\u001b[0m\n",
      "\u001b[32m[I 2020-01-21 22:43:18,804]\u001b[0m Finished trial#101 resulted in value: 0.27122636515700105. Current best value is 0.07412447601397609 with parameters: {'n_estimators': 250, 'criterion': 'entropy', 'max_depth': 20, 'min_samples_split': 2}.\u001b[0m\n",
      "\u001b[32m[I 2020-01-21 22:43:19,720]\u001b[0m Finished trial#102 resulted in value: 0.2022168582862225. Current best value is 0.07412447601397609 with parameters: {'n_estimators': 250, 'criterion': 'entropy', 'max_depth': 20, 'min_samples_split': 2}.\u001b[0m\n",
      "\u001b[32m[I 2020-01-21 22:43:20,980]\u001b[0m Finished trial#103 resulted in value: 0.18812064621313185. Current best value is 0.07412447601397609 with parameters: {'n_estimators': 250, 'criterion': 'entropy', 'max_depth': 20, 'min_samples_split': 2}.\u001b[0m\n",
      "\u001b[32m[I 2020-01-21 22:43:22,120]\u001b[0m Finished trial#104 resulted in value: 0.20034300959156448. Current best value is 0.07412447601397609 with parameters: {'n_estimators': 250, 'criterion': 'entropy', 'max_depth': 20, 'min_samples_split': 2}.\u001b[0m\n",
      "\u001b[32m[I 2020-01-21 22:43:23,440]\u001b[0m Finished trial#105 resulted in value: 0.19193186389718175. Current best value is 0.07412447601397609 with parameters: {'n_estimators': 250, 'criterion': 'entropy', 'max_depth': 20, 'min_samples_split': 2}.\u001b[0m\n",
      "\u001b[32m[I 2020-01-21 22:43:27,034]\u001b[0m Finished trial#106 resulted in value: 0.19630947087594475. Current best value is 0.07412447601397609 with parameters: {'n_estimators': 250, 'criterion': 'entropy', 'max_depth': 20, 'min_samples_split': 2}.\u001b[0m\n",
      "\u001b[32m[I 2020-01-21 22:43:27,967]\u001b[0m Finished trial#107 resulted in value: 0.1929746554024011. Current best value is 0.07412447601397609 with parameters: {'n_estimators': 250, 'criterion': 'entropy', 'max_depth': 20, 'min_samples_split': 2}.\u001b[0m\n",
      "\u001b[32m[I 2020-01-21 22:43:29,014]\u001b[0m Finished trial#108 resulted in value: 0.18966366003938262. Current best value is 0.07412447601397609 with parameters: {'n_estimators': 250, 'criterion': 'entropy', 'max_depth': 20, 'min_samples_split': 2}.\u001b[0m\n",
      "\u001b[32m[I 2020-01-21 22:43:29,849]\u001b[0m Finished trial#109 resulted in value: 0.1963491710601537. Current best value is 0.07412447601397609 with parameters: {'n_estimators': 250, 'criterion': 'entropy', 'max_depth': 20, 'min_samples_split': 2}.\u001b[0m\n",
      "\u001b[32m[I 2020-01-21 22:43:31,205]\u001b[0m Finished trial#110 resulted in value: 0.19787365813377378. Current best value is 0.07412447601397609 with parameters: {'n_estimators': 250, 'criterion': 'entropy', 'max_depth': 20, 'min_samples_split': 2}.\u001b[0m\n",
      "\u001b[32m[I 2020-01-21 22:43:32,455]\u001b[0m Finished trial#111 resulted in value: 0.18367422558173996. Current best value is 0.07412447601397609 with parameters: {'n_estimators': 250, 'criterion': 'entropy', 'max_depth': 20, 'min_samples_split': 2}.\u001b[0m\n"
     ]
    },
    {
     "name": "stderr",
     "output_type": "stream",
     "text": [
      "\u001b[32m[I 2020-01-21 22:43:33,286]\u001b[0m Finished trial#112 resulted in value: 0.22325001588007365. Current best value is 0.07412447601397609 with parameters: {'n_estimators': 250, 'criterion': 'entropy', 'max_depth': 20, 'min_samples_split': 2}.\u001b[0m\n",
      "\u001b[32m[I 2020-01-21 22:43:34,999]\u001b[0m Finished trial#113 resulted in value: 0.22277096699062016. Current best value is 0.07412447601397609 with parameters: {'n_estimators': 250, 'criterion': 'entropy', 'max_depth': 20, 'min_samples_split': 2}.\u001b[0m\n",
      "\u001b[32m[I 2020-01-21 22:43:36,714]\u001b[0m Finished trial#114 resulted in value: 0.1855957144974486. Current best value is 0.07412447601397609 with parameters: {'n_estimators': 250, 'criterion': 'entropy', 'max_depth': 20, 'min_samples_split': 2}.\u001b[0m\n",
      "\u001b[32m[I 2020-01-21 22:43:38,309]\u001b[0m Finished trial#115 resulted in value: 0.18654851891846103. Current best value is 0.07412447601397609 with parameters: {'n_estimators': 250, 'criterion': 'entropy', 'max_depth': 20, 'min_samples_split': 2}.\u001b[0m\n",
      "\u001b[32m[I 2020-01-21 22:43:39,462]\u001b[0m Finished trial#116 resulted in value: 0.17629528467678757. Current best value is 0.07412447601397609 with parameters: {'n_estimators': 250, 'criterion': 'entropy', 'max_depth': 20, 'min_samples_split': 2}.\u001b[0m\n",
      "\u001b[32m[I 2020-01-21 22:43:40,714]\u001b[0m Finished trial#117 resulted in value: 0.19182599673929157. Current best value is 0.07412447601397609 with parameters: {'n_estimators': 250, 'criterion': 'entropy', 'max_depth': 20, 'min_samples_split': 2}.\u001b[0m\n",
      "\u001b[32m[I 2020-01-21 22:43:41,531]\u001b[0m Finished trial#118 resulted in value: 0.2744738402252853. Current best value is 0.07412447601397609 with parameters: {'n_estimators': 250, 'criterion': 'entropy', 'max_depth': 20, 'min_samples_split': 2}.\u001b[0m\n",
      "\u001b[32m[I 2020-01-21 22:43:42,931]\u001b[0m Finished trial#119 resulted in value: 0.18978011391306182. Current best value is 0.07412447601397609 with parameters: {'n_estimators': 250, 'criterion': 'entropy', 'max_depth': 20, 'min_samples_split': 2}.\u001b[0m\n",
      "\u001b[32m[I 2020-01-21 22:43:44,180]\u001b[0m Finished trial#120 resulted in value: 0.19765133710220417. Current best value is 0.07412447601397609 with parameters: {'n_estimators': 250, 'criterion': 'entropy', 'max_depth': 20, 'min_samples_split': 2}.\u001b[0m\n",
      "\u001b[32m[I 2020-01-21 22:43:45,951]\u001b[0m Finished trial#121 resulted in value: 0.19303023566029354. Current best value is 0.07412447601397609 with parameters: {'n_estimators': 250, 'criterion': 'entropy', 'max_depth': 20, 'min_samples_split': 2}.\u001b[0m\n",
      "\u001b[32m[I 2020-01-21 22:43:47,225]\u001b[0m Finished trial#122 resulted in value: 0.18443117576065537. Current best value is 0.07412447601397609 with parameters: {'n_estimators': 250, 'criterion': 'entropy', 'max_depth': 20, 'min_samples_split': 2}.\u001b[0m\n",
      "\u001b[32m[I 2020-01-21 22:43:48,195]\u001b[0m Finished trial#123 resulted in value: 0.18937252535518434. Current best value is 0.07412447601397609 with parameters: {'n_estimators': 250, 'criterion': 'entropy', 'max_depth': 20, 'min_samples_split': 2}.\u001b[0m\n",
      "\u001b[32m[I 2020-01-21 22:43:49,369]\u001b[0m Finished trial#124 resulted in value: 0.1981436193863939. Current best value is 0.07412447601397609 with parameters: {'n_estimators': 250, 'criterion': 'entropy', 'max_depth': 20, 'min_samples_split': 2}.\u001b[0m\n",
      "\u001b[32m[I 2020-01-21 22:43:50,629]\u001b[0m Finished trial#125 resulted in value: 0.18122340087657995. Current best value is 0.07412447601397609 with parameters: {'n_estimators': 250, 'criterion': 'entropy', 'max_depth': 20, 'min_samples_split': 2}.\u001b[0m\n",
      "\u001b[32m[I 2020-01-21 22:43:52,016]\u001b[0m Finished trial#126 resulted in value: 0.1880015456605052. Current best value is 0.07412447601397609 with parameters: {'n_estimators': 250, 'criterion': 'entropy', 'max_depth': 20, 'min_samples_split': 2}.\u001b[0m\n",
      "\u001b[32m[I 2020-01-21 22:43:52,842]\u001b[0m Finished trial#127 resulted in value: 0.27099610408858976. Current best value is 0.07412447601397609 with parameters: {'n_estimators': 250, 'criterion': 'entropy', 'max_depth': 20, 'min_samples_split': 2}.\u001b[0m\n",
      "\u001b[32m[I 2020-01-21 22:43:53,958]\u001b[0m Finished trial#128 resulted in value: 0.19453619598128258. Current best value is 0.07412447601397609 with parameters: {'n_estimators': 250, 'criterion': 'entropy', 'max_depth': 20, 'min_samples_split': 2}.\u001b[0m\n",
      "\u001b[32m[I 2020-01-21 22:43:55,172]\u001b[0m Finished trial#129 resulted in value: 0.18721283533422262. Current best value is 0.07412447601397609 with parameters: {'n_estimators': 250, 'criterion': 'entropy', 'max_depth': 20, 'min_samples_split': 2}.\u001b[0m\n",
      "\u001b[32m[I 2020-01-21 22:43:56,207]\u001b[0m Finished trial#130 resulted in value: 0.18612505028690007. Current best value is 0.07412447601397609 with parameters: {'n_estimators': 250, 'criterion': 'entropy', 'max_depth': 20, 'min_samples_split': 2}.\u001b[0m\n",
      "\u001b[32m[I 2020-01-21 22:43:57,263]\u001b[0m Finished trial#131 resulted in value: 0.19987190073895278. Current best value is 0.07412447601397609 with parameters: {'n_estimators': 250, 'criterion': 'entropy', 'max_depth': 20, 'min_samples_split': 2}.\u001b[0m\n",
      "\u001b[32m[I 2020-01-21 22:43:58,863]\u001b[0m Finished trial#132 resulted in value: 0.19503112494441965. Current best value is 0.07412447601397609 with parameters: {'n_estimators': 250, 'criterion': 'entropy', 'max_depth': 20, 'min_samples_split': 2}.\u001b[0m\n",
      "\u001b[32m[I 2020-01-21 22:44:00,151]\u001b[0m Finished trial#133 resulted in value: 0.1913231277393127. Current best value is 0.07412447601397609 with parameters: {'n_estimators': 250, 'criterion': 'entropy', 'max_depth': 20, 'min_samples_split': 2}.\u001b[0m\n",
      "\u001b[32m[I 2020-01-21 22:44:01,416]\u001b[0m Finished trial#134 resulted in value: 0.18574922187638943. Current best value is 0.07412447601397609 with parameters: {'n_estimators': 250, 'criterion': 'entropy', 'max_depth': 20, 'min_samples_split': 2}.\u001b[0m\n",
      "\u001b[32m[I 2020-01-21 22:44:02,471]\u001b[0m Finished trial#135 resulted in value: 0.18059878464502743. Current best value is 0.07412447601397609 with parameters: {'n_estimators': 250, 'criterion': 'entropy', 'max_depth': 20, 'min_samples_split': 2}.\u001b[0m\n",
      "\u001b[32m[I 2020-01-21 22:44:03,402]\u001b[0m Finished trial#136 resulted in value: 0.18959749306570117. Current best value is 0.07412447601397609 with parameters: {'n_estimators': 250, 'criterion': 'entropy', 'max_depth': 20, 'min_samples_split': 2}.\u001b[0m\n",
      "\u001b[32m[I 2020-01-21 22:44:04,345]\u001b[0m Finished trial#137 resulted in value: 0.2042600944335048. Current best value is 0.07412447601397609 with parameters: {'n_estimators': 250, 'criterion': 'entropy', 'max_depth': 20, 'min_samples_split': 2}.\u001b[0m\n",
      "\u001b[32m[I 2020-01-21 22:44:05,520]\u001b[0m Finished trial#138 resulted in value: 0.19712464799170015. Current best value is 0.07412447601397609 with parameters: {'n_estimators': 250, 'criterion': 'entropy', 'max_depth': 20, 'min_samples_split': 2}.\u001b[0m\n",
      "\u001b[32m[I 2020-01-21 22:44:06,541]\u001b[0m Finished trial#139 resulted in value: 0.18755955027631332. Current best value is 0.07412447601397609 with parameters: {'n_estimators': 250, 'criterion': 'entropy', 'max_depth': 20, 'min_samples_split': 2}.\u001b[0m\n",
      "\u001b[32m[I 2020-01-21 22:44:08,018]\u001b[0m Finished trial#140 resulted in value: 0.19245061297084431. Current best value is 0.07412447601397609 with parameters: {'n_estimators': 250, 'criterion': 'entropy', 'max_depth': 20, 'min_samples_split': 2}.\u001b[0m\n",
      "\u001b[32m[I 2020-01-21 22:44:09,422]\u001b[0m Finished trial#141 resulted in value: 0.18524635287641067. Current best value is 0.07412447601397609 with parameters: {'n_estimators': 250, 'criterion': 'entropy', 'max_depth': 20, 'min_samples_split': 2}.\u001b[0m\n",
      "\u001b[32m[I 2020-01-21 22:44:10,802]\u001b[0m Finished trial#142 resulted in value: 0.18792479197103473. Current best value is 0.07412447601397609 with parameters: {'n_estimators': 250, 'criterion': 'entropy', 'max_depth': 20, 'min_samples_split': 2}.\u001b[0m\n",
      "\u001b[32m[I 2020-01-21 22:44:11,857]\u001b[0m Finished trial#143 resulted in value: 0.24381206462131322. Current best value is 0.07412447601397609 with parameters: {'n_estimators': 250, 'criterion': 'entropy', 'max_depth': 20, 'min_samples_split': 2}.\u001b[0m\n",
      "\u001b[32m[I 2020-01-21 22:44:13,021]\u001b[0m Finished trial#144 resulted in value: 0.20170604924940183. Current best value is 0.07412447601397609 with parameters: {'n_estimators': 250, 'criterion': 'entropy', 'max_depth': 20, 'min_samples_split': 2}.\u001b[0m\n",
      "\u001b[32m[I 2020-01-21 22:44:14,189]\u001b[0m Finished trial#145 resulted in value: 0.1911272734972157. Current best value is 0.07412447601397609 with parameters: {'n_estimators': 250, 'criterion': 'entropy', 'max_depth': 20, 'min_samples_split': 2}.\u001b[0m\n"
     ]
    },
    {
     "name": "stderr",
     "output_type": "stream",
     "text": [
      "\u001b[32m[I 2020-01-21 22:44:15,216]\u001b[0m Finished trial#146 resulted in value: 0.17605708357153438. Current best value is 0.07412447601397609 with parameters: {'n_estimators': 250, 'criterion': 'entropy', 'max_depth': 20, 'min_samples_split': 2}.\u001b[0m\n",
      "\u001b[32m[I 2020-01-21 22:44:16,503]\u001b[0m Finished trial#147 resulted in value: 0.18248322005547446. Current best value is 0.07412447601397609 with parameters: {'n_estimators': 250, 'criterion': 'entropy', 'max_depth': 20, 'min_samples_split': 2}.\u001b[0m\n",
      "\u001b[32m[I 2020-01-21 22:44:17,757]\u001b[0m Finished trial#148 resulted in value: 0.1948193906286393. Current best value is 0.07412447601397609 with parameters: {'n_estimators': 250, 'criterion': 'entropy', 'max_depth': 20, 'min_samples_split': 2}.\u001b[0m\n",
      "\u001b[32m[I 2020-01-21 22:44:18,816]\u001b[0m Finished trial#149 resulted in value: 0.1969711406127591. Current best value is 0.07412447601397609 with parameters: {'n_estimators': 250, 'criterion': 'entropy', 'max_depth': 20, 'min_samples_split': 2}.\u001b[0m\n",
      "\u001b[32m[I 2020-01-21 22:44:20,987]\u001b[0m Finished trial#150 resulted in value: 0.19890850960215134. Current best value is 0.07412447601397609 with parameters: {'n_estimators': 250, 'criterion': 'entropy', 'max_depth': 20, 'min_samples_split': 2}.\u001b[0m\n",
      "\u001b[32m[I 2020-01-21 22:44:22,140]\u001b[0m Finished trial#151 resulted in value: 0.18215503186601445. Current best value is 0.07412447601397609 with parameters: {'n_estimators': 250, 'criterion': 'entropy', 'max_depth': 20, 'min_samples_split': 2}.\u001b[0m\n",
      "\u001b[32m[I 2020-01-21 22:44:23,152]\u001b[0m Finished trial#152 resulted in value: 0.18513254568167858. Current best value is 0.07412447601397609 with parameters: {'n_estimators': 250, 'criterion': 'entropy', 'max_depth': 20, 'min_samples_split': 2}.\u001b[0m\n",
      "\u001b[32m[I 2020-01-21 22:44:24,202]\u001b[0m Finished trial#153 resulted in value: 0.19152956869719873. Current best value is 0.07412447601397609 with parameters: {'n_estimators': 250, 'criterion': 'entropy', 'max_depth': 20, 'min_samples_split': 2}.\u001b[0m\n",
      "\u001b[32m[I 2020-01-21 22:44:25,450]\u001b[0m Finished trial#154 resulted in value: 0.182798174850198. Current best value is 0.07412447601397609 with parameters: {'n_estimators': 250, 'criterion': 'entropy', 'max_depth': 20, 'min_samples_split': 2}.\u001b[0m\n",
      "\u001b[32m[I 2020-01-21 22:44:26,616]\u001b[0m Finished trial#155 resulted in value: 0.17831205403459738. Current best value is 0.07412447601397609 with parameters: {'n_estimators': 250, 'criterion': 'entropy', 'max_depth': 20, 'min_samples_split': 2}.\u001b[0m\n",
      "\u001b[32m[I 2020-01-21 22:44:27,875]\u001b[0m Finished trial#156 resulted in value: 0.1922097651866439. Current best value is 0.07412447601397609 with parameters: {'n_estimators': 250, 'criterion': 'entropy', 'max_depth': 20, 'min_samples_split': 2}.\u001b[0m\n",
      "\u001b[32m[I 2020-01-21 22:44:28,700]\u001b[0m Finished trial#157 resulted in value: 0.27291494632535096. Current best value is 0.07412447601397609 with parameters: {'n_estimators': 250, 'criterion': 'entropy', 'max_depth': 20, 'min_samples_split': 2}.\u001b[0m\n",
      "\u001b[32m[I 2020-01-21 22:44:29,756]\u001b[0m Finished trial#158 resulted in value: 0.19476381037074664. Current best value is 0.07412447601397609 with parameters: {'n_estimators': 250, 'criterion': 'entropy', 'max_depth': 20, 'min_samples_split': 2}.\u001b[0m\n",
      "\u001b[32m[I 2020-01-21 22:44:31,479]\u001b[0m Finished trial#159 resulted in value: 0.19143164157615034. Current best value is 0.07412447601397609 with parameters: {'n_estimators': 250, 'criterion': 'entropy', 'max_depth': 20, 'min_samples_split': 2}.\u001b[0m\n",
      "\u001b[32m[I 2020-01-21 22:44:32,870]\u001b[0m Finished trial#160 resulted in value: 0.17885726989773232. Current best value is 0.07412447601397609 with parameters: {'n_estimators': 250, 'criterion': 'entropy', 'max_depth': 20, 'min_samples_split': 2}.\u001b[0m\n",
      "\u001b[32m[I 2020-01-21 22:44:34,053]\u001b[0m Finished trial#161 resulted in value: 0.20068707785470796. Current best value is 0.07412447601397609 with parameters: {'n_estimators': 250, 'criterion': 'entropy', 'max_depth': 20, 'min_samples_split': 2}.\u001b[0m\n",
      "\u001b[32m[I 2020-01-21 22:44:35,332]\u001b[0m Finished trial#162 resulted in value: 0.18018854940820261. Current best value is 0.07412447601397609 with parameters: {'n_estimators': 250, 'criterion': 'entropy', 'max_depth': 20, 'min_samples_split': 2}.\u001b[0m\n",
      "\u001b[32m[I 2020-01-21 22:44:36,987]\u001b[0m Finished trial#163 resulted in value: 0.18960543310254285. Current best value is 0.07412447601397609 with parameters: {'n_estimators': 250, 'criterion': 'entropy', 'max_depth': 20, 'min_samples_split': 2}.\u001b[0m\n",
      "\u001b[32m[I 2020-01-21 22:44:38,393]\u001b[0m Finished trial#164 resulted in value: 0.19044972368671786. Current best value is 0.07412447601397609 with parameters: {'n_estimators': 250, 'criterion': 'entropy', 'max_depth': 20, 'min_samples_split': 2}.\u001b[0m\n",
      "\u001b[32m[I 2020-01-21 22:44:39,523]\u001b[0m Finished trial#165 resulted in value: 0.19628300408647226. Current best value is 0.07412447601397609 with parameters: {'n_estimators': 250, 'criterion': 'entropy', 'max_depth': 20, 'min_samples_split': 2}.\u001b[0m\n",
      "\u001b[32m[I 2020-01-21 22:44:40,682]\u001b[0m Finished trial#166 resulted in value: 0.17995299498189665. Current best value is 0.07412447601397609 with parameters: {'n_estimators': 250, 'criterion': 'entropy', 'max_depth': 20, 'min_samples_split': 2}.\u001b[0m\n",
      "\u001b[32m[I 2020-01-21 22:44:41,722]\u001b[0m Finished trial#167 resulted in value: 0.19249295983400017. Current best value is 0.07412447601397609 with parameters: {'n_estimators': 250, 'criterion': 'entropy', 'max_depth': 20, 'min_samples_split': 2}.\u001b[0m\n",
      "\u001b[32m[I 2020-01-21 22:44:42,875]\u001b[0m Finished trial#168 resulted in value: 0.1911907937919498. Current best value is 0.07412447601397609 with parameters: {'n_estimators': 250, 'criterion': 'entropy', 'max_depth': 20, 'min_samples_split': 2}.\u001b[0m\n",
      "\u001b[32m[I 2020-01-21 22:44:43,894]\u001b[0m Finished trial#169 resulted in value: 0.1820438713502297. Current best value is 0.07412447601397609 with parameters: {'n_estimators': 250, 'criterion': 'entropy', 'max_depth': 20, 'min_samples_split': 2}.\u001b[0m\n",
      "\u001b[32m[I 2020-01-21 22:44:44,735]\u001b[0m Finished trial#170 resulted in value: 0.2710543310254294. Current best value is 0.07412447601397609 with parameters: {'n_estimators': 250, 'criterion': 'entropy', 'max_depth': 20, 'min_samples_split': 2}.\u001b[0m\n",
      "\u001b[32m[I 2020-01-21 22:44:46,108]\u001b[0m Finished trial#171 resulted in value: 0.18888024307099438. Current best value is 0.07412447601397609 with parameters: {'n_estimators': 250, 'criterion': 'entropy', 'max_depth': 20, 'min_samples_split': 2}.\u001b[0m\n",
      "\u001b[32m[I 2020-01-21 22:44:47,137]\u001b[0m Finished trial#172 resulted in value: 0.17973067395032716. Current best value is 0.07412447601397609 with parameters: {'n_estimators': 250, 'criterion': 'entropy', 'max_depth': 20, 'min_samples_split': 2}.\u001b[0m\n",
      "\u001b[32m[I 2020-01-21 22:44:48,267]\u001b[0m Finished trial#173 resulted in value: 0.18283258167651228. Current best value is 0.07412447601397609 with parameters: {'n_estimators': 250, 'criterion': 'entropy', 'max_depth': 20, 'min_samples_split': 2}.\u001b[0m\n",
      "\u001b[32m[I 2020-01-21 22:44:49,739]\u001b[0m Finished trial#174 resulted in value: 0.19107698659721772. Current best value is 0.07412447601397609 with parameters: {'n_estimators': 250, 'criterion': 'entropy', 'max_depth': 20, 'min_samples_split': 2}.\u001b[0m\n",
      "\u001b[32m[I 2020-01-21 22:44:50,658]\u001b[0m Finished trial#175 resulted in value: 0.17548804759787417. Current best value is 0.07412447601397609 with parameters: {'n_estimators': 250, 'criterion': 'entropy', 'max_depth': 20, 'min_samples_split': 2}.\u001b[0m\n",
      "\u001b[32m[I 2020-01-21 22:44:51,812]\u001b[0m Finished trial#176 resulted in value: 0.1980536323021872. Current best value is 0.07412447601397609 with parameters: {'n_estimators': 250, 'criterion': 'entropy', 'max_depth': 20, 'min_samples_split': 2}.\u001b[0m\n",
      "\u001b[32m[I 2020-01-21 22:44:52,946]\u001b[0m Finished trial#177 resulted in value: 0.19518992568125504. Current best value is 0.07412447601397609 with parameters: {'n_estimators': 250, 'criterion': 'entropy', 'max_depth': 20, 'min_samples_split': 2}.\u001b[0m\n",
      "\u001b[32m[I 2020-01-21 22:44:53,898]\u001b[0m Finished trial#178 resulted in value: 0.18795125876050733. Current best value is 0.07412447601397609 with parameters: {'n_estimators': 250, 'criterion': 'entropy', 'max_depth': 20, 'min_samples_split': 2}.\u001b[0m\n",
      "\u001b[32m[I 2020-01-21 22:44:55,240]\u001b[0m Finished trial#179 resulted in value: 0.1963306443075229. Current best value is 0.07412447601397609 with parameters: {'n_estimators': 250, 'criterion': 'entropy', 'max_depth': 20, 'min_samples_split': 2}.\u001b[0m\n"
     ]
    },
    {
     "name": "stderr",
     "output_type": "stream",
     "text": [
      "\u001b[32m[I 2020-01-21 22:44:56,416]\u001b[0m Finished trial#180 resulted in value: 0.18365305215016192. Current best value is 0.07412447601397609 with parameters: {'n_estimators': 250, 'criterion': 'entropy', 'max_depth': 20, 'min_samples_split': 2}.\u001b[0m\n",
      "\u001b[32m[I 2020-01-21 22:44:57,682]\u001b[0m Finished trial#181 resulted in value: 0.195425480107561. Current best value is 0.07412447601397609 with parameters: {'n_estimators': 250, 'criterion': 'entropy', 'max_depth': 20, 'min_samples_split': 2}.\u001b[0m\n",
      "\u001b[32m[I 2020-01-21 22:44:58,954]\u001b[0m Finished trial#182 resulted in value: 0.1839971204133054. Current best value is 0.07412447601397609 with parameters: {'n_estimators': 250, 'criterion': 'entropy', 'max_depth': 20, 'min_samples_split': 2}.\u001b[0m\n",
      "\u001b[32m[I 2020-01-21 22:44:59,977]\u001b[0m Finished trial#183 resulted in value: 0.19520051239704428. Current best value is 0.07412447601397609 with parameters: {'n_estimators': 250, 'criterion': 'entropy', 'max_depth': 20, 'min_samples_split': 2}.\u001b[0m\n",
      "\u001b[32m[I 2020-01-21 22:45:01,127]\u001b[0m Finished trial#184 resulted in value: 0.19181276334455533. Current best value is 0.07412447601397609 with parameters: {'n_estimators': 250, 'criterion': 'entropy', 'max_depth': 20, 'min_samples_split': 2}.\u001b[0m\n",
      "\u001b[32m[I 2020-01-21 22:45:02,299]\u001b[0m Finished trial#185 resulted in value: 0.18773952444472675. Current best value is 0.07412447601397609 with parameters: {'n_estimators': 250, 'criterion': 'entropy', 'max_depth': 20, 'min_samples_split': 2}.\u001b[0m\n",
      "\u001b[32m[I 2020-01-21 22:45:03,431]\u001b[0m Finished trial#186 resulted in value: 0.18773423108683218. Current best value is 0.07412447601397609 with parameters: {'n_estimators': 250, 'criterion': 'entropy', 'max_depth': 20, 'min_samples_split': 2}.\u001b[0m\n",
      "\u001b[32m[I 2020-01-21 22:45:04,687]\u001b[0m Finished trial#187 resulted in value: 0.19796099853903326. Current best value is 0.07412447601397609 with parameters: {'n_estimators': 250, 'criterion': 'entropy', 'max_depth': 20, 'min_samples_split': 2}.\u001b[0m\n",
      "\u001b[32m[I 2020-01-21 22:45:05,721]\u001b[0m Finished trial#188 resulted in value: 0.18384361303436447. Current best value is 0.07412447601397609 with parameters: {'n_estimators': 250, 'criterion': 'entropy', 'max_depth': 20, 'min_samples_split': 2}.\u001b[0m\n",
      "\u001b[32m[I 2020-01-21 22:45:06,847]\u001b[0m Finished trial#189 resulted in value: 0.18624679751847384. Current best value is 0.07412447601397609 with parameters: {'n_estimators': 250, 'criterion': 'entropy', 'max_depth': 20, 'min_samples_split': 2}.\u001b[0m\n",
      "\u001b[32m[I 2020-01-21 22:45:08,118]\u001b[0m Finished trial#190 resulted in value: 0.19148457515509543. Current best value is 0.07412447601397609 with parameters: {'n_estimators': 250, 'criterion': 'entropy', 'max_depth': 20, 'min_samples_split': 2}.\u001b[0m\n",
      "\u001b[32m[I 2020-01-21 22:45:09,259]\u001b[0m Finished trial#191 resulted in value: 0.1978313112706176. Current best value is 0.07412447601397609 with parameters: {'n_estimators': 250, 'criterion': 'entropy', 'max_depth': 20, 'min_samples_split': 2}.\u001b[0m\n",
      "\u001b[32m[I 2020-01-21 22:45:11,977]\u001b[0m Finished trial#192 resulted in value: 0.1979901120074531. Current best value is 0.07412447601397609 with parameters: {'n_estimators': 250, 'criterion': 'entropy', 'max_depth': 20, 'min_samples_split': 2}.\u001b[0m\n",
      "\u001b[32m[I 2020-01-21 22:45:13,056]\u001b[0m Finished trial#193 resulted in value: 0.1977254441127273. Current best value is 0.07412447601397609 with parameters: {'n_estimators': 250, 'criterion': 'entropy', 'max_depth': 20, 'min_samples_split': 2}.\u001b[0m\n",
      "\u001b[32m[I 2020-01-21 22:45:14,160]\u001b[0m Finished trial#194 resulted in value: 0.1752419064557793. Current best value is 0.07412447601397609 with parameters: {'n_estimators': 250, 'criterion': 'entropy', 'max_depth': 20, 'min_samples_split': 2}.\u001b[0m\n",
      "\u001b[32m[I 2020-01-21 22:45:15,419]\u001b[0m Finished trial#195 resulted in value: 0.18193271083444484. Current best value is 0.07412447601397609 with parameters: {'n_estimators': 250, 'criterion': 'entropy', 'max_depth': 20, 'min_samples_split': 2}.\u001b[0m\n",
      "\u001b[32m[I 2020-01-21 22:45:16,585]\u001b[0m Finished trial#196 resulted in value: 0.18314753647123594. Current best value is 0.07412447601397609 with parameters: {'n_estimators': 250, 'criterion': 'entropy', 'max_depth': 20, 'min_samples_split': 2}.\u001b[0m\n",
      "\u001b[32m[I 2020-01-21 22:45:17,833]\u001b[0m Finished trial#197 resulted in value: 0.18581274217112365. Current best value is 0.07412447601397609 with parameters: {'n_estimators': 250, 'criterion': 'entropy', 'max_depth': 20, 'min_samples_split': 2}.\u001b[0m\n",
      "\u001b[32m[I 2020-01-21 22:45:18,990]\u001b[0m Finished trial#198 resulted in value: 0.1870169810921256. Current best value is 0.07412447601397609 with parameters: {'n_estimators': 250, 'criterion': 'entropy', 'max_depth': 20, 'min_samples_split': 2}.\u001b[0m\n",
      "\u001b[32m[I 2020-01-21 22:45:19,845]\u001b[0m Finished trial#199 resulted in value: 0.27296787990429594. Current best value is 0.07412447601397609 with parameters: {'n_estimators': 250, 'criterion': 'entropy', 'max_depth': 20, 'min_samples_split': 2}.\u001b[0m\n",
      "\u001b[32m[I 2020-01-21 22:45:21,349]\u001b[0m Finished trial#200 resulted in value: 0.19246649304452768. Current best value is 0.07412447601397609 with parameters: {'n_estimators': 250, 'criterion': 'entropy', 'max_depth': 20, 'min_samples_split': 2}.\u001b[0m\n",
      "\u001b[32m[I 2020-01-21 22:45:22,623]\u001b[0m Finished trial#201 resulted in value: 0.18418768129750795. Current best value is 0.07412447601397609 with parameters: {'n_estimators': 250, 'criterion': 'entropy', 'max_depth': 20, 'min_samples_split': 2}.\u001b[0m\n",
      "\u001b[32m[I 2020-01-21 22:45:23,913]\u001b[0m Finished trial#202 resulted in value: 0.18822916004996915. Current best value is 0.07412447601397609 with parameters: {'n_estimators': 250, 'criterion': 'entropy', 'max_depth': 20, 'min_samples_split': 2}.\u001b[0m\n",
      "\u001b[32m[I 2020-01-21 22:45:25,080]\u001b[0m Finished trial#203 resulted in value: 0.18304960935018744. Current best value is 0.07412447601397609 with parameters: {'n_estimators': 250, 'criterion': 'entropy', 'max_depth': 20, 'min_samples_split': 2}.\u001b[0m\n",
      "\u001b[32m[I 2020-01-21 22:45:26,188]\u001b[0m Finished trial#204 resulted in value: 0.19937961845476293. Current best value is 0.07412447601397609 with parameters: {'n_estimators': 250, 'criterion': 'entropy', 'max_depth': 20, 'min_samples_split': 2}.\u001b[0m\n",
      "\u001b[32m[I 2020-01-21 22:45:27,494]\u001b[0m Finished trial#205 resulted in value: 0.1793707256135002. Current best value is 0.07412447601397609 with parameters: {'n_estimators': 250, 'criterion': 'entropy', 'max_depth': 20, 'min_samples_split': 2}.\u001b[0m\n",
      "\u001b[32m[I 2020-01-21 22:45:28,871]\u001b[0m Finished trial#206 resulted in value: 0.18573069512375873. Current best value is 0.07412447601397609 with parameters: {'n_estimators': 250, 'criterion': 'entropy', 'max_depth': 20, 'min_samples_split': 2}.\u001b[0m\n",
      "\u001b[32m[I 2020-01-21 22:45:30,117]\u001b[0m Finished trial#207 resulted in value: 0.1715471426454085. Current best value is 0.07412447601397609 with parameters: {'n_estimators': 250, 'criterion': 'entropy', 'max_depth': 20, 'min_samples_split': 2}.\u001b[0m\n",
      "\u001b[32m[I 2020-01-21 22:45:31,495]\u001b[0m Finished trial#208 resulted in value: 0.19843210739164507. Current best value is 0.07412447601397609 with parameters: {'n_estimators': 250, 'criterion': 'entropy', 'max_depth': 20, 'min_samples_split': 2}.\u001b[0m\n",
      "\u001b[32m[I 2020-01-21 22:45:33,019]\u001b[0m Finished trial#209 resulted in value: 0.18624679751847373. Current best value is 0.07412447601397609 with parameters: {'n_estimators': 250, 'criterion': 'entropy', 'max_depth': 20, 'min_samples_split': 2}.\u001b[0m\n",
      "\u001b[32m[I 2020-01-21 22:45:34,071]\u001b[0m Finished trial#210 resulted in value: 0.19269410743399173. Current best value is 0.07412447601397609 with parameters: {'n_estimators': 250, 'criterion': 'entropy', 'max_depth': 20, 'min_samples_split': 2}.\u001b[0m\n",
      "\u001b[32m[I 2020-01-21 22:45:35,649]\u001b[0m Finished trial#211 resulted in value: 0.1924956065129475. Current best value is 0.07412447601397609 with parameters: {'n_estimators': 250, 'criterion': 'entropy', 'max_depth': 20, 'min_samples_split': 2}.\u001b[0m\n",
      "\u001b[32m[I 2020-01-21 22:45:37,087]\u001b[0m Finished trial#212 resulted in value: 0.19280262127082937. Current best value is 0.07412447601397609 with parameters: {'n_estimators': 250, 'criterion': 'entropy', 'max_depth': 20, 'min_samples_split': 2}.\u001b[0m\n",
      "\u001b[32m[I 2020-01-21 22:45:38,307]\u001b[0m Finished trial#213 resulted in value: 0.17993182155031873. Current best value is 0.07412447601397609 with parameters: {'n_estimators': 250, 'criterion': 'entropy', 'max_depth': 20, 'min_samples_split': 2}.\u001b[0m\n"
     ]
    },
    {
     "name": "stderr",
     "output_type": "stream",
     "text": [
      "\u001b[32m[I 2020-01-21 22:45:39,749]\u001b[0m Finished trial#214 resulted in value: 0.20299762857566328. Current best value is 0.07412447601397609 with parameters: {'n_estimators': 250, 'criterion': 'entropy', 'max_depth': 20, 'min_samples_split': 2}.\u001b[0m\n",
      "\u001b[32m[I 2020-01-21 22:45:40,978]\u001b[0m Finished trial#215 resulted in value: 0.1805511444239768. Current best value is 0.07412447601397609 with parameters: {'n_estimators': 250, 'criterion': 'entropy', 'max_depth': 20, 'min_samples_split': 2}.\u001b[0m\n",
      "\u001b[32m[I 2020-01-21 22:45:42,268]\u001b[0m Finished trial#216 resulted in value: 0.19661119227593205. Current best value is 0.07412447601397609 with parameters: {'n_estimators': 250, 'criterion': 'entropy', 'max_depth': 20, 'min_samples_split': 2}.\u001b[0m\n",
      "\u001b[32m[I 2020-01-21 22:45:43,316]\u001b[0m Finished trial#217 resulted in value: 0.17417794151898192. Current best value is 0.07412447601397609 with parameters: {'n_estimators': 250, 'criterion': 'entropy', 'max_depth': 20, 'min_samples_split': 2}.\u001b[0m\n",
      "\u001b[32m[I 2020-01-21 22:45:44,351]\u001b[0m Finished trial#218 resulted in value: 0.19657678544961776. Current best value is 0.07412447601397609 with parameters: {'n_estimators': 250, 'criterion': 'entropy', 'max_depth': 20, 'min_samples_split': 2}.\u001b[0m\n",
      "\u001b[32m[I 2020-01-21 22:45:45,504]\u001b[0m Finished trial#219 resulted in value: 0.18361070528700574. Current best value is 0.07412447601397609 with parameters: {'n_estimators': 250, 'criterion': 'entropy', 'max_depth': 20, 'min_samples_split': 2}.\u001b[0m\n",
      "\u001b[32m[I 2020-01-21 22:45:47,011]\u001b[0m Finished trial#220 resulted in value: 0.19341400410764575. Current best value is 0.07412447601397609 with parameters: {'n_estimators': 250, 'criterion': 'entropy', 'max_depth': 20, 'min_samples_split': 2}.\u001b[0m\n",
      "\u001b[32m[I 2020-01-21 22:45:48,290]\u001b[0m Finished trial#221 resulted in value: 0.19020093586567566. Current best value is 0.07412447601397609 with parameters: {'n_estimators': 250, 'criterion': 'entropy', 'max_depth': 20, 'min_samples_split': 2}.\u001b[0m\n",
      "\u001b[32m[I 2020-01-21 22:45:49,226]\u001b[0m Finished trial#222 resulted in value: 0.2718986216096042. Current best value is 0.07412447601397609 with parameters: {'n_estimators': 250, 'criterion': 'entropy', 'max_depth': 20, 'min_samples_split': 2}.\u001b[0m\n",
      "\u001b[32m[I 2020-01-21 22:45:50,223]\u001b[0m Finished trial#223 resulted in value: 0.19239503271295177. Current best value is 0.07412447601397609 with parameters: {'n_estimators': 250, 'criterion': 'entropy', 'max_depth': 20, 'min_samples_split': 2}.\u001b[0m\n",
      "\u001b[32m[I 2020-01-21 22:45:51,491]\u001b[0m Finished trial#224 resulted in value: 0.18924019140782156. Current best value is 0.07412447601397609 with parameters: {'n_estimators': 250, 'criterion': 'entropy', 'max_depth': 20, 'min_samples_split': 2}.\u001b[0m\n",
      "\u001b[32m[I 2020-01-21 22:45:52,642]\u001b[0m Finished trial#225 resulted in value: 0.17857407525037583. Current best value is 0.07412447601397609 with parameters: {'n_estimators': 250, 'criterion': 'entropy', 'max_depth': 20, 'min_samples_split': 2}.\u001b[0m\n",
      "\u001b[32m[I 2020-01-21 22:45:53,926]\u001b[0m Finished trial#226 resulted in value: 0.1904788371551378. Current best value is 0.07412447601397609 with parameters: {'n_estimators': 250, 'criterion': 'entropy', 'max_depth': 20, 'min_samples_split': 2}.\u001b[0m\n",
      "\u001b[32m[I 2020-01-21 22:45:55,199]\u001b[0m Finished trial#227 resulted in value: 0.18228207245548278. Current best value is 0.07412447601397609 with parameters: {'n_estimators': 250, 'criterion': 'entropy', 'max_depth': 20, 'min_samples_split': 2}.\u001b[0m\n",
      "\u001b[32m[I 2020-01-21 22:45:56,372]\u001b[0m Finished trial#228 resulted in value: 0.19144222829193924. Current best value is 0.07412447601397609 with parameters: {'n_estimators': 250, 'criterion': 'entropy', 'max_depth': 20, 'min_samples_split': 2}.\u001b[0m\n",
      "\u001b[32m[I 2020-01-21 22:45:57,560]\u001b[0m Finished trial#229 resulted in value: 0.1909314192551187. Current best value is 0.07412447601397609 with parameters: {'n_estimators': 250, 'criterion': 'entropy', 'max_depth': 20, 'min_samples_split': 2}.\u001b[0m\n",
      "\u001b[32m[I 2020-01-21 22:45:58,888]\u001b[0m Finished trial#230 resulted in value: 0.19125696076563115. Current best value is 0.07412447601397609 with parameters: {'n_estimators': 250, 'criterion': 'entropy', 'max_depth': 20, 'min_samples_split': 2}.\u001b[0m\n",
      "\u001b[32m[I 2020-01-21 22:46:00,165]\u001b[0m Finished trial#231 resulted in value: 0.19275498104977873. Current best value is 0.07412447601397609 with parameters: {'n_estimators': 250, 'criterion': 'entropy', 'max_depth': 20, 'min_samples_split': 2}.\u001b[0m\n",
      "\u001b[32m[I 2020-01-21 22:46:01,357]\u001b[0m Finished trial#232 resulted in value: 0.184208854729086. Current best value is 0.07412447601397609 with parameters: {'n_estimators': 250, 'criterion': 'entropy', 'max_depth': 20, 'min_samples_split': 2}.\u001b[0m\n",
      "\u001b[32m[I 2020-01-21 22:46:02,750]\u001b[0m Finished trial#233 resulted in value: 0.18957102627622868. Current best value is 0.07412447601397609 with parameters: {'n_estimators': 250, 'criterion': 'entropy', 'max_depth': 20, 'min_samples_split': 2}.\u001b[0m\n",
      "\u001b[32m[I 2020-01-21 22:46:03,807]\u001b[0m Finished trial#234 resulted in value: 0.20125611382836817. Current best value is 0.07412447601397609 with parameters: {'n_estimators': 250, 'criterion': 'entropy', 'max_depth': 20, 'min_samples_split': 2}.\u001b[0m\n",
      "\u001b[32m[I 2020-01-21 22:46:04,959]\u001b[0m Finished trial#235 resulted in value: 0.17723220902411652. Current best value is 0.07412447601397609 with parameters: {'n_estimators': 250, 'criterion': 'entropy', 'max_depth': 20, 'min_samples_split': 2}.\u001b[0m\n",
      "\u001b[32m[I 2020-01-21 22:46:06,141]\u001b[0m Finished trial#236 resulted in value: 0.19533284634440717. Current best value is 0.07412447601397609 with parameters: {'n_estimators': 250, 'criterion': 'entropy', 'max_depth': 20, 'min_samples_split': 2}.\u001b[0m\n",
      "\u001b[32m[I 2020-01-21 22:46:07,419]\u001b[0m Finished trial#237 resulted in value: 0.1903015096656714. Current best value is 0.07412447601397609 with parameters: {'n_estimators': 250, 'criterion': 'entropy', 'max_depth': 20, 'min_samples_split': 2}.\u001b[0m\n",
      "\u001b[32m[I 2020-01-21 22:46:08,391]\u001b[0m Finished trial#238 resulted in value: 0.1925141332655782. Current best value is 0.07412447601397609 with parameters: {'n_estimators': 250, 'criterion': 'entropy', 'max_depth': 20, 'min_samples_split': 2}.\u001b[0m\n",
      "\u001b[32m[I 2020-01-21 22:46:09,537]\u001b[0m Finished trial#239 resulted in value: 0.18957631963412314. Current best value is 0.07412447601397609 with parameters: {'n_estimators': 250, 'criterion': 'entropy', 'max_depth': 20, 'min_samples_split': 2}.\u001b[0m\n",
      "\u001b[32m[I 2020-01-21 22:46:10,819]\u001b[0m Finished trial#240 resulted in value: 0.19976868026000982. Current best value is 0.07412447601397609 with parameters: {'n_estimators': 250, 'criterion': 'entropy', 'max_depth': 20, 'min_samples_split': 2}.\u001b[0m\n",
      "\u001b[32m[I 2020-01-21 22:46:12,091]\u001b[0m Finished trial#241 resulted in value: 0.18207563149759676. Current best value is 0.07412447601397609 with parameters: {'n_estimators': 250, 'criterion': 'entropy', 'max_depth': 20, 'min_samples_split': 2}.\u001b[0m\n",
      "\u001b[32m[I 2020-01-21 22:46:13,229]\u001b[0m Finished trial#242 resulted in value: 0.19288996167608885. Current best value is 0.07412447601397609 with parameters: {'n_estimators': 250, 'criterion': 'entropy', 'max_depth': 20, 'min_samples_split': 2}.\u001b[0m\n",
      "\u001b[32m[I 2020-01-21 22:46:14,182]\u001b[0m Finished trial#243 resulted in value: 0.2045088822545471. Current best value is 0.07412447601397609 with parameters: {'n_estimators': 250, 'criterion': 'entropy', 'max_depth': 20, 'min_samples_split': 2}.\u001b[0m\n",
      "\u001b[32m[I 2020-01-21 22:46:15,336]\u001b[0m Finished trial#244 resulted in value: 0.17793887230303418. Current best value is 0.07412447601397609 with parameters: {'n_estimators': 250, 'criterion': 'entropy', 'max_depth': 20, 'min_samples_split': 2}.\u001b[0m\n",
      "\u001b[32m[I 2020-01-21 22:46:16,604]\u001b[0m Finished trial#245 resulted in value: 0.19517933896546613. Current best value is 0.07412447601397609 with parameters: {'n_estimators': 250, 'criterion': 'entropy', 'max_depth': 20, 'min_samples_split': 2}.\u001b[0m\n",
      "\u001b[32m[I 2020-01-21 22:46:17,634]\u001b[0m Finished trial#246 resulted in value: 0.18367422558173996. Current best value is 0.07412447601397609 with parameters: {'n_estimators': 250, 'criterion': 'entropy', 'max_depth': 20, 'min_samples_split': 2}.\u001b[0m\n",
      "\u001b[32m[I 2020-01-21 22:46:18,892]\u001b[0m Finished trial#247 resulted in value: 0.19188687035507845. Current best value is 0.07412447601397609 with parameters: {'n_estimators': 250, 'criterion': 'entropy', 'max_depth': 20, 'min_samples_split': 2}.\u001b[0m\n"
     ]
    },
    {
     "name": "stderr",
     "output_type": "stream",
     "text": [
      "\u001b[32m[I 2020-01-21 22:46:20,054]\u001b[0m Finished trial#248 resulted in value: 0.1794342459082343. Current best value is 0.07412447601397609 with parameters: {'n_estimators': 250, 'criterion': 'entropy', 'max_depth': 20, 'min_samples_split': 2}.\u001b[0m\n",
      "\u001b[32m[I 2020-01-21 22:46:21,326]\u001b[0m Finished trial#249 resulted in value: 0.1884197209341718. Current best value is 0.07412447601397609 with parameters: {'n_estimators': 250, 'criterion': 'entropy', 'max_depth': 20, 'min_samples_split': 2}.\u001b[0m\n",
      "\u001b[32m[I 2020-01-21 22:46:22,254]\u001b[0m Finished trial#250 resulted in value: 0.1828590484659851. Current best value is 0.07412447601397609 with parameters: {'n_estimators': 250, 'criterion': 'entropy', 'max_depth': 20, 'min_samples_split': 2}.\u001b[0m\n",
      "\u001b[32m[I 2020-01-21 22:46:23,528]\u001b[0m Finished trial#251 resulted in value: 0.1927973279129348. Current best value is 0.07412447601397609 with parameters: {'n_estimators': 250, 'criterion': 'entropy', 'max_depth': 20, 'min_samples_split': 2}.\u001b[0m\n",
      "\u001b[32m[I 2020-01-21 22:46:24,779]\u001b[0m Finished trial#252 resulted in value: 0.19652385187067267. Current best value is 0.07412447601397609 with parameters: {'n_estimators': 250, 'criterion': 'entropy', 'max_depth': 20, 'min_samples_split': 2}.\u001b[0m\n",
      "\u001b[32m[I 2020-01-21 22:46:25,931]\u001b[0m Finished trial#253 resulted in value: 0.185950369476381. Current best value is 0.07412447601397609 with parameters: {'n_estimators': 250, 'criterion': 'entropy', 'max_depth': 20, 'min_samples_split': 2}.\u001b[0m\n",
      "\u001b[32m[I 2020-01-21 22:46:27,211]\u001b[0m Finished trial#254 resulted in value: 0.1892719515551886. Current best value is 0.07412447601397609 with parameters: {'n_estimators': 250, 'criterion': 'entropy', 'max_depth': 20, 'min_samples_split': 2}.\u001b[0m\n",
      "\u001b[32m[I 2020-01-21 22:46:28,247]\u001b[0m Finished trial#255 resulted in value: 0.18308666285544906. Current best value is 0.07412447601397609 with parameters: {'n_estimators': 250, 'criterion': 'entropy', 'max_depth': 20, 'min_samples_split': 2}.\u001b[0m\n",
      "\u001b[32m[I 2020-01-21 22:46:29,184]\u001b[0m Finished trial#256 resulted in value: 0.17940248576086726. Current best value is 0.07412447601397609 with parameters: {'n_estimators': 250, 'criterion': 'entropy', 'max_depth': 20, 'min_samples_split': 2}.\u001b[0m\n",
      "\u001b[32m[I 2020-01-21 22:46:30,468]\u001b[0m Finished trial#257 resulted in value: 0.1942344745812954. Current best value is 0.07412447601397609 with parameters: {'n_estimators': 250, 'criterion': 'entropy', 'max_depth': 20, 'min_samples_split': 2}.\u001b[0m\n",
      "\u001b[32m[I 2020-01-21 22:46:31,720]\u001b[0m Finished trial#258 resulted in value: 0.19460500963391136. Current best value is 0.07412447601397609 with parameters: {'n_estimators': 250, 'criterion': 'entropy', 'max_depth': 20, 'min_samples_split': 2}.\u001b[0m\n",
      "\u001b[32m[I 2020-01-21 22:46:32,557]\u001b[0m Finished trial#259 resulted in value: 0.21088737851743622. Current best value is 0.07412447601397609 with parameters: {'n_estimators': 250, 'criterion': 'entropy', 'max_depth': 20, 'min_samples_split': 2}.\u001b[0m\n",
      "\u001b[32m[I 2020-01-21 22:46:34,396]\u001b[0m Finished trial#260 resulted in value: 0.19278144783925122. Current best value is 0.07412447601397609 with parameters: {'n_estimators': 250, 'criterion': 'entropy', 'max_depth': 20, 'min_samples_split': 2}.\u001b[0m\n",
      "\u001b[32m[I 2020-01-21 22:46:35,538]\u001b[0m Finished trial#261 resulted in value: 0.17194414448749717. Current best value is 0.07412447601397609 with parameters: {'n_estimators': 250, 'criterion': 'entropy', 'max_depth': 20, 'min_samples_split': 2}.\u001b[0m\n",
      "\u001b[32m[I 2020-01-21 22:46:36,682]\u001b[0m Finished trial#262 resulted in value: 0.1957351415443902. Current best value is 0.07412447601397609 with parameters: {'n_estimators': 250, 'criterion': 'entropy', 'max_depth': 20, 'min_samples_split': 2}.\u001b[0m\n",
      "\u001b[32m[I 2020-01-21 22:46:37,856]\u001b[0m Finished trial#263 resulted in value: 0.19814626606534114. Current best value is 0.07412447601397609 with parameters: {'n_estimators': 250, 'criterion': 'entropy', 'max_depth': 20, 'min_samples_split': 2}.\u001b[0m\n",
      "\u001b[32m[I 2020-01-21 22:46:41,265]\u001b[0m Finished trial#264 resulted in value: 0.18779245802367184. Current best value is 0.07412447601397609 with parameters: {'n_estimators': 250, 'criterion': 'entropy', 'max_depth': 20, 'min_samples_split': 2}.\u001b[0m\n",
      "\u001b[32m[I 2020-01-21 22:46:42,538]\u001b[0m Finished trial#265 resulted in value: 0.19809862584429072. Current best value is 0.07412447601397609 with parameters: {'n_estimators': 250, 'criterion': 'entropy', 'max_depth': 20, 'min_samples_split': 2}.\u001b[0m\n",
      "\u001b[32m[I 2020-01-21 22:46:43,705]\u001b[0m Finished trial#266 resulted in value: 0.18922960469203243. Current best value is 0.07412447601397609 with parameters: {'n_estimators': 250, 'criterion': 'entropy', 'max_depth': 20, 'min_samples_split': 2}.\u001b[0m\n",
      "\u001b[32m[I 2020-01-21 22:46:44,628]\u001b[0m Finished trial#267 resulted in value: 0.18448410933960058. Current best value is 0.07412447601397609 with parameters: {'n_estimators': 250, 'criterion': 'entropy', 'max_depth': 20, 'min_samples_split': 2}.\u001b[0m\n",
      "\u001b[32m[I 2020-01-21 22:46:45,883]\u001b[0m Finished trial#268 resulted in value: 0.19090495246564598. Current best value is 0.07412447601397609 with parameters: {'n_estimators': 250, 'criterion': 'entropy', 'max_depth': 20, 'min_samples_split': 2}.\u001b[0m\n",
      "\u001b[32m[I 2020-01-21 22:46:46,924]\u001b[0m Finished trial#269 resulted in value: 0.19351193122869415. Current best value is 0.07412447601397609 with parameters: {'n_estimators': 250, 'criterion': 'entropy', 'max_depth': 20, 'min_samples_split': 2}.\u001b[0m\n",
      "\u001b[32m[I 2020-01-21 22:46:47,892]\u001b[0m Finished trial#270 resulted in value: 0.19637299117067908. Current best value is 0.07412447601397609 with parameters: {'n_estimators': 250, 'criterion': 'entropy', 'max_depth': 20, 'min_samples_split': 2}.\u001b[0m\n",
      "\u001b[32m[I 2020-01-21 22:46:49,140]\u001b[0m Finished trial#271 resulted in value: 0.18031294331872372. Current best value is 0.07412447601397609 with parameters: {'n_estimators': 250, 'criterion': 'entropy', 'max_depth': 20, 'min_samples_split': 2}.\u001b[0m\n",
      "\u001b[32m[I 2020-01-21 22:46:50,345]\u001b[0m Finished trial#272 resulted in value: 0.19311228270765846. Current best value is 0.07412447601397609 with parameters: {'n_estimators': 250, 'criterion': 'entropy', 'max_depth': 20, 'min_samples_split': 2}.\u001b[0m\n",
      "\u001b[32m[I 2020-01-21 22:46:51,725]\u001b[0m Finished trial#273 resulted in value: 0.19301700226555718. Current best value is 0.07412447601397609 with parameters: {'n_estimators': 250, 'criterion': 'entropy', 'max_depth': 20, 'min_samples_split': 2}.\u001b[0m\n",
      "\u001b[32m[I 2020-01-21 22:46:53,036]\u001b[0m Finished trial#274 resulted in value: 0.18469584365538116. Current best value is 0.07412447601397609 with parameters: {'n_estimators': 250, 'criterion': 'entropy', 'max_depth': 20, 'min_samples_split': 2}.\u001b[0m\n",
      "\u001b[32m[I 2020-01-21 22:46:54,338]\u001b[0m Finished trial#275 resulted in value: 0.18075229202396836. Current best value is 0.07412447601397609 with parameters: {'n_estimators': 250, 'criterion': 'entropy', 'max_depth': 20, 'min_samples_split': 2}.\u001b[0m\n",
      "\u001b[32m[I 2020-01-21 22:46:55,292]\u001b[0m Finished trial#276 resulted in value: 0.27450560037265237. Current best value is 0.07412447601397609 with parameters: {'n_estimators': 250, 'criterion': 'entropy', 'max_depth': 20, 'min_samples_split': 2}.\u001b[0m\n",
      "\u001b[32m[I 2020-01-21 22:46:56,522]\u001b[0m Finished trial#277 resulted in value: 0.1914554616866756. Current best value is 0.07412447601397609 with parameters: {'n_estimators': 250, 'criterion': 'entropy', 'max_depth': 20, 'min_samples_split': 2}.\u001b[0m\n",
      "\u001b[32m[I 2020-01-21 22:46:57,715]\u001b[0m Finished trial#278 resulted in value: 0.18405534735014506. Current best value is 0.07412447601397609 with parameters: {'n_estimators': 250, 'criterion': 'entropy', 'max_depth': 20, 'min_samples_split': 2}.\u001b[0m\n",
      "\u001b[32m[I 2020-01-21 22:46:58,897]\u001b[0m Finished trial#279 resulted in value: 0.19136282792352155. Current best value is 0.07412447601397609 with parameters: {'n_estimators': 250, 'criterion': 'entropy', 'max_depth': 20, 'min_samples_split': 2}.\u001b[0m\n",
      "\u001b[32m[I 2020-01-21 22:47:00,288]\u001b[0m Finished trial#280 resulted in value: 0.1949623112917911. Current best value is 0.07412447601397609 with parameters: {'n_estimators': 250, 'criterion': 'entropy', 'max_depth': 20, 'min_samples_split': 2}.\u001b[0m\n",
      "\u001b[32m[I 2020-01-21 22:47:01,470]\u001b[0m Finished trial#281 resulted in value: 0.19011094878146906. Current best value is 0.07412447601397609 with parameters: {'n_estimators': 250, 'criterion': 'entropy', 'max_depth': 20, 'min_samples_split': 2}.\u001b[0m\n"
     ]
    },
    {
     "name": "stderr",
     "output_type": "stream",
     "text": [
      "\u001b[32m[I 2020-01-21 22:47:02,522]\u001b[0m Finished trial#282 resulted in value: 0.18421150140803322. Current best value is 0.07412447601397609 with parameters: {'n_estimators': 250, 'criterion': 'entropy', 'max_depth': 20, 'min_samples_split': 2}.\u001b[0m\n",
      "\u001b[32m[I 2020-01-21 22:47:03,902]\u001b[0m Finished trial#283 resulted in value: 0.1805776112134494. Current best value is 0.07412447601397609 with parameters: {'n_estimators': 250, 'criterion': 'entropy', 'max_depth': 20, 'min_samples_split': 2}.\u001b[0m\n",
      "\u001b[32m[I 2020-01-21 22:47:05,123]\u001b[0m Finished trial#284 resulted in value: 0.18838531410785742. Current best value is 0.07412447601397609 with parameters: {'n_estimators': 250, 'criterion': 'entropy', 'max_depth': 20, 'min_samples_split': 2}.\u001b[0m\n",
      "\u001b[32m[I 2020-01-21 22:47:06,346]\u001b[0m Finished trial#285 resulted in value: 0.19075673844459962. Current best value is 0.07412447601397609 with parameters: {'n_estimators': 250, 'criterion': 'entropy', 'max_depth': 20, 'min_samples_split': 2}.\u001b[0m\n",
      "\u001b[32m[I 2020-01-21 22:47:07,754]\u001b[0m Finished trial#286 resulted in value: 0.19011359546041628. Current best value is 0.07412447601397609 with parameters: {'n_estimators': 250, 'criterion': 'entropy', 'max_depth': 20, 'min_samples_split': 2}.\u001b[0m\n",
      "\u001b[32m[I 2020-01-21 22:47:08,931]\u001b[0m Finished trial#287 resulted in value: 0.18563276800271022. Current best value is 0.07412447601397609 with parameters: {'n_estimators': 250, 'criterion': 'entropy', 'max_depth': 20, 'min_samples_split': 2}.\u001b[0m\n",
      "\u001b[32m[I 2020-01-21 22:47:09,901]\u001b[0m Finished trial#288 resulted in value: 0.20463062948612076. Current best value is 0.07412447601397609 with parameters: {'n_estimators': 250, 'criterion': 'entropy', 'max_depth': 20, 'min_samples_split': 2}.\u001b[0m\n",
      "\u001b[32m[I 2020-01-21 22:47:11,112]\u001b[0m Finished trial#289 resulted in value: 0.17802621270829355. Current best value is 0.07412447601397609 with parameters: {'n_estimators': 250, 'criterion': 'entropy', 'max_depth': 20, 'min_samples_split': 2}.\u001b[0m\n",
      "\u001b[32m[I 2020-01-21 22:47:12,340]\u001b[0m Finished trial#290 resulted in value: 0.17929661860297696. Current best value is 0.07412447601397609 with parameters: {'n_estimators': 250, 'criterion': 'entropy', 'max_depth': 20, 'min_samples_split': 2}.\u001b[0m\n",
      "\u001b[32m[I 2020-01-21 22:47:13,767]\u001b[0m Finished trial#291 resulted in value: 0.20899500307014762. Current best value is 0.07412447601397609 with parameters: {'n_estimators': 250, 'criterion': 'entropy', 'max_depth': 20, 'min_samples_split': 2}.\u001b[0m\n",
      "\u001b[32m[I 2020-01-21 22:47:14,702]\u001b[0m Finished trial#292 resulted in value: 0.18759131042368038. Current best value is 0.07412447601397609 with parameters: {'n_estimators': 250, 'criterion': 'entropy', 'max_depth': 20, 'min_samples_split': 2}.\u001b[0m\n",
      "\u001b[32m[I 2020-01-21 22:47:15,550]\u001b[0m Finished trial#293 resulted in value: 0.1882212200131277. Current best value is 0.07412447601397609 with parameters: {'n_estimators': 250, 'criterion': 'entropy', 'max_depth': 20, 'min_samples_split': 2}.\u001b[0m\n",
      "\u001b[32m[I 2020-01-21 22:47:16,887]\u001b[0m Finished trial#294 resulted in value: 0.19940873192318276. Current best value is 0.07412447601397609 with parameters: {'n_estimators': 250, 'criterion': 'entropy', 'max_depth': 20, 'min_samples_split': 2}.\u001b[0m\n",
      "\u001b[32m[I 2020-01-21 22:47:18,038]\u001b[0m Finished trial#295 resulted in value: 0.19615596349700393. Current best value is 0.07412447601397609 with parameters: {'n_estimators': 250, 'criterion': 'entropy', 'max_depth': 20, 'min_samples_split': 2}.\u001b[0m\n",
      "\u001b[32m[I 2020-01-21 22:47:19,419]\u001b[0m Finished trial#296 resulted in value: 0.1938268860234177. Current best value is 0.07412447601397609 with parameters: {'n_estimators': 250, 'criterion': 'entropy', 'max_depth': 20, 'min_samples_split': 2}.\u001b[0m\n",
      "\u001b[32m[I 2020-01-21 22:47:20,673]\u001b[0m Finished trial#297 resulted in value: 0.18907874399203872. Current best value is 0.07412447601397609 with parameters: {'n_estimators': 250, 'criterion': 'entropy', 'max_depth': 20, 'min_samples_split': 2}.\u001b[0m\n",
      "\u001b[32m[I 2020-01-21 22:47:21,505]\u001b[0m Finished trial#298 resulted in value: 0.27329606809375606. Current best value is 0.07412447601397609 with parameters: {'n_estimators': 250, 'criterion': 'entropy', 'max_depth': 20, 'min_samples_split': 2}.\u001b[0m\n",
      "\u001b[32m[I 2020-01-21 22:47:22,661]\u001b[0m Finished trial#299 resulted in value: 0.17602532342416732. Current best value is 0.07412447601397609 with parameters: {'n_estimators': 250, 'criterion': 'entropy', 'max_depth': 20, 'min_samples_split': 2}.\u001b[0m\n",
      "\u001b[32m[I 2020-01-21 22:47:23,697]\u001b[0m Finished trial#300 resulted in value: 0.1940571470918292. Current best value is 0.07412447601397609 with parameters: {'n_estimators': 250, 'criterion': 'entropy', 'max_depth': 20, 'min_samples_split': 2}.\u001b[0m\n",
      "\u001b[32m[I 2020-01-21 22:47:24,981]\u001b[0m Finished trial#301 resulted in value: 0.1881259395710262. Current best value is 0.07412447601397609 with parameters: {'n_estimators': 250, 'criterion': 'entropy', 'max_depth': 20, 'min_samples_split': 2}.\u001b[0m\n",
      "\u001b[32m[I 2020-01-21 22:47:26,525]\u001b[0m Finished trial#302 resulted in value: 0.1845740964238075. Current best value is 0.07412447601397609 with parameters: {'n_estimators': 250, 'criterion': 'entropy', 'max_depth': 20, 'min_samples_split': 2}.\u001b[0m\n",
      "\u001b[32m[I 2020-01-21 22:47:27,916]\u001b[0m Finished trial#303 resulted in value: 0.20169016917571825. Current best value is 0.07412447601397609 with parameters: {'n_estimators': 250, 'criterion': 'entropy', 'max_depth': 20, 'min_samples_split': 2}.\u001b[0m\n",
      "\u001b[32m[I 2020-01-21 22:47:29,192]\u001b[0m Finished trial#304 resulted in value: 0.1858550890342796. Current best value is 0.07412447601397609 with parameters: {'n_estimators': 250, 'criterion': 'entropy', 'max_depth': 20, 'min_samples_split': 2}.\u001b[0m\n",
      "\u001b[32m[I 2020-01-21 22:47:29,789]\u001b[0m Finished trial#305 resulted in value: 0.2090294098964619. Current best value is 0.07412447601397609 with parameters: {'n_estimators': 250, 'criterion': 'entropy', 'max_depth': 20, 'min_samples_split': 2}.\u001b[0m\n",
      "\u001b[32m[I 2020-01-21 22:47:31,295]\u001b[0m Finished trial#306 resulted in value: 0.1961797836075293. Current best value is 0.07412447601397609 with parameters: {'n_estimators': 250, 'criterion': 'entropy', 'max_depth': 20, 'min_samples_split': 2}.\u001b[0m\n",
      "\u001b[32m[I 2020-01-21 22:47:32,353]\u001b[0m Finished trial#307 resulted in value: 0.17387092676110028. Current best value is 0.07412447601397609 with parameters: {'n_estimators': 250, 'criterion': 'entropy', 'max_depth': 20, 'min_samples_split': 2}.\u001b[0m\n",
      "\u001b[32m[I 2020-01-21 22:47:34,741]\u001b[0m Finished trial#308 resulted in value: 0.1944382688602342. Current best value is 0.07412447601397609 with parameters: {'n_estimators': 250, 'criterion': 'entropy', 'max_depth': 20, 'min_samples_split': 2}.\u001b[0m\n",
      "\u001b[32m[I 2020-01-21 22:47:37,875]\u001b[0m Finished trial#309 resulted in value: 0.18922431133413797. Current best value is 0.07412447601397609 with parameters: {'n_estimators': 250, 'criterion': 'entropy', 'max_depth': 20, 'min_samples_split': 2}.\u001b[0m\n",
      "\u001b[32m[I 2020-01-21 22:47:39,162]\u001b[0m Finished trial#310 resulted in value: 0.19088377903406795. Current best value is 0.07412447601397609 with parameters: {'n_estimators': 250, 'criterion': 'entropy', 'max_depth': 20, 'min_samples_split': 2}.\u001b[0m\n",
      "\u001b[32m[I 2020-01-21 22:47:40,144]\u001b[0m Finished trial#311 resulted in value: 0.20406953354930235. Current best value is 0.07412447601397609 with parameters: {'n_estimators': 250, 'criterion': 'entropy', 'max_depth': 20, 'min_samples_split': 2}.\u001b[0m\n",
      "\u001b[32m[I 2020-01-21 22:47:41,421]\u001b[0m Finished trial#312 resulted in value: 0.1919795041182326. Current best value is 0.07412447601397609 with parameters: {'n_estimators': 250, 'criterion': 'entropy', 'max_depth': 20, 'min_samples_split': 2}.\u001b[0m\n",
      "\u001b[32m[I 2020-01-21 22:47:43,754]\u001b[0m Finished trial#313 resulted in value: 0.18295432890808616. Current best value is 0.07412447601397609 with parameters: {'n_estimators': 250, 'criterion': 'entropy', 'max_depth': 20, 'min_samples_split': 2}.\u001b[0m\n",
      "\u001b[32m[I 2020-01-21 22:47:44,807]\u001b[0m Finished trial#314 resulted in value: 0.18599006966058984. Current best value is 0.07412447601397609 with parameters: {'n_estimators': 250, 'criterion': 'entropy', 'max_depth': 20, 'min_samples_split': 2}.\u001b[0m\n",
      "\u001b[32m[I 2020-01-21 22:47:46,126]\u001b[0m Finished trial#315 resulted in value: 0.19084143217091198. Current best value is 0.07412447601397609 with parameters: {'n_estimators': 250, 'criterion': 'entropy', 'max_depth': 20, 'min_samples_split': 2}.\u001b[0m\n"
     ]
    },
    {
     "name": "stderr",
     "output_type": "stream",
     "text": [
      "\u001b[32m[I 2020-01-21 22:47:47,430]\u001b[0m Finished trial#316 resulted in value: 0.18726047555527325. Current best value is 0.07412447601397609 with parameters: {'n_estimators': 250, 'criterion': 'entropy', 'max_depth': 20, 'min_samples_split': 2}.\u001b[0m\n",
      "\u001b[32m[I 2020-01-21 22:47:48,621]\u001b[0m Finished trial#317 resulted in value: 0.17821148023460154. Current best value is 0.07412447601397609 with parameters: {'n_estimators': 250, 'criterion': 'entropy', 'max_depth': 20, 'min_samples_split': 2}.\u001b[0m\n",
      "\u001b[32m[I 2020-01-21 22:47:49,811]\u001b[0m Finished trial#318 resulted in value: 0.17776154481356798. Current best value is 0.07412447601397609 with parameters: {'n_estimators': 250, 'criterion': 'entropy', 'max_depth': 20, 'min_samples_split': 2}.\u001b[0m\n",
      "\u001b[32m[I 2020-01-21 22:47:51,085]\u001b[0m Finished trial#319 resulted in value: 0.22657953799572295. Current best value is 0.07412447601397609 with parameters: {'n_estimators': 250, 'criterion': 'entropy', 'max_depth': 20, 'min_samples_split': 2}.\u001b[0m\n",
      "\u001b[32m[I 2020-01-21 22:47:51,950]\u001b[0m Finished trial#320 resulted in value: 0.27121842512015926. Current best value is 0.07412447601397609 with parameters: {'n_estimators': 250, 'criterion': 'entropy', 'max_depth': 20, 'min_samples_split': 2}.\u001b[0m\n",
      "\u001b[32m[I 2020-01-21 22:47:52,895]\u001b[0m Finished trial#321 resulted in value: 0.18586302907112162. Current best value is 0.07412447601397609 with parameters: {'n_estimators': 250, 'criterion': 'entropy', 'max_depth': 20, 'min_samples_split': 2}.\u001b[0m\n",
      "\u001b[32m[I 2020-01-21 22:47:54,294]\u001b[0m Finished trial#322 resulted in value: 0.19020093586567566. Current best value is 0.07412447601397609 with parameters: {'n_estimators': 250, 'criterion': 'entropy', 'max_depth': 20, 'min_samples_split': 2}.\u001b[0m\n",
      "\u001b[32m[I 2020-01-21 22:47:55,254]\u001b[0m Finished trial#323 resulted in value: 0.19254854009189282. Current best value is 0.07412447601397609 with parameters: {'n_estimators': 250, 'criterion': 'entropy', 'max_depth': 20, 'min_samples_split': 2}.\u001b[0m\n",
      "\u001b[32m[I 2020-01-21 22:47:56,745]\u001b[0m Finished trial#324 resulted in value: 0.19546253361282262. Current best value is 0.07412447601397609 with parameters: {'n_estimators': 250, 'criterion': 'entropy', 'max_depth': 20, 'min_samples_split': 2}.\u001b[0m\n",
      "\u001b[32m[I 2020-01-21 22:47:57,913]\u001b[0m Finished trial#325 resulted in value: 0.17776154481356798. Current best value is 0.07412447601397609 with parameters: {'n_estimators': 250, 'criterion': 'entropy', 'max_depth': 20, 'min_samples_split': 2}.\u001b[0m\n",
      "\u001b[32m[I 2020-01-21 22:47:59,085]\u001b[0m Finished trial#326 resulted in value: 0.18416915454487703. Current best value is 0.07412447601397609 with parameters: {'n_estimators': 250, 'criterion': 'entropy', 'max_depth': 20, 'min_samples_split': 2}.\u001b[0m\n",
      "\u001b[32m[I 2020-01-21 22:48:00,414]\u001b[0m Finished trial#327 resulted in value: 0.1928158546655656. Current best value is 0.07412447601397609 with parameters: {'n_estimators': 250, 'criterion': 'entropy', 'max_depth': 20, 'min_samples_split': 2}.\u001b[0m\n",
      "\u001b[32m[I 2020-01-21 22:48:01,694]\u001b[0m Finished trial#328 resulted in value: 0.1860827034237439. Current best value is 0.07412447601397609 with parameters: {'n_estimators': 250, 'criterion': 'entropy', 'max_depth': 20, 'min_samples_split': 2}.\u001b[0m\n",
      "\u001b[32m[I 2020-01-21 22:48:02,750]\u001b[0m Finished trial#329 resulted in value: 0.18391242668699315. Current best value is 0.07412447601397609 with parameters: {'n_estimators': 250, 'criterion': 'entropy', 'max_depth': 20, 'min_samples_split': 2}.\u001b[0m\n",
      "\u001b[32m[I 2020-01-21 22:48:03,789]\u001b[0m Finished trial#330 resulted in value: 0.18600330305532609. Current best value is 0.07412447601397609 with parameters: {'n_estimators': 250, 'criterion': 'entropy', 'max_depth': 20, 'min_samples_split': 2}.\u001b[0m\n",
      "\u001b[32m[I 2020-01-21 22:48:05,081]\u001b[0m Finished trial#331 resulted in value: 0.1884011941815409. Current best value is 0.07412447601397609 with parameters: {'n_estimators': 250, 'criterion': 'entropy', 'max_depth': 20, 'min_samples_split': 2}.\u001b[0m\n",
      "\u001b[32m[I 2020-01-21 22:48:06,140]\u001b[0m Finished trial#332 resulted in value: 0.19581454191280767. Current best value is 0.07412447601397609 with parameters: {'n_estimators': 250, 'criterion': 'entropy', 'max_depth': 20, 'min_samples_split': 2}.\u001b[0m\n",
      "\u001b[32m[I 2020-01-21 22:48:07,113]\u001b[0m Finished trial#333 resulted in value: 0.19742107603379278. Current best value is 0.07412447601397609 with parameters: {'n_estimators': 250, 'criterion': 'entropy', 'max_depth': 20, 'min_samples_split': 2}.\u001b[0m\n",
      "\u001b[32m[I 2020-01-21 22:48:08,162]\u001b[0m Finished trial#334 resulted in value: 0.19817273285481374. Current best value is 0.07412447601397609 with parameters: {'n_estimators': 250, 'criterion': 'entropy', 'max_depth': 20, 'min_samples_split': 2}.\u001b[0m\n",
      "\u001b[32m[I 2020-01-21 22:48:08,878]\u001b[0m Finished trial#335 resulted in value: 0.19052912405513567. Current best value is 0.07412447601397609 with parameters: {'n_estimators': 250, 'criterion': 'entropy', 'max_depth': 20, 'min_samples_split': 2}.\u001b[0m\n",
      "\u001b[32m[I 2020-01-21 22:48:10,278]\u001b[0m Finished trial#336 resulted in value: 0.1942265345444536. Current best value is 0.07412447601397609 with parameters: {'n_estimators': 250, 'criterion': 'entropy', 'max_depth': 20, 'min_samples_split': 2}.\u001b[0m\n",
      "\u001b[32m[I 2020-01-21 22:48:11,561]\u001b[0m Finished trial#337 resulted in value: 0.1854898473395583. Current best value is 0.07412447601397609 with parameters: {'n_estimators': 250, 'criterion': 'entropy', 'max_depth': 20, 'min_samples_split': 2}.\u001b[0m\n",
      "\u001b[32m[I 2020-01-21 22:48:12,725]\u001b[0m Finished trial#338 resulted in value: 0.19041267018145625. Current best value is 0.07412447601397609 with parameters: {'n_estimators': 250, 'criterion': 'entropy', 'max_depth': 20, 'min_samples_split': 2}.\u001b[0m\n",
      "\u001b[32m[I 2020-01-21 22:48:14,003]\u001b[0m Finished trial#339 resulted in value: 0.19486703084968993. Current best value is 0.07412447601397609 with parameters: {'n_estimators': 250, 'criterion': 'entropy', 'max_depth': 20, 'min_samples_split': 2}.\u001b[0m\n",
      "\u001b[32m[I 2020-01-21 22:48:15,306]\u001b[0m Finished trial#340 resulted in value: 0.20086175866522682. Current best value is 0.07412447601397609 with parameters: {'n_estimators': 250, 'criterion': 'entropy', 'max_depth': 20, 'min_samples_split': 2}.\u001b[0m\n",
      "\u001b[32m[I 2020-01-21 22:48:16,398]\u001b[0m Finished trial#341 resulted in value: 0.1838541997501535. Current best value is 0.07412447601397609 with parameters: {'n_estimators': 250, 'criterion': 'entropy', 'max_depth': 20, 'min_samples_split': 2}.\u001b[0m\n",
      "\u001b[32m[I 2020-01-21 22:48:17,588]\u001b[0m Finished trial#342 resulted in value: 0.17969362044506543. Current best value is 0.07412447601397609 with parameters: {'n_estimators': 250, 'criterion': 'entropy', 'max_depth': 20, 'min_samples_split': 2}.\u001b[0m\n",
      "\u001b[32m[I 2020-01-21 22:48:18,683]\u001b[0m Finished trial#343 resulted in value: 0.21140348091215133. Current best value is 0.07412447601397609 with parameters: {'n_estimators': 250, 'criterion': 'entropy', 'max_depth': 20, 'min_samples_split': 2}.\u001b[0m\n",
      "\u001b[32m[I 2020-01-21 22:48:20,076]\u001b[0m Finished trial#344 resulted in value: 0.18989921446568847. Current best value is 0.07412447601397609 with parameters: {'n_estimators': 250, 'criterion': 'entropy', 'max_depth': 20, 'min_samples_split': 2}.\u001b[0m\n",
      "\u001b[32m[I 2020-01-21 22:48:21,135]\u001b[0m Finished trial#345 resulted in value: 0.1835895318554278. Current best value is 0.07412447601397609 with parameters: {'n_estimators': 250, 'criterion': 'entropy', 'max_depth': 20, 'min_samples_split': 2}.\u001b[0m\n",
      "\u001b[32m[I 2020-01-21 22:48:22,178]\u001b[0m Finished trial#346 resulted in value: 0.18814181964470977. Current best value is 0.07412447601397609 with parameters: {'n_estimators': 250, 'criterion': 'entropy', 'max_depth': 20, 'min_samples_split': 2}.\u001b[0m\n"
     ]
    }
   ],
   "source": [
    "%%time\n",
    "study.optimize(rf_ojbective, n_trials=1000, timeout=600)"
   ]
  },
  {
   "cell_type": "code",
   "execution_count": 20,
   "metadata": {},
   "outputs": [
    {
     "data": {
      "text/html": [
       "<div>\n",
       "<style scoped>\n",
       "    .dataframe tbody tr th:only-of-type {\n",
       "        vertical-align: middle;\n",
       "    }\n",
       "\n",
       "    .dataframe tbody tr th {\n",
       "        vertical-align: top;\n",
       "    }\n",
       "\n",
       "    .dataframe thead th {\n",
       "        text-align: right;\n",
       "    }\n",
       "</style>\n",
       "<table border=\"1\" class=\"dataframe\">\n",
       "  <thead>\n",
       "    <tr style=\"text-align: right;\">\n",
       "      <th></th>\n",
       "      <th>number</th>\n",
       "      <th>value</th>\n",
       "      <th>params_criterion</th>\n",
       "      <th>params_max_depth</th>\n",
       "      <th>params_min_samples_split</th>\n",
       "      <th>params_n_estimators</th>\n",
       "      <th>state</th>\n",
       "    </tr>\n",
       "  </thead>\n",
       "  <tbody>\n",
       "    <tr>\n",
       "      <th>0</th>\n",
       "      <td>0</td>\n",
       "      <td>0.149566</td>\n",
       "      <td>entropy</td>\n",
       "      <td>37</td>\n",
       "      <td>2</td>\n",
       "      <td>250</td>\n",
       "      <td>COMPLETE</td>\n",
       "    </tr>\n",
       "    <tr>\n",
       "      <th>1</th>\n",
       "      <td>1</td>\n",
       "      <td>0.150388</td>\n",
       "      <td>gini</td>\n",
       "      <td>13</td>\n",
       "      <td>10</td>\n",
       "      <td>295</td>\n",
       "      <td>COMPLETE</td>\n",
       "    </tr>\n",
       "    <tr>\n",
       "      <th>2</th>\n",
       "      <td>2</td>\n",
       "      <td>0.148732</td>\n",
       "      <td>entropy</td>\n",
       "      <td>31</td>\n",
       "      <td>10</td>\n",
       "      <td>264</td>\n",
       "      <td>COMPLETE</td>\n",
       "    </tr>\n",
       "    <tr>\n",
       "      <th>3</th>\n",
       "      <td>3</td>\n",
       "      <td>0.153582</td>\n",
       "      <td>gini</td>\n",
       "      <td>9</td>\n",
       "      <td>2</td>\n",
       "      <td>388</td>\n",
       "      <td>COMPLETE</td>\n",
       "    </tr>\n",
       "    <tr>\n",
       "      <th>4</th>\n",
       "      <td>4</td>\n",
       "      <td>0.164670</td>\n",
       "      <td>gini</td>\n",
       "      <td>11</td>\n",
       "      <td>7</td>\n",
       "      <td>16</td>\n",
       "      <td>COMPLETE</td>\n",
       "    </tr>\n",
       "    <tr>\n",
       "      <th>...</th>\n",
       "      <td>...</td>\n",
       "      <td>...</td>\n",
       "      <td>...</td>\n",
       "      <td>...</td>\n",
       "      <td>...</td>\n",
       "      <td>...</td>\n",
       "      <td>...</td>\n",
       "    </tr>\n",
       "    <tr>\n",
       "      <th>228</th>\n",
       "      <td>228</td>\n",
       "      <td>0.135762</td>\n",
       "      <td>entropy</td>\n",
       "      <td>11</td>\n",
       "      <td>6</td>\n",
       "      <td>480</td>\n",
       "      <td>COMPLETE</td>\n",
       "    </tr>\n",
       "    <tr>\n",
       "      <th>229</th>\n",
       "      <td>229</td>\n",
       "      <td>0.142828</td>\n",
       "      <td>entropy</td>\n",
       "      <td>13</td>\n",
       "      <td>6</td>\n",
       "      <td>265</td>\n",
       "      <td>COMPLETE</td>\n",
       "    </tr>\n",
       "    <tr>\n",
       "      <th>230</th>\n",
       "      <td>230</td>\n",
       "      <td>0.135471</td>\n",
       "      <td>entropy</td>\n",
       "      <td>11</td>\n",
       "      <td>6</td>\n",
       "      <td>469</td>\n",
       "      <td>COMPLETE</td>\n",
       "    </tr>\n",
       "    <tr>\n",
       "      <th>231</th>\n",
       "      <td>231</td>\n",
       "      <td>0.140893</td>\n",
       "      <td>entropy</td>\n",
       "      <td>12</td>\n",
       "      <td>6</td>\n",
       "      <td>467</td>\n",
       "      <td>COMPLETE</td>\n",
       "    </tr>\n",
       "    <tr>\n",
       "      <th>232</th>\n",
       "      <td>232</td>\n",
       "      <td>0.135535</td>\n",
       "      <td>entropy</td>\n",
       "      <td>10</td>\n",
       "      <td>6</td>\n",
       "      <td>491</td>\n",
       "      <td>COMPLETE</td>\n",
       "    </tr>\n",
       "  </tbody>\n",
       "</table>\n",
       "<p>233 rows × 7 columns</p>\n",
       "</div>"
      ],
      "text/plain": [
       "     number     value params_criterion  params_max_depth  \\\n",
       "0         0  0.149566          entropy                37   \n",
       "1         1  0.150388             gini                13   \n",
       "2         2  0.148732          entropy                31   \n",
       "3         3  0.153582             gini                 9   \n",
       "4         4  0.164670             gini                11   \n",
       "..      ...       ...              ...               ...   \n",
       "228     228  0.135762          entropy                11   \n",
       "229     229  0.142828          entropy                13   \n",
       "230     230  0.135471          entropy                11   \n",
       "231     231  0.140893          entropy                12   \n",
       "232     232  0.135535          entropy                10   \n",
       "\n",
       "     params_min_samples_split  params_n_estimators     state  \n",
       "0                           2                  250  COMPLETE  \n",
       "1                          10                  295  COMPLETE  \n",
       "2                          10                  264  COMPLETE  \n",
       "3                           2                  388  COMPLETE  \n",
       "4                           7                   16  COMPLETE  \n",
       "..                        ...                  ...       ...  \n",
       "228                         6                  480  COMPLETE  \n",
       "229                         6                  265  COMPLETE  \n",
       "230                         6                  469  COMPLETE  \n",
       "231                         6                  467  COMPLETE  \n",
       "232                         6                  491  COMPLETE  \n",
       "\n",
       "[233 rows x 7 columns]"
      ]
     },
     "execution_count": 20,
     "metadata": {},
     "output_type": "execute_result"
    }
   ],
   "source": [
    "df = study.trials_dataframe(attrs=('number', 'value', 'params', 'state'))\n",
    "df"
   ]
  },
  {
   "cell_type": "code",
   "execution_count": 22,
   "metadata": {},
   "outputs": [],
   "source": [
    "df['auc'] = 1 - df['value']"
   ]
  },
  {
   "cell_type": "code",
   "execution_count": 25,
   "metadata": {},
   "outputs": [
    {
     "data": {
      "text/html": [
       "<div>\n",
       "<style scoped>\n",
       "    .dataframe tbody tr th:only-of-type {\n",
       "        vertical-align: middle;\n",
       "    }\n",
       "\n",
       "    .dataframe tbody tr th {\n",
       "        vertical-align: top;\n",
       "    }\n",
       "\n",
       "    .dataframe thead th {\n",
       "        text-align: right;\n",
       "    }\n",
       "</style>\n",
       "<table border=\"1\" class=\"dataframe\">\n",
       "  <thead>\n",
       "    <tr style=\"text-align: right;\">\n",
       "      <th></th>\n",
       "      <th>number</th>\n",
       "      <th>value</th>\n",
       "      <th>params_criterion</th>\n",
       "      <th>params_max_depth</th>\n",
       "      <th>params_min_samples_split</th>\n",
       "      <th>params_n_estimators</th>\n",
       "      <th>state</th>\n",
       "      <th>auc</th>\n",
       "    </tr>\n",
       "  </thead>\n",
       "  <tbody>\n",
       "    <tr>\n",
       "      <th>35</th>\n",
       "      <td>35</td>\n",
       "      <td>0.134325</td>\n",
       "      <td>entropy</td>\n",
       "      <td>12</td>\n",
       "      <td>5</td>\n",
       "      <td>240</td>\n",
       "      <td>COMPLETE</td>\n",
       "      <td>0.865675</td>\n",
       "    </tr>\n",
       "    <tr>\n",
       "      <th>213</th>\n",
       "      <td>213</td>\n",
       "      <td>0.135372</td>\n",
       "      <td>entropy</td>\n",
       "      <td>11</td>\n",
       "      <td>6</td>\n",
       "      <td>468</td>\n",
       "      <td>COMPLETE</td>\n",
       "      <td>0.864628</td>\n",
       "    </tr>\n",
       "    <tr>\n",
       "      <th>211</th>\n",
       "      <td>211</td>\n",
       "      <td>0.135376</td>\n",
       "      <td>entropy</td>\n",
       "      <td>11</td>\n",
       "      <td>6</td>\n",
       "      <td>467</td>\n",
       "      <td>COMPLETE</td>\n",
       "      <td>0.864624</td>\n",
       "    </tr>\n",
       "    <tr>\n",
       "      <th>230</th>\n",
       "      <td>230</td>\n",
       "      <td>0.135471</td>\n",
       "      <td>entropy</td>\n",
       "      <td>11</td>\n",
       "      <td>6</td>\n",
       "      <td>469</td>\n",
       "      <td>COMPLETE</td>\n",
       "      <td>0.864529</td>\n",
       "    </tr>\n",
       "    <tr>\n",
       "      <th>208</th>\n",
       "      <td>208</td>\n",
       "      <td>0.135471</td>\n",
       "      <td>entropy</td>\n",
       "      <td>11</td>\n",
       "      <td>6</td>\n",
       "      <td>469</td>\n",
       "      <td>COMPLETE</td>\n",
       "      <td>0.864529</td>\n",
       "    </tr>\n",
       "    <tr>\n",
       "      <th>223</th>\n",
       "      <td>223</td>\n",
       "      <td>0.135492</td>\n",
       "      <td>entropy</td>\n",
       "      <td>10</td>\n",
       "      <td>6</td>\n",
       "      <td>484</td>\n",
       "      <td>COMPLETE</td>\n",
       "      <td>0.864508</td>\n",
       "    </tr>\n",
       "    <tr>\n",
       "      <th>146</th>\n",
       "      <td>146</td>\n",
       "      <td>0.135518</td>\n",
       "      <td>entropy</td>\n",
       "      <td>10</td>\n",
       "      <td>7</td>\n",
       "      <td>493</td>\n",
       "      <td>COMPLETE</td>\n",
       "      <td>0.864482</td>\n",
       "    </tr>\n",
       "    <tr>\n",
       "      <th>218</th>\n",
       "      <td>218</td>\n",
       "      <td>0.135535</td>\n",
       "      <td>entropy</td>\n",
       "      <td>10</td>\n",
       "      <td>6</td>\n",
       "      <td>491</td>\n",
       "      <td>COMPLETE</td>\n",
       "      <td>0.864465</td>\n",
       "    </tr>\n",
       "    <tr>\n",
       "      <th>232</th>\n",
       "      <td>232</td>\n",
       "      <td>0.135535</td>\n",
       "      <td>entropy</td>\n",
       "      <td>10</td>\n",
       "      <td>6</td>\n",
       "      <td>491</td>\n",
       "      <td>COMPLETE</td>\n",
       "      <td>0.864465</td>\n",
       "    </tr>\n",
       "    <tr>\n",
       "      <th>155</th>\n",
       "      <td>155</td>\n",
       "      <td>0.135544</td>\n",
       "      <td>entropy</td>\n",
       "      <td>11</td>\n",
       "      <td>6</td>\n",
       "      <td>498</td>\n",
       "      <td>COMPLETE</td>\n",
       "      <td>0.864456</td>\n",
       "    </tr>\n",
       "    <tr>\n",
       "      <th>157</th>\n",
       "      <td>157</td>\n",
       "      <td>0.135548</td>\n",
       "      <td>entropy</td>\n",
       "      <td>11</td>\n",
       "      <td>6</td>\n",
       "      <td>496</td>\n",
       "      <td>COMPLETE</td>\n",
       "      <td>0.864452</td>\n",
       "    </tr>\n",
       "    <tr>\n",
       "      <th>156</th>\n",
       "      <td>156</td>\n",
       "      <td>0.135561</td>\n",
       "      <td>entropy</td>\n",
       "      <td>11</td>\n",
       "      <td>6</td>\n",
       "      <td>494</td>\n",
       "      <td>COMPLETE</td>\n",
       "      <td>0.864439</td>\n",
       "    </tr>\n",
       "    <tr>\n",
       "      <th>207</th>\n",
       "      <td>207</td>\n",
       "      <td>0.135565</td>\n",
       "      <td>entropy</td>\n",
       "      <td>11</td>\n",
       "      <td>6</td>\n",
       "      <td>471</td>\n",
       "      <td>COMPLETE</td>\n",
       "      <td>0.864435</td>\n",
       "    </tr>\n",
       "    <tr>\n",
       "      <th>159</th>\n",
       "      <td>159</td>\n",
       "      <td>0.135574</td>\n",
       "      <td>entropy</td>\n",
       "      <td>11</td>\n",
       "      <td>6</td>\n",
       "      <td>499</td>\n",
       "      <td>COMPLETE</td>\n",
       "      <td>0.864426</td>\n",
       "    </tr>\n",
       "    <tr>\n",
       "      <th>163</th>\n",
       "      <td>163</td>\n",
       "      <td>0.135574</td>\n",
       "      <td>entropy</td>\n",
       "      <td>11</td>\n",
       "      <td>6</td>\n",
       "      <td>499</td>\n",
       "      <td>COMPLETE</td>\n",
       "      <td>0.864426</td>\n",
       "    </tr>\n",
       "    <tr>\n",
       "      <th>169</th>\n",
       "      <td>169</td>\n",
       "      <td>0.135574</td>\n",
       "      <td>entropy</td>\n",
       "      <td>11</td>\n",
       "      <td>6</td>\n",
       "      <td>499</td>\n",
       "      <td>COMPLETE</td>\n",
       "      <td>0.864426</td>\n",
       "    </tr>\n",
       "    <tr>\n",
       "      <th>167</th>\n",
       "      <td>167</td>\n",
       "      <td>0.135574</td>\n",
       "      <td>entropy</td>\n",
       "      <td>11</td>\n",
       "      <td>6</td>\n",
       "      <td>499</td>\n",
       "      <td>COMPLETE</td>\n",
       "      <td>0.864426</td>\n",
       "    </tr>\n",
       "    <tr>\n",
       "      <th>161</th>\n",
       "      <td>161</td>\n",
       "      <td>0.135574</td>\n",
       "      <td>entropy</td>\n",
       "      <td>11</td>\n",
       "      <td>6</td>\n",
       "      <td>499</td>\n",
       "      <td>COMPLETE</td>\n",
       "      <td>0.864426</td>\n",
       "    </tr>\n",
       "    <tr>\n",
       "      <th>160</th>\n",
       "      <td>160</td>\n",
       "      <td>0.135574</td>\n",
       "      <td>entropy</td>\n",
       "      <td>11</td>\n",
       "      <td>6</td>\n",
       "      <td>499</td>\n",
       "      <td>COMPLETE</td>\n",
       "      <td>0.864426</td>\n",
       "    </tr>\n",
       "    <tr>\n",
       "      <th>227</th>\n",
       "      <td>227</td>\n",
       "      <td>0.135608</td>\n",
       "      <td>entropy</td>\n",
       "      <td>10</td>\n",
       "      <td>6</td>\n",
       "      <td>500</td>\n",
       "      <td>COMPLETE</td>\n",
       "      <td>0.864392</td>\n",
       "    </tr>\n",
       "  </tbody>\n",
       "</table>\n",
       "</div>"
      ],
      "text/plain": [
       "     number     value params_criterion  params_max_depth  \\\n",
       "35       35  0.134325          entropy                12   \n",
       "213     213  0.135372          entropy                11   \n",
       "211     211  0.135376          entropy                11   \n",
       "230     230  0.135471          entropy                11   \n",
       "208     208  0.135471          entropy                11   \n",
       "223     223  0.135492          entropy                10   \n",
       "146     146  0.135518          entropy                10   \n",
       "218     218  0.135535          entropy                10   \n",
       "232     232  0.135535          entropy                10   \n",
       "155     155  0.135544          entropy                11   \n",
       "157     157  0.135548          entropy                11   \n",
       "156     156  0.135561          entropy                11   \n",
       "207     207  0.135565          entropy                11   \n",
       "159     159  0.135574          entropy                11   \n",
       "163     163  0.135574          entropy                11   \n",
       "169     169  0.135574          entropy                11   \n",
       "167     167  0.135574          entropy                11   \n",
       "161     161  0.135574          entropy                11   \n",
       "160     160  0.135574          entropy                11   \n",
       "227     227  0.135608          entropy                10   \n",
       "\n",
       "     params_min_samples_split  params_n_estimators     state       auc  \n",
       "35                          5                  240  COMPLETE  0.865675  \n",
       "213                         6                  468  COMPLETE  0.864628  \n",
       "211                         6                  467  COMPLETE  0.864624  \n",
       "230                         6                  469  COMPLETE  0.864529  \n",
       "208                         6                  469  COMPLETE  0.864529  \n",
       "223                         6                  484  COMPLETE  0.864508  \n",
       "146                         7                  493  COMPLETE  0.864482  \n",
       "218                         6                  491  COMPLETE  0.864465  \n",
       "232                         6                  491  COMPLETE  0.864465  \n",
       "155                         6                  498  COMPLETE  0.864456  \n",
       "157                         6                  496  COMPLETE  0.864452  \n",
       "156                         6                  494  COMPLETE  0.864439  \n",
       "207                         6                  471  COMPLETE  0.864435  \n",
       "159                         6                  499  COMPLETE  0.864426  \n",
       "163                         6                  499  COMPLETE  0.864426  \n",
       "169                         6                  499  COMPLETE  0.864426  \n",
       "167                         6                  499  COMPLETE  0.864426  \n",
       "161                         6                  499  COMPLETE  0.864426  \n",
       "160                         6                  499  COMPLETE  0.864426  \n",
       "227                         6                  500  COMPLETE  0.864392  "
      ]
     },
     "execution_count": 25,
     "metadata": {},
     "output_type": "execute_result"
    }
   ],
   "source": [
    "df.sort_values(by='auc', ascending=False).head(20)"
   ]
  },
  {
   "cell_type": "code",
   "execution_count": 24,
   "metadata": {},
   "outputs": [
    {
     "data": {
      "text/plain": [
       "0.8577861971902407"
      ]
     },
     "execution_count": 24,
     "metadata": {},
     "output_type": "execute_result"
    }
   ],
   "source": [
    "df['auc'].mean()"
   ]
  },
  {
   "cell_type": "code",
   "execution_count": 30,
   "metadata": {},
   "outputs": [
    {
     "name": "stdout",
     "output_type": "stream",
     "text": [
      "Requirement already satisfied: plotly in /Users/wihill/anaconda3/envs/diyaml/lib/python3.7/site-packages (4.4.1)\n",
      "Requirement already satisfied: retrying>=1.3.3 in /Users/wihill/anaconda3/envs/diyaml/lib/python3.7/site-packages (from plotly) (1.3.3)\n",
      "Requirement already satisfied: six in /Users/wihill/anaconda3/envs/diyaml/lib/python3.7/site-packages (from plotly) (1.13.0)\n"
     ]
    }
   ],
   "source": [
    "!pip install plotly"
   ]
  },
  {
   "cell_type": "code",
   "execution_count": 28,
   "metadata": {},
   "outputs": [
    {
     "ename": "ImportError",
     "evalue": "Plotly is not available. Please install plotly to use this feature. Plotly can be installed by executing `$ pip install plotly`. For further information, please refer to the installation guide of plotly. (The actual import error is as follows: No module named 'plotly')",
     "output_type": "error",
     "traceback": [
      "\u001b[0;31m---------------------------------------------------------------------------\u001b[0m",
      "\u001b[0;31mImportError\u001b[0m                               Traceback (most recent call last)",
      "\u001b[0;32m<ipython-input-28-04cb7fde5fca>\u001b[0m in \u001b[0;36m<module>\u001b[0;34m\u001b[0m\n\u001b[0;32m----> 1\u001b[0;31m \u001b[0moptuna\u001b[0m\u001b[0;34m.\u001b[0m\u001b[0mvisualization\u001b[0m\u001b[0;34m.\u001b[0m\u001b[0mplot_intermediate_values\u001b[0m\u001b[0;34m(\u001b[0m\u001b[0mstudy\u001b[0m\u001b[0;34m)\u001b[0m\u001b[0;34m\u001b[0m\u001b[0;34m\u001b[0m\u001b[0m\n\u001b[0m",
      "\u001b[0;32m~/anaconda3/envs/diyaml/lib/python3.7/site-packages/optuna/visualization/intermediate_values.py\u001b[0m in \u001b[0;36mplot_intermediate_values\u001b[0;34m(study)\u001b[0m\n\u001b[1;32m     44\u001b[0m     \"\"\"\n\u001b[1;32m     45\u001b[0m \u001b[0;34m\u001b[0m\u001b[0m\n\u001b[0;32m---> 46\u001b[0;31m     \u001b[0m_check_plotly_availability\u001b[0m\u001b[0;34m(\u001b[0m\u001b[0;34m)\u001b[0m\u001b[0;34m\u001b[0m\u001b[0;34m\u001b[0m\u001b[0m\n\u001b[0m\u001b[1;32m     47\u001b[0m     \u001b[0;32mreturn\u001b[0m \u001b[0m_get_intermediate_plot\u001b[0m\u001b[0;34m(\u001b[0m\u001b[0mstudy\u001b[0m\u001b[0;34m)\u001b[0m\u001b[0;34m\u001b[0m\u001b[0;34m\u001b[0m\u001b[0m\n\u001b[1;32m     48\u001b[0m \u001b[0;34m\u001b[0m\u001b[0m\n",
      "\u001b[0;32m~/anaconda3/envs/diyaml/lib/python3.7/site-packages/optuna/visualization/utils.py\u001b[0m in \u001b[0;36m_check_plotly_availability\u001b[0;34m()\u001b[0m\n\u001b[1;32m     38\u001b[0m             \u001b[0;34m'Plotly can be installed by executing `$ pip install plotly`. '\u001b[0m\u001b[0;34m\u001b[0m\u001b[0;34m\u001b[0m\u001b[0m\n\u001b[1;32m     39\u001b[0m             \u001b[0;34m'For further information, please refer to the installation guide of plotly. '\u001b[0m\u001b[0;34m\u001b[0m\u001b[0;34m\u001b[0m\u001b[0m\n\u001b[0;32m---> 40\u001b[0;31m             '(The actual import error is as follows: ' + str(plotly_imports._import_error) + ')')\n\u001b[0m\u001b[1;32m     41\u001b[0m \u001b[0;34m\u001b[0m\u001b[0m\n\u001b[1;32m     42\u001b[0m     \u001b[0;32mfrom\u001b[0m \u001b[0mdistutils\u001b[0m\u001b[0;34m.\u001b[0m\u001b[0mversion\u001b[0m \u001b[0;32mimport\u001b[0m \u001b[0mStrictVersion\u001b[0m\u001b[0;34m\u001b[0m\u001b[0;34m\u001b[0m\u001b[0m\n",
      "\u001b[0;31mImportError\u001b[0m: Plotly is not available. Please install plotly to use this feature. Plotly can be installed by executing `$ pip install plotly`. For further information, please refer to the installation guide of plotly. (The actual import error is as follows: No module named 'plotly')"
     ]
    }
   ],
   "source": [
    "optuna.visualization.plot_intermediate_values(study)"
   ]
  },
  {
   "cell_type": "code",
   "execution_count": 29,
   "metadata": {},
   "outputs": [
    {
     "ename": "ImportError",
     "evalue": "Plotly is not available. Please install plotly to use this feature. Plotly can be installed by executing `$ pip install plotly`. For further information, please refer to the installation guide of plotly. (The actual import error is as follows: No module named 'plotly')",
     "output_type": "error",
     "traceback": [
      "\u001b[0;31m---------------------------------------------------------------------------\u001b[0m",
      "\u001b[0;31mImportError\u001b[0m                               Traceback (most recent call last)",
      "\u001b[0;32m<ipython-input-29-ead32857dee2>\u001b[0m in \u001b[0;36m<module>\u001b[0;34m\u001b[0m\n\u001b[0;32m----> 1\u001b[0;31m \u001b[0moptuna\u001b[0m\u001b[0;34m.\u001b[0m\u001b[0mvisualization\u001b[0m\u001b[0;34m.\u001b[0m\u001b[0mplot_optimization_history\u001b[0m\u001b[0;34m(\u001b[0m\u001b[0mstudy\u001b[0m\u001b[0;34m)\u001b[0m\u001b[0;34m\u001b[0m\u001b[0;34m\u001b[0m\u001b[0m\n\u001b[0m",
      "\u001b[0;32m~/anaconda3/envs/diyaml/lib/python3.7/site-packages/optuna/visualization/optimization_history.py\u001b[0m in \u001b[0;36mplot_optimization_history\u001b[0;34m(study)\u001b[0m\n\u001b[1;32m     44\u001b[0m     \"\"\"\n\u001b[1;32m     45\u001b[0m \u001b[0;34m\u001b[0m\u001b[0m\n\u001b[0;32m---> 46\u001b[0;31m     \u001b[0m_check_plotly_availability\u001b[0m\u001b[0;34m(\u001b[0m\u001b[0;34m)\u001b[0m\u001b[0;34m\u001b[0m\u001b[0;34m\u001b[0m\u001b[0m\n\u001b[0m\u001b[1;32m     47\u001b[0m     \u001b[0;32mreturn\u001b[0m \u001b[0m_get_optimization_history_plot\u001b[0m\u001b[0;34m(\u001b[0m\u001b[0mstudy\u001b[0m\u001b[0;34m)\u001b[0m\u001b[0;34m\u001b[0m\u001b[0;34m\u001b[0m\u001b[0m\n\u001b[1;32m     48\u001b[0m \u001b[0;34m\u001b[0m\u001b[0m\n",
      "\u001b[0;32m~/anaconda3/envs/diyaml/lib/python3.7/site-packages/optuna/visualization/utils.py\u001b[0m in \u001b[0;36m_check_plotly_availability\u001b[0;34m()\u001b[0m\n\u001b[1;32m     38\u001b[0m             \u001b[0;34m'Plotly can be installed by executing `$ pip install plotly`. '\u001b[0m\u001b[0;34m\u001b[0m\u001b[0;34m\u001b[0m\u001b[0m\n\u001b[1;32m     39\u001b[0m             \u001b[0;34m'For further information, please refer to the installation guide of plotly. '\u001b[0m\u001b[0;34m\u001b[0m\u001b[0;34m\u001b[0m\u001b[0m\n\u001b[0;32m---> 40\u001b[0;31m             '(The actual import error is as follows: ' + str(plotly_imports._import_error) + ')')\n\u001b[0m\u001b[1;32m     41\u001b[0m \u001b[0;34m\u001b[0m\u001b[0m\n\u001b[1;32m     42\u001b[0m     \u001b[0;32mfrom\u001b[0m \u001b[0mdistutils\u001b[0m\u001b[0;34m.\u001b[0m\u001b[0mversion\u001b[0m \u001b[0;32mimport\u001b[0m \u001b[0mStrictVersion\u001b[0m\u001b[0;34m\u001b[0m\u001b[0;34m\u001b[0m\u001b[0m\n",
      "\u001b[0;31mImportError\u001b[0m: Plotly is not available. Please install plotly to use this feature. Plotly can be installed by executing `$ pip install plotly`. For further information, please refer to the installation guide of plotly. (The actual import error is as follows: No module named 'plotly')"
     ]
    }
   ],
   "source": [
    "optuna.visualization.plot_optimization_history(study)"
   ]
  },
  {
   "cell_type": "code",
   "execution_count": null,
   "metadata": {},
   "outputs": [],
   "source": []
  }
 ],
 "metadata": {
  "kernelspec": {
   "display_name": "Python 3",
   "language": "python",
   "name": "python3"
  },
  "language_info": {
   "codemirror_mode": {
    "name": "ipython",
    "version": 3
   },
   "file_extension": ".py",
   "mimetype": "text/x-python",
   "name": "python",
   "nbconvert_exporter": "python",
   "pygments_lexer": "ipython3",
   "version": "3.7.6"
  }
 },
 "nbformat": 4,
 "nbformat_minor": 2
}
