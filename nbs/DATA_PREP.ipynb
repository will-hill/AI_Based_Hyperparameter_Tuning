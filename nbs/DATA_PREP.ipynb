{
 "cells": [
  {
   "cell_type": "code",
   "execution_count": 1,
   "metadata": {},
   "outputs": [
    {
     "data": {
      "text/plain": [
       "<module 'data_prep' from '/Users/wihill/git/AI_Based_Hyperparameter_Tuning/src/data_prep.py'>"
      ]
     },
     "execution_count": 1,
     "metadata": {},
     "output_type": "execute_result"
    }
   ],
   "source": [
    "from sklearn import preprocessing\n",
    "from tqdm.notebook import tqdm\n",
    "import pandas as pd\n",
    "import numpy as np\n",
    "import datetime\n",
    "import sys\n",
    "import os\n",
    "sys.path.append(os.path.abspath('../src'))\n",
    "import data_prep, ai_config\n",
    "import importlib\n",
    "importlib.reload(data_prep)"
   ]
  },
  {
   "cell_type": "markdown",
   "metadata": {},
   "source": [
    "  "
   ]
  },
  {
   "cell_type": "markdown",
   "metadata": {},
   "source": [
    "# LOAD RAW"
   ]
  },
  {
   "cell_type": "code",
   "execution_count": 63,
   "metadata": {
    "scrolled": true
   },
   "outputs": [
    {
     "name": "stdout",
     "output_type": "stream",
     "text": [
      "2020-02-09 11:28:45.561849\n"
     ]
    },
    {
     "data": {
      "text/plain": [
       "(1097231, 433)"
      ]
     },
     "metadata": {},
     "output_type": "display_data"
    },
    {
     "name": "stdout",
     "output_type": "stream",
     "text": [
      "3.55 \n",
      "\n",
      "float64    399\n",
      "object      31\n",
      "int64        3\n",
      "dtype: int64 \n",
      "\n",
      "CPU times: user 35.8 s, sys: 11.8 s, total: 47.6 s\n",
      "Wall time: 48.7 s\n"
     ]
    }
   ],
   "source": [
    "%%time\n",
    "# 45 seconds\n",
    "print(datetime.datetime.now())\n",
    "\n",
    "df = data_prep.get_ieee_fraud_data()\n",
    "\n",
    "display(df.shape)\n",
    "print(round((df.memory_usage().sum() / 1024**3),2), '\\n')\n",
    "print(df.dtypes.value_counts(),'\\n')   "
   ]
  },
  {
   "cell_type": "markdown",
   "metadata": {},
   "source": [
    "  "
   ]
  },
  {
   "cell_type": "code",
   "execution_count": 64,
   "metadata": {},
   "outputs": [
    {
     "name": "stdout",
     "output_type": "stream",
     "text": [
      "CPU times: user 8.43 s, sys: 8.49 s, total: 16.9 s\n",
      "Wall time: 12.9 s\n"
     ]
    }
   ],
   "source": [
    "%%time\n",
    "# 11 SECONDS\n",
    "df.reset_index().to_feather('raw.ftr')"
   ]
  },
  {
   "cell_type": "code",
   "execution_count": 65,
   "metadata": {},
   "outputs": [
    {
     "data": {
      "text/plain": [
       "(1097231, 433)"
      ]
     },
     "metadata": {},
     "output_type": "display_data"
    },
    {
     "name": "stdout",
     "output_type": "stream",
     "text": [
      "3.55 \n",
      "\n",
      "float64    399\n",
      "object      31\n",
      "int64        3\n",
      "dtype: int64 \n",
      "\n",
      "CPU times: user 5.1 s, sys: 11.2 s, total: 16.3 s\n",
      "Wall time: 11 s\n"
     ]
    }
   ],
   "source": [
    "%%time\n",
    "# 10 SECONDS\n",
    "\n",
    "df = pd.read_feather('raw.ftr').set_index('TransactionID')\n",
    "\n",
    "display(df.shape)\n",
    "print(round((df.memory_usage().sum() / 1024**3),2), '\\n')\n",
    "print(df.dtypes.value_counts(),'\\n')   "
   ]
  },
  {
   "cell_type": "code",
   "execution_count": null,
   "metadata": {},
   "outputs": [],
   "source": [
    "df"
   ]
  },
  {
   "cell_type": "markdown",
   "metadata": {},
   "source": [
    "# OBJECT TO NUMERIC"
   ]
  },
  {
   "cell_type": "code",
   "execution_count": 5,
   "metadata": {},
   "outputs": [
    {
     "name": "stdout",
     "output_type": "stream",
     "text": [
      "2020-02-09 10:41:38.775758\n"
     ]
    },
    {
     "data": {
      "application/vnd.jupyter.widget-view+json": {
       "model_id": "47eee8e171fb4ee7bc1a8f57f6b3362d",
       "version_major": 2,
       "version_minor": 0
      },
      "text/plain": [
       "HBox(children=(FloatProgress(value=0.0, max=433.0), HTML(value='')))"
      ]
     },
     "metadata": {},
     "output_type": "display_data"
    },
    {
     "name": "stdout",
     "output_type": "stream",
     "text": [
      "\n"
     ]
    },
    {
     "data": {
      "text/plain": [
       "(1097231, 433)"
      ]
     },
     "metadata": {},
     "output_type": "display_data"
    },
    {
     "name": "stdout",
     "output_type": "stream",
     "text": [
      "3.55 \n",
      "\n",
      "float64    399\n",
      "object      31\n",
      "int64        3\n",
      "dtype: int64 \n",
      "\n",
      "CPU times: user 711 ms, sys: 32.8 ms, total: 744 ms\n",
      "Wall time: 746 ms\n"
     ]
    }
   ],
   "source": [
    "%%time\n",
    "# 3 SECONDS\n",
    "print(datetime.datetime.now())\n",
    "\n",
    "for c in tqdm(df.columns):\n",
    "    if df[c].dtype == 'object':\n",
    "        df[c] = pd.to_numeric(df[c], errors='ignore')\n",
    "\n",
    "display(df.shape)\n",
    "print(round((df.memory_usage().sum() / 1024**3),2), '\\n')\n",
    "print(df.dtypes.value_counts(),'\\n')  "
   ]
  },
  {
   "cell_type": "code",
   "execution_count": 6,
   "metadata": {},
   "outputs": [
    {
     "name": "stdout",
     "output_type": "stream",
     "text": [
      "CPU times: user 5.88 s, sys: 3.43 s, total: 9.31 s\n",
      "Wall time: 6.88 s\n"
     ]
    }
   ],
   "source": [
    "%%time\n",
    "# 7 SECONDS\n",
    "df.reset_index().to_feather('obj2num.ftr')"
   ]
  },
  {
   "cell_type": "code",
   "execution_count": 7,
   "metadata": {},
   "outputs": [
    {
     "data": {
      "text/plain": [
       "(1097231, 433)"
      ]
     },
     "metadata": {},
     "output_type": "display_data"
    },
    {
     "name": "stdout",
     "output_type": "stream",
     "text": [
      "3.55 \n",
      "\n",
      "float64    399\n",
      "object      31\n",
      "int64        3\n",
      "dtype: int64 \n",
      "\n",
      "CPU times: user 4.28 s, sys: 5.33 s, total: 9.61 s\n",
      "Wall time: 6.52 s\n"
     ]
    }
   ],
   "source": [
    "%%time\n",
    "# 7 SECONDS\n",
    "\n",
    "df = pd.read_feather('obj2num.ftr').set_index('TransactionID')\n",
    "\n",
    "display(df.shape)\n",
    "print(round((df.memory_usage().sum() / 1024**3),2), '\\n')\n",
    "print(df.dtypes.value_counts(),'\\n')   "
   ]
  },
  {
   "cell_type": "markdown",
   "metadata": {},
   "source": [
    "# IMPUTE"
   ]
  },
  {
   "cell_type": "code",
   "execution_count": 8,
   "metadata": {},
   "outputs": [
    {
     "data": {
      "application/vnd.jupyter.widget-view+json": {
       "model_id": "b02a2109c0f1458d8d8e1ac58023bfd0",
       "version_major": 2,
       "version_minor": 0
      },
      "text/plain": [
       "HBox(children=(FloatProgress(value=0.0, max=433.0), HTML(value='')))"
      ]
     },
     "metadata": {},
     "output_type": "display_data"
    },
    {
     "name": "stdout",
     "output_type": "stream",
     "text": [
      "\n"
     ]
    },
    {
     "data": {
      "text/plain": [
       "(1097231, 433)"
      ]
     },
     "metadata": {},
     "output_type": "display_data"
    },
    {
     "name": "stdout",
     "output_type": "stream",
     "text": [
      "3.55 \n",
      "\n",
      "float64    399\n",
      "object      31\n",
      "int64        3\n",
      "dtype: int64\n",
      "CPU times: user 12.5 s, sys: 1.57 s, total: 14.1 s\n",
      "Wall time: 14.1 s\n"
     ]
    }
   ],
   "source": [
    "%%time\n",
    "# 13 SECONDS\n",
    "\n",
    "for c in tqdm(df.columns):\n",
    "\n",
    "    if df[c].isnull().sum() > 0:\n",
    "\n",
    "        if np.issubdtype(df[c].dtype, np.number):\n",
    "            if ai_config.NUM_IMPUTE_TYPE == 'MEDIAN':\n",
    "                df[c] = df[c].fillna(df[c].median())\n",
    "        else:\n",
    "            df[c] = df[c].fillna(df[c].mode()[0])\n",
    "            \n",
    "display(df.shape)\n",
    "print(round((df.memory_usage().sum() / 1024**3),2), '\\n')\n",
    "print(df.dtypes.value_counts())        "
   ]
  },
  {
   "cell_type": "markdown",
   "metadata": {},
   "source": [
    "# CHECK FOR MISSING"
   ]
  },
  {
   "cell_type": "code",
   "execution_count": 9,
   "metadata": {},
   "outputs": [
    {
     "data": {
      "application/vnd.jupyter.widget-view+json": {
       "model_id": "eb59a06f5cef4f40b69de34795c874f9",
       "version_major": 2,
       "version_minor": 0
      },
      "text/plain": [
       "HBox(children=(FloatProgress(value=0.0, max=433.0), HTML(value='')))"
      ]
     },
     "metadata": {},
     "output_type": "display_data"
    },
    {
     "name": "stdout",
     "output_type": "stream",
     "text": [
      "\n"
     ]
    }
   ],
   "source": [
    "for c in tqdm(df.columns.tolist()):\n",
    "    if df[c].isnull().sum() > 0:\n",
    "        print(c)"
   ]
  },
  {
   "cell_type": "code",
   "execution_count": 10,
   "metadata": {},
   "outputs": [
    {
     "name": "stdout",
     "output_type": "stream",
     "text": [
      "CPU times: user 5.12 s, sys: 2.62 s, total: 7.74 s\n",
      "Wall time: 5.81 s\n"
     ]
    }
   ],
   "source": [
    "%%time\n",
    "# 6 SECONDS\n",
    "df.reset_index().to_feather('imputed.ftr')"
   ]
  },
  {
   "cell_type": "code",
   "execution_count": 11,
   "metadata": {},
   "outputs": [
    {
     "data": {
      "text/plain": [
       "(1097231, 433)"
      ]
     },
     "metadata": {},
     "output_type": "display_data"
    },
    {
     "name": "stdout",
     "output_type": "stream",
     "text": [
      "3.55 \n",
      "\n",
      "float64    399\n",
      "object      31\n",
      "int64        3\n",
      "dtype: int64 \n",
      "\n",
      "CPU times: user 3.69 s, sys: 4.49 s, total: 8.18 s\n",
      "Wall time: 6.96 s\n"
     ]
    }
   ],
   "source": [
    "%%time\n",
    "# 7 SECONDS\n",
    "\n",
    "df = pd.read_feather('imputed.ftr').set_index('TransactionID')\n",
    "\n",
    "display(df.shape)\n",
    "print(round((df.memory_usage().sum() / 1024**3),2), '\\n')\n",
    "print(df.dtypes.value_counts(),'\\n') "
   ]
  },
  {
   "cell_type": "markdown",
   "metadata": {},
   "source": [
    "# FLOAT > INT"
   ]
  },
  {
   "cell_type": "code",
   "execution_count": 21,
   "metadata": {},
   "outputs": [
    {
     "data": {
      "application/vnd.jupyter.widget-view+json": {
       "model_id": "d77c80f7e03440a1b9311b373fa6340b",
       "version_major": 2,
       "version_minor": 0
      },
      "text/plain": [
       "HBox(children=(FloatProgress(value=0.0, max=433.0), HTML(value='')))"
      ]
     },
     "metadata": {},
     "output_type": "display_data"
    },
    {
     "name": "stdout",
     "output_type": "stream",
     "text": [
      "\n",
      "1.37 \n",
      "\n",
      "int8       228\n",
      "int16       90\n",
      "float64     81\n",
      "object      31\n",
      "int64        3\n",
      "dtype: int64\n",
      "CPU times: user 3min 35s, sys: 2min 49s, total: 6min 25s\n",
      "Wall time: 6min 25s\n"
     ]
    }
   ],
   "source": [
    "%%time\n",
    "# 6.5 MINUTES\n",
    "print(datetime.datetime.now())\n",
    "\n",
    "pbar = tqdm(df.columns)\n",
    "for c in pbar:        \n",
    "    pbar.set_description(\"Processing %s\" % c)\n",
    "    if str(df[c].dtypes)[:5] == 'float':\n",
    "        # print('column ', c)        \n",
    "        df[c] = pd.to_numeric(df[c], errors='ignore', downcast='integer')\n",
    "\n",
    "\n",
    "display(df.shape)\n",
    "print(round((df.memory_usage().sum() / 1024**3),2), '\\n')\n",
    "print(df.dtypes.value_counts())        "
   ]
  },
  {
   "cell_type": "code",
   "execution_count": 22,
   "metadata": {},
   "outputs": [
    {
     "name": "stdout",
     "output_type": "stream",
     "text": [
      "CPU times: user 2.46 s, sys: 1.44 s, total: 3.91 s\n",
      "Wall time: 3.61 s\n"
     ]
    }
   ],
   "source": [
    "%%time\n",
    "# 4 SECONDS\n",
    "df.reset_index().to_feather('flt_2_int.ftr')"
   ]
  },
  {
   "cell_type": "code",
   "execution_count": 14,
   "metadata": {},
   "outputs": [
    {
     "data": {
      "text/plain": [
       "(1097231, 433)"
      ]
     },
     "metadata": {},
     "output_type": "display_data"
    },
    {
     "name": "stdout",
     "output_type": "stream",
     "text": [
      "1.37 \n",
      "\n",
      "int8       228\n",
      "int16       90\n",
      "float64     81\n",
      "object      31\n",
      "int64        3\n",
      "dtype: int64 \n",
      "\n",
      "CPU times: user 1.94 s, sys: 1.05 s, total: 2.99 s\n",
      "Wall time: 2.31 s\n"
     ]
    }
   ],
   "source": [
    "%%time\n",
    "# 2 SECONDS\n",
    "\n",
    "df = pd.read_feather('flt_2_int.ftr').set_index('TransactionID')\n",
    "\n",
    "display(df.shape)\n",
    "print(round((df.memory_usage().sum() / 1024**3),2), '\\n')\n",
    "print(df.dtypes.value_counts(),'\\n')    "
   ]
  },
  {
   "cell_type": "markdown",
   "metadata": {},
   "source": [
    "  "
   ]
  },
  {
   "cell_type": "markdown",
   "metadata": {},
   "source": [
    "# Minify"
   ]
  },
  {
   "cell_type": "code",
   "execution_count": 15,
   "metadata": {
    "scrolled": true
   },
   "outputs": [
    {
     "name": "stdout",
     "output_type": "stream",
     "text": [
      "Mem. usage decreased to  1.02 GB (25.5% reduction)\n"
     ]
    },
    {
     "data": {
      "text/plain": [
       "(1097231, 433)"
      ]
     },
     "metadata": {},
     "output_type": "display_data"
    },
    {
     "name": "stdout",
     "output_type": "stream",
     "text": [
      "1.02 \n",
      "\n",
      "int8       229\n",
      "int16       91\n",
      "float32     81\n",
      "object      31\n",
      "int32        1\n",
      "dtype: int64 \n",
      "\n",
      "CPU times: user 10.8 s, sys: 8.18 s, total: 19 s\n",
      "Wall time: 19 s\n"
     ]
    }
   ],
   "source": [
    "%%time\n",
    "# 15 seconds\n",
    "\n",
    "data_prep.minify(df)\n",
    "\n",
    "display(df.shape)\n",
    "print(round((df.memory_usage().sum() / 1024**3),2), '\\n')\n",
    "print(df.dtypes.value_counts(),'\\n')    "
   ]
  },
  {
   "cell_type": "code",
   "execution_count": 16,
   "metadata": {
    "scrolled": true
   },
   "outputs": [
    {
     "name": "stdout",
     "output_type": "stream",
     "text": [
      "CPU times: user 2.54 s, sys: 1.6 s, total: 4.14 s\n",
      "Wall time: 3.78 s\n"
     ]
    }
   ],
   "source": [
    "%%time\n",
    "# 4 SECONDS\n",
    "df.reset_index().to_feather('minified.ftr')"
   ]
  },
  {
   "cell_type": "code",
   "execution_count": 17,
   "metadata": {
    "scrolled": true
   },
   "outputs": [
    {
     "data": {
      "text/plain": [
       "(1097231, 433)"
      ]
     },
     "metadata": {},
     "output_type": "display_data"
    },
    {
     "name": "stdout",
     "output_type": "stream",
     "text": [
      "1.02 \n",
      "\n",
      "int8       229\n",
      "int16       91\n",
      "float32     81\n",
      "object      31\n",
      "int32        1\n",
      "dtype: int64 \n",
      "\n",
      "CPU times: user 1.69 s, sys: 982 ms, total: 2.67 s\n",
      "Wall time: 2.23 s\n"
     ]
    }
   ],
   "source": [
    "%%time\n",
    "# 2 SECONDS\n",
    "\n",
    "df = pd.read_feather('minified.ftr').set_index('TransactionID')\n",
    "\n",
    "display(df.shape)\n",
    "print(round((df.memory_usage().sum() / 1024**3),2), '\\n')\n",
    "print(df.dtypes.value_counts(),'\\n')  "
   ]
  },
  {
   "cell_type": "markdown",
   "metadata": {},
   "source": [
    "  "
   ]
  },
  {
   "cell_type": "markdown",
   "metadata": {},
   "source": [
    "  "
   ]
  },
  {
   "cell_type": "markdown",
   "metadata": {},
   "source": [
    "  "
   ]
  },
  {
   "cell_type": "markdown",
   "metadata": {},
   "source": [
    "  "
   ]
  },
  {
   "cell_type": "markdown",
   "metadata": {},
   "source": [
    "# ENCODING  "
   ]
  },
  {
   "cell_type": "code",
   "execution_count": 18,
   "metadata": {},
   "outputs": [
    {
     "name": "stdout",
     "output_type": "stream",
     "text": [
      "2020-02-09 10:51:28.186487\n"
     ]
    },
    {
     "data": {
      "application/vnd.jupyter.widget-view+json": {
       "model_id": "ac9311ffd32d46cfa42346e3e0d31a69",
       "version_major": 2,
       "version_minor": 0
      },
      "text/plain": [
       "HBox(children=(FloatProgress(value=0.0, max=433.0), HTML(value='')))"
      ]
     },
     "metadata": {},
     "output_type": "display_data"
    },
    {
     "name": "stdout",
     "output_type": "stream",
     "text": [
      "\n"
     ]
    },
    {
     "data": {
      "text/plain": [
       "(1097231, 445)"
      ]
     },
     "metadata": {},
     "output_type": "display_data"
    },
    {
     "name": "stdout",
     "output_type": "stream",
     "text": [
      "0.85 \n",
      "\n",
      "int8       229\n",
      "int16       91\n",
      "float32     81\n",
      "uint8       37\n",
      "int64        6\n",
      "int32        1\n",
      "dtype: int64 \n",
      "\n",
      "CPU times: user 41.7 s, sys: 25 s, total: 1min 6s\n",
      "Wall time: 1min 6s\n"
     ]
    }
   ],
   "source": [
    "%%time\n",
    "# 70 SECONDS\n",
    "print(datetime.datetime.now())\n",
    "\n",
    "pbar = tqdm(df.columns)\n",
    "\n",
    "for c in pbar:        \n",
    "\n",
    "    pbar.set_description('encoding %s' % c)\n",
    "\n",
    "    \n",
    "    if df[c].dtype == 'object' and df[c].nunique() <= ai_config.MAX_N_OHE:\n",
    "        pbar.set_description('OHE %s' % c)\n",
    "        df = pd.concat([df, pd.get_dummies(df[c], drop_first=True, prefix=c)], axis=1)\n",
    "        df = df.drop([c], axis=1)\n",
    "\n",
    "    elif df[c].dtype == 'object':\n",
    "        pbar.set_description('LE %s' % c)\n",
    "        df[c] = preprocessing.LabelEncoder().fit_transform(df[c])\n",
    "        \n",
    "\n",
    "display(df.shape)\n",
    "print(round((df.memory_usage().sum() / 1024**3),2), '\\n')\n",
    "print(df.dtypes.value_counts(),'\\n')  "
   ]
  },
  {
   "cell_type": "markdown",
   "metadata": {},
   "source": [
    "  "
   ]
  },
  {
   "cell_type": "code",
   "execution_count": 19,
   "metadata": {
    "scrolled": false
   },
   "outputs": [
    {
     "name": "stdout",
     "output_type": "stream",
     "text": [
      "CPU times: user 991 ms, sys: 983 ms, total: 1.97 s\n",
      "Wall time: 1.22 s\n"
     ]
    }
   ],
   "source": [
    "%%time\n",
    "# 4 SECONDS\n",
    "df.reset_index().to_feather('encoded.ftr')"
   ]
  },
  {
   "cell_type": "code",
   "execution_count": 54,
   "metadata": {
    "scrolled": true
   },
   "outputs": [
    {
     "data": {
      "text/plain": [
       "(1097231, 445)"
      ]
     },
     "metadata": {},
     "output_type": "display_data"
    },
    {
     "name": "stdout",
     "output_type": "stream",
     "text": [
      "0.85 \n",
      "\n",
      "int8       229\n",
      "int16       91\n",
      "float32     81\n",
      "uint8       37\n",
      "int64        6\n",
      "int32        1\n",
      "dtype: int64 \n",
      "\n",
      "CPU times: user 957 ms, sys: 1.44 s, total: 2.39 s\n",
      "Wall time: 738 ms\n"
     ]
    }
   ],
   "source": [
    "%%time\n",
    "# 2 SECONDS\n",
    "\n",
    "df = pd.read_feather('encoded.ftr').set_index('TransactionID')\n",
    "\n",
    "display(df.shape)\n",
    "print(round((df.memory_usage().sum() / 1024**3),2), '\\n')\n",
    "print(df.dtypes.value_counts(),'\\n')  "
   ]
  },
  {
   "cell_type": "markdown",
   "metadata": {},
   "source": [
    "  "
   ]
  },
  {
   "cell_type": "markdown",
   "metadata": {},
   "source": [
    "  "
   ]
  },
  {
   "cell_type": "markdown",
   "metadata": {},
   "source": [
    "# FOLDS"
   ]
  },
  {
   "cell_type": "code",
   "execution_count": 55,
   "metadata": {},
   "outputs": [],
   "source": [
    "%%time\n",
    "\n",
    "from sklearn.model_selection import KFold\n",
    "kf = KFold(n_splits=10, shuffle=True)\n",
    "\n",
    "i = 0\n",
    "for train, test in kf.split(df):\n",
    "    df.iloc[train].reset_index().to_feather('train_' + str(i) + '.ftr')\n",
    "    df.iloc[test].reset_index().to_feather('test_' + str(i) + '.ftr')\n",
    "    i += 1"
   ]
  },
  {
   "cell_type": "code",
   "execution_count": 56,
   "metadata": {},
   "outputs": [
    {
     "name": "stdout",
     "output_type": "stream",
     "text": [
      "0_Data_Prep.ipynb             test_5.ftr\r\n",
      "0_Docker_PostgreSQL.ipynb     test_6.ftr\r\n",
      "1_AutoML_Simple_Example.ipynb test_7.ftr\r\n",
      "2_Random_Forest_Example.ipynb test_8.ftr\r\n",
      "3_Neural_Networks.ipynb       test_9.ftr\r\n",
      "4_NN_Optimization.ipynb       train_0.ftr\r\n",
      "5_Mac_GPUs_2.ipynb            train_1.ftr\r\n",
      "DATA_PREP.ipynb               train_2.ftr\r\n",
      "catboost_example.ipynb        train_3.ftr\r\n",
      "encoded.ftr                   train_4.ftr\r\n",
      "\u001b[34mimgs\u001b[m\u001b[m                          train_5.ftr\r\n",
      "test_0.ftr                    train_6.ftr\r\n",
      "test_1.ftr                    train_7.ftr\r\n",
      "test_2.ftr                    train_8.ftr\r\n",
      "test_3.ftr                    train_9.ftr\r\n",
      "test_4.ftr\r\n"
     ]
    }
   ],
   "source": [
    "!ls"
   ]
  },
  {
   "cell_type": "code",
   "execution_count": 59,
   "metadata": {},
   "outputs": [
    {
     "data": {
      "application/vnd.jupyter.widget-view+json": {
       "model_id": "65ae061c1e314d60bacb0e53240507c8",
       "version_major": 2,
       "version_minor": 0
      },
      "text/plain": [
       "HBox(children=(FloatProgress(value=0.0, max=10.0), HTML(value='')))"
      ]
     },
     "metadata": {},
     "output_type": "display_data"
    },
    {
     "name": "stdout",
     "output_type": "stream",
     "text": [
      "\n"
     ]
    }
   ],
   "source": [
    "trs = []\n",
    "for i in tqdm(range(0,10)):\n",
    "    trs.append(pd.read_feather('test_' + str(i) + '.ftr').set_index('TransactionID'))\n",
    "all_trs = pd.concat(trs, axis=0)    "
   ]
  },
  {
   "cell_type": "code",
   "execution_count": null,
   "metadata": {},
   "outputs": [],
   "source": []
  }
 ],
 "metadata": {
  "kernelspec": {
   "display_name": "Python 3",
   "language": "python",
   "name": "python3"
  },
  "language_info": {
   "codemirror_mode": {
    "name": "ipython",
    "version": 3
   },
   "file_extension": ".py",
   "mimetype": "text/x-python",
   "name": "python",
   "nbconvert_exporter": "python",
   "pygments_lexer": "ipython3",
   "version": "3.7.6"
  }
 },
 "nbformat": 4,
 "nbformat_minor": 4
}
