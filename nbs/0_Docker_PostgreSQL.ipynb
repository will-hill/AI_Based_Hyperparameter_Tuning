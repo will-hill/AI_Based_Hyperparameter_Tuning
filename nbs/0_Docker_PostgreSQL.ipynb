{
 "cells": [
  {
   "cell_type": "markdown",
   "metadata": {},
   "source": [
    "<img src='imgs/docker_pg.png' />"
   ]
  },
  {
   "cell_type": "markdown",
   "metadata": {},
   "source": [
    "# Create PostgreSQL Docker "
   ]
  },
  {
   "cell_type": "code",
   "execution_count": 14,
   "metadata": {},
   "outputs": [
    {
     "name": "stdout",
     "output_type": "stream",
     "text": [
      "CPU times: user 2 µs, sys: 0 ns, total: 2 µs\n",
      "Wall time: 3.81 µs\n",
      "c4083923c29bfa7c59092169adfc302e99ef6fe15d67e17f804f558f0920d8b2\n"
     ]
    }
   ],
   "source": [
    "%time\n",
    "!mkdir -p init\n",
    "!docker run -d \\\n",
    "    -p 5433:5432 \\\n",
    "    --name optuna_pg \\\n",
    "    -e POSTGRES_USER=admin \\\n",
    "    -e POSTGRES_DB=optuna \\\n",
    "    -v $PWD/init:/docker-entrypoint-initdb.d \\\n",
    "    postgres"
   ]
  },
  {
   "cell_type": "code",
   "execution_count": 1,
   "metadata": {},
   "outputs": [
    {
     "name": "stdout",
     "output_type": "stream",
     "text": [
      "c4083923c29b        postgres              \"docker-entrypoint.s…\"   8 minutes ago       Up 8 minutes        0.0.0.0:5433->5432/tcp                           optuna_pg\r\n"
     ]
    }
   ],
   "source": [
    "!docker ps | grep optuna_pg"
   ]
  },
  {
   "cell_type": "markdown",
   "metadata": {},
   "source": [
    "# list schemas"
   ]
  },
  {
   "cell_type": "code",
   "execution_count": 1,
   "metadata": {},
   "outputs": [
    {
     "name": "stdout",
     "output_type": "stream",
     "text": [
      "List of databases\r\n",
      "+-----------+-------+----------+------------+------------+-------------------+\r\n",
      "| Name      | Owner | Encoding | Collate    | Ctype      | Access privileges |\r\n",
      "+-----------+-------+----------+------------+------------+-------------------+\r\n",
      "| optuna    | admin | UTF8     | en_US.utf8 | en_US.utf8 | <null>            |\r\n",
      "| postgres  | admin | UTF8     | en_US.utf8 | en_US.utf8 | <null>            |\r\n",
      "| template0 | admin | UTF8     | en_US.utf8 | en_US.utf8 | =c/admin          |\r\n",
      "|           |       |          |            |            | admin=CTc/admin   |\r\n",
      "| template1 | admin | UTF8     | en_US.utf8 | en_US.utf8 | =c/admin          |\r\n",
      "|           |       |          |            |            | admin=CTc/admin   |\r\n",
      "+-----------+-------+----------+------------+------------+-------------------+\r\n",
      "SELECT 4\r\n"
     ]
    }
   ],
   "source": [
    "!pgcli -p 5433 -d optuna -h localhost -U admin  -l"
   ]
  },
  {
   "cell_type": "markdown",
   "metadata": {},
   "source": [
    "# list tables"
   ]
  },
  {
   "cell_type": "code",
   "execution_count": 3,
   "metadata": {},
   "outputs": [
    {
     "data": {
      "text/plain": [
       "['version_info',\n",
       " 'studies',\n",
       " 'study_user_attributes',\n",
       " 'study_system_attributes',\n",
       " 'trials',\n",
       " 'trial_user_attributes',\n",
       " 'trial_system_attributes',\n",
       " 'trial_params',\n",
       " 'trial_values',\n",
       " 'alembic_version']"
      ]
     },
     "execution_count": 3,
     "metadata": {},
     "output_type": "execute_result"
    }
   ],
   "source": [
    "from sqlalchemy import create_engine\n",
    "pg_url = 'postgresql+pg8000://admin@localhost:5433/optuna'\n",
    "engine = create_engine(pg_url)\n",
    "engine.table_names()"
   ]
  },
  {
   "cell_type": "code",
   "execution_count": null,
   "metadata": {},
   "outputs": [],
   "source": []
  }
 ],
 "metadata": {
  "kernelspec": {
   "display_name": "Python 3",
   "language": "python",
   "name": "python3"
  },
  "language_info": {
   "codemirror_mode": {
    "name": "ipython",
    "version": 3
   },
   "file_extension": ".py",
   "mimetype": "text/x-python",
   "name": "python",
   "nbconvert_exporter": "python",
   "pygments_lexer": "ipython3",
   "version": "3.7.6"
  }
 },
 "nbformat": 4,
 "nbformat_minor": 2
}
