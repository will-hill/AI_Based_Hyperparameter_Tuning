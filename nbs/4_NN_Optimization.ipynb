{
 "cells": [
  {
   "cell_type": "markdown",
   "metadata": {},
   "source": [
    "# NN hyperparameters\n",
    "### * n layers\n",
    "### * n units\n",
    "### * activation fn\n",
    "### * dropout pct\n",
    "### * loss fn\n",
    "### * optimizer\n",
    "### * ..."
   ]
  },
  {
   "cell_type": "markdown",
   "metadata": {},
   "source": [
    "### load, sample, split data"
   ]
  },
  {
   "cell_type": "code",
   "execution_count": 1,
   "metadata": {},
   "outputs": [],
   "source": [
    "import pandas as pd\n",
    "from sklearn.model_selection import train_test_split\n",
    "\n",
    "df = pd.read_csv('fraud_0.csv').sample(10000)\n",
    "\n",
    "y = df['isFraud']\n",
    "X = df.drop(columns = ['isFraud'], axis = 1)\n",
    "\n",
    "X_train, X_test, y_train, y_test = train_test_split(X, y, test_size=0.25, random_state=0)\n",
    "\n",
    "del df, X, y, train_test_split"
   ]
  },
  {
   "cell_type": "code",
   "execution_count": 2,
   "metadata": {},
   "outputs": [],
   "source": [
    "import optuna"
   ]
  },
  {
   "cell_type": "code",
   "execution_count": 155,
   "metadata": {},
   "outputs": [
    {
     "name": "stderr",
     "output_type": "stream",
     "text": [
      "\u001b[32m[I 2020-01-23 22:53:31,753]\u001b[0m A new study created with name: nn_ieee_fraud_mac\u001b[0m\n"
     ]
    }
   ],
   "source": [
    "pg_url = 'postgresql+pg8000://admin@localhost:5433/optuna'\n",
    "study = optuna.create_study(study_name='nn_ieee_fraud_mac', storage=pg_url)"
   ]
  },
  {
   "cell_type": "code",
   "execution_count": 156,
   "metadata": {},
   "outputs": [],
   "source": [
    "# https://keras.io/activations/\n",
    "activations = ['relu','tanh','sigmoid','softplus'] #,'elu','softmax','selu','softsign','hard_sigmoid','exponential','linear']\n",
    "# https://keras.io/optimizers/\n",
    "optimizers = ['sgd','adam']#,'rmsprop','adadelta','adamax','nadam']\n",
    "# https://keras.io/losses/\n",
    "losses = ['binary_crossentropy']#,'mean_squared_error','mean_absolute_error','mean_absolute_percentage_error','mean_squared_logarithmic_error','squared_hinge','hinge','categorical_hinge','logcosh']"
   ]
  },
  {
   "cell_type": "code",
   "execution_count": 157,
   "metadata": {},
   "outputs": [],
   "source": [
    "import keras\n",
    "from keras import backend as K\n",
    "from keras.models import Sequential, Model\n",
    "from keras.layers import Dense, Dropout, Input, InputLayer, Lambda\n",
    "from sklearn.metrics import roc_curve, auc, roc_auc_score, average_precision_score\n",
    "import matplotlib.pyplot as plt\n",
    "from sklearn import metrics\n",
    "from sklearn.base import BaseEstimator\n",
    "import numpy as np\n",
    "import math"
   ]
  },
  {
   "cell_type": "code",
   "execution_count": 158,
   "metadata": {},
   "outputs": [],
   "source": [
    "def nn_auc_objective(trial):\n",
    "        \n",
    "    # n Layers\n",
    "    n_layers =  trial.suggest_int('n_estimators', 1, 4)    \n",
    "    layers = []\n",
    "    in_lyer = Input(shape=(X_train.shape[1],))\n",
    "    layers.append(in_lyer)\n",
    "    \n",
    "    for i in range(n_layers):\n",
    "        \n",
    "        # n Units\n",
    "        n_units = int(trial.suggest_loguniform('n_units_l{}'.format(i), 2, 410))        \n",
    "        # activation fn\n",
    "        activation = trial.suggest_categorical('act_fn_l{}'.format(i), activations)\n",
    "        \n",
    "        layers.append(Dense(n_units, activation=activation)(layers[-1]))\n",
    "        \n",
    "        # dropout pct\n",
    "        if i < (n_layers-1):\n",
    "            drop_pct = np.nan_to_num(trial.suggest_uniform('drop_pct_l{}'.format(i), 0.00,0.99))\n",
    "            layers.append(Dropout(drop_pct)(layers[-1]))\n",
    "    \n",
    "    # OUTPUT LAYER\n",
    "    #output_activation = trial.suggest_categorical('output_activation', activations)\n",
    "    out_lyr = Dense(1, activation='sigmoid')(layers[-1])\n",
    "    \n",
    "    # loss fn\n",
    "    #loss_fn = trial.suggest_categorical('loss_fn', losses)\n",
    "    # optimizer\n",
    "    optimizer = trial.suggest_categorical('optimizer', optimizers)\n",
    "    \n",
    "    \n",
    "    model = Model(inputs=[in_lyer], outputs=[out_lyr])\n",
    "    model.summary()\n",
    "    \n",
    "    model.compile(loss='binary_crossentropy', optimizer=optimizer, metrics=['acc'])\n",
    "    \n",
    "    epchs = trial.suggest_int('epchs', 1, 10)\n",
    "    btch_sz = trial.suggest_int('btch_sz', 1, 1024)\n",
    "    \n",
    "    history = model.fit(\n",
    "        X_train.values, \n",
    "        y_train.values, \n",
    "        epochs=epchs, \n",
    "        batch_size=btch_sz)\n",
    "    \n",
    "    rnd_lyr = Lambda(lambda x: K.round(x)) (out_lyr)    \n",
    "    m1 = Model(inputs=[in_lyer], outputs=[rnd_lyr])\n",
    "    # print(m1.predict(X_test.values))\n",
    "    \n",
    "    class EST(BaseEstimator):\n",
    "        def predict(self, X):\n",
    "            a = m1.predict(X)\n",
    "            a = a.reshape(a.shape[0],)\n",
    "            a = [np.nan_to_num(i) for i in a]\n",
    "            return [int(round(i,0)) for i in a]\n",
    "    \n",
    "    print()\n",
    "    \n",
    "    fpr, tpr, _ = metrics.roc_curve(y_test,EST().predict(X_test.values))\n",
    "    return 1 - np.nan_to_num(metrics.auc(fpr, tpr) )"
   ]
  },
  {
   "cell_type": "code",
   "execution_count": 159,
   "metadata": {},
   "outputs": [
    {
     "name": "stdout",
     "output_type": "stream",
     "text": [
      "_________________________________________________________________\n",
      "Layer (type)                 Output Shape              Param #   \n",
      "=================================================================\n",
      "input_118 (InputLayer)       (None, 401)               0         \n",
      "_________________________________________________________________\n",
      "dense_2215 (Dense)           (None, 19)                7638      \n",
      "_________________________________________________________________\n",
      "dropout_1981 (Dropout)       (None, 19)                0         \n",
      "_________________________________________________________________\n",
      "dense_2216 (Dense)           (None, 310)               6200      \n",
      "_________________________________________________________________\n",
      "dense_2217 (Dense)           (None, 1)                 311       \n",
      "=================================================================\n",
      "Total params: 14,149\n",
      "Trainable params: 14,149\n",
      "Non-trainable params: 0\n",
      "_________________________________________________________________\n",
      "Epoch 1/6\n",
      "7500/7500 [==============================] - 48s 6ms/step - loss: 0.4387 - acc: 0.8135\n",
      "Epoch 2/6\n",
      "7500/7500 [==============================] - 0s 41us/step - loss: 0.1760 - acc: 0.9659\n",
      "Epoch 3/6\n",
      "7500/7500 [==============================] - 0s 40us/step - loss: 0.1572 - acc: 0.9659\n",
      "Epoch 4/6\n",
      "7500/7500 [==============================] - 0s 40us/step - loss: 0.1518 - acc: 0.9659\n",
      "Epoch 5/6\n",
      "7500/7500 [==============================] - 0s 41us/step - loss: 0.1502 - acc: 0.9659\n",
      "Epoch 6/6\n",
      "7500/7500 [==============================] - 0s 41us/step - loss: 0.1497 - acc: 0.9659\n",
      "\n"
     ]
    },
    {
     "name": "stderr",
     "output_type": "stream",
     "text": [
      "\u001b[32m[I 2020-01-23 22:56:20,489]\u001b[0m Finished trial#0 resulted in value: 0.5. Current best value is 0.5 with parameters: {'act_fn_l0': 'sigmoid', 'act_fn_l1': 'sigmoid', 'btch_sz': 579, 'drop_pct_l0': 0.41722633926567626, 'epchs': 6, 'n_estimators': 2, 'n_units_l0': 19.149210984678923, 'n_units_l1': 310.1030458069705, 'optimizer': 'sgd'}.\u001b[0m\n"
     ]
    },
    {
     "name": "stdout",
     "output_type": "stream",
     "text": [
      "_________________________________________________________________\n",
      "Layer (type)                 Output Shape              Param #   \n",
      "=================================================================\n",
      "input_119 (InputLayer)       (None, 401)               0         \n",
      "_________________________________________________________________\n",
      "dense_2218 (Dense)           (None, 40)                16080     \n",
      "_________________________________________________________________\n",
      "dropout_1982 (Dropout)       (None, 40)                0         \n",
      "_________________________________________________________________\n",
      "dense_2219 (Dense)           (None, 340)               13940     \n",
      "_________________________________________________________________\n",
      "dropout_1983 (Dropout)       (None, 340)               0         \n",
      "_________________________________________________________________\n",
      "dense_2220 (Dense)           (None, 3)                 1023      \n",
      "_________________________________________________________________\n",
      "dropout_1984 (Dropout)       (None, 3)                 0         \n",
      "_________________________________________________________________\n",
      "dense_2221 (Dense)           (None, 40)                160       \n",
      "_________________________________________________________________\n",
      "dense_2222 (Dense)           (None, 1)                 41        \n",
      "=================================================================\n",
      "Total params: 31,244\n",
      "Trainable params: 31,244\n",
      "Non-trainable params: 0\n",
      "_________________________________________________________________\n",
      "Epoch 1/2\n",
      "7500/7500 [==============================] - 47s 6ms/step - loss: 0.6713 - acc: 0.6108\n",
      "Epoch 2/2\n",
      "7500/7500 [==============================] - 0s 41us/step - loss: 0.5044 - acc: 0.9659\n",
      "\n"
     ]
    },
    {
     "name": "stderr",
     "output_type": "stream",
     "text": [
      "\u001b[32m[I 2020-01-23 22:57:30,290]\u001b[0m Finished trial#1 resulted in value: 0.5. Current best value is 0.5 with parameters: {'act_fn_l0': 'sigmoid', 'act_fn_l1': 'sigmoid', 'btch_sz': 579, 'drop_pct_l0': 0.41722633926567626, 'epchs': 6, 'n_estimators': 2, 'n_units_l0': 19.149210984678923, 'n_units_l1': 310.1030458069705, 'optimizer': 'sgd'}.\u001b[0m\n"
     ]
    },
    {
     "name": "stdout",
     "output_type": "stream",
     "text": [
      "_________________________________________________________________\n",
      "Layer (type)                 Output Shape              Param #   \n",
      "=================================================================\n",
      "input_120 (InputLayer)       (None, 401)               0         \n",
      "_________________________________________________________________\n",
      "dense_2223 (Dense)           (None, 351)               141102    \n",
      "_________________________________________________________________\n",
      "dropout_1985 (Dropout)       (None, 351)               0         \n",
      "_________________________________________________________________\n",
      "dense_2224 (Dense)           (None, 6)                 2112      \n",
      "_________________________________________________________________\n",
      "dropout_1986 (Dropout)       (None, 6)                 0         \n",
      "_________________________________________________________________\n",
      "dense_2225 (Dense)           (None, 4)                 28        \n",
      "_________________________________________________________________\n",
      "dense_2226 (Dense)           (None, 1)                 5         \n",
      "=================================================================\n",
      "Total params: 143,247\n",
      "Trainable params: 143,247\n",
      "Non-trainable params: 0\n",
      "_________________________________________________________________\n",
      "Epoch 1/5\n",
      "7500/7500 [==============================] - 46s 6ms/step - loss: 6.8295 - acc: 0.5764\n",
      "Epoch 2/5\n",
      "7500/7500 [==============================] - 0s 52us/step - loss: 6.9166 - acc: 0.5708\n",
      "Epoch 3/5\n",
      "7500/7500 [==============================] - 0s 50us/step - loss: 6.9822 - acc: 0.5651\n",
      "Epoch 4/5\n",
      "7500/7500 [==============================] - 0s 51us/step - loss: 7.0331 - acc: 0.5621\n",
      "Epoch 5/5\n",
      "7500/7500 [==============================] - 0s 49us/step - loss: 6.9634 - acc: 0.5655\n",
      "\n"
     ]
    },
    {
     "name": "stderr",
     "output_type": "stream",
     "text": [
      "\u001b[32m[I 2020-01-23 22:58:40,516]\u001b[0m Finished trial#2 resulted in value: 0.49904831901100555. Current best value is 0.49904831901100555 with parameters: {'act_fn_l0': 'relu', 'act_fn_l1': 'relu', 'act_fn_l2': 'relu', 'btch_sz': 677, 'drop_pct_l0': 0.2840917857728824, 'drop_pct_l1': 0.7245909014674915, 'epchs': 5, 'n_estimators': 3, 'n_units_l0': 351.1866872613872, 'n_units_l1': 6.009419583724631, 'n_units_l2': 4.123964346359425, 'optimizer': 'adam'}.\u001b[0m\n"
     ]
    },
    {
     "name": "stdout",
     "output_type": "stream",
     "text": [
      "_________________________________________________________________\n",
      "Layer (type)                 Output Shape              Param #   \n",
      "=================================================================\n",
      "input_121 (InputLayer)       (None, 401)               0         \n",
      "_________________________________________________________________\n",
      "dense_2227 (Dense)           (None, 27)                10854     \n",
      "_________________________________________________________________\n",
      "dropout_1987 (Dropout)       (None, 27)                0         \n",
      "_________________________________________________________________\n",
      "dense_2228 (Dense)           (None, 331)               9268      \n",
      "_________________________________________________________________\n",
      "dropout_1988 (Dropout)       (None, 331)               0         \n",
      "_________________________________________________________________\n",
      "dense_2229 (Dense)           (None, 157)               52124     \n",
      "_________________________________________________________________\n",
      "dense_2230 (Dense)           (None, 1)                 158       \n",
      "=================================================================\n",
      "Total params: 72,404\n",
      "Trainable params: 72,404\n",
      "Non-trainable params: 0\n",
      "_________________________________________________________________\n",
      "Epoch 1/8\n",
      "7500/7500 [==============================] - 46s 6ms/step - loss: 0.4501 - acc: 0.8068\n",
      "Epoch 2/8\n",
      "7500/7500 [==============================] - 0s 43us/step - loss: 0.2408 - acc: 0.9483\n",
      "Epoch 3/8\n",
      "7500/7500 [==============================] - 0s 44us/step - loss: 0.1957 - acc: 0.9619\n",
      "Epoch 4/8\n",
      "7500/7500 [==============================] - 0s 44us/step - loss: 0.1812 - acc: 0.9635\n",
      "Epoch 5/8\n",
      "7500/7500 [==============================] - 0s 44us/step - loss: 0.1704 - acc: 0.9652\n",
      "Epoch 6/8\n",
      "7500/7500 [==============================] - 0s 46us/step - loss: 0.1738 - acc: 0.9653\n",
      "Epoch 7/8\n",
      "7500/7500 [==============================] - 0s 44us/step - loss: 0.1665 - acc: 0.9656\n",
      "Epoch 8/8\n",
      "7500/7500 [==============================] - 0s 44us/step - loss: 0.1636 - acc: 0.9656\n",
      "\n"
     ]
    },
    {
     "name": "stderr",
     "output_type": "stream",
     "text": [
      "\u001b[32m[I 2020-01-23 22:59:50,359]\u001b[0m Finished trial#3 resulted in value: 0.5. Current best value is 0.49904831901100555 with parameters: {'act_fn_l0': 'relu', 'act_fn_l1': 'relu', 'act_fn_l2': 'relu', 'btch_sz': 677, 'drop_pct_l0': 0.2840917857728824, 'drop_pct_l1': 0.7245909014674915, 'epchs': 5, 'n_estimators': 3, 'n_units_l0': 351.1866872613872, 'n_units_l1': 6.009419583724631, 'n_units_l2': 4.123964346359425, 'optimizer': 'adam'}.\u001b[0m\n"
     ]
    },
    {
     "name": "stdout",
     "output_type": "stream",
     "text": [
      "_________________________________________________________________\n",
      "Layer (type)                 Output Shape              Param #   \n",
      "=================================================================\n",
      "input_122 (InputLayer)       (None, 401)               0         \n",
      "_________________________________________________________________\n",
      "dense_2231 (Dense)           (None, 24)                9648      \n",
      "_________________________________________________________________\n",
      "dense_2232 (Dense)           (None, 1)                 25        \n",
      "=================================================================\n",
      "Total params: 9,673\n",
      "Trainable params: 9,673\n",
      "Non-trainable params: 0\n",
      "_________________________________________________________________\n",
      "Epoch 1/8\n",
      "7500/7500 [==============================] - 45s 6ms/step - loss: 0.4921 - acc: 0.7739\n",
      "Epoch 2/8\n",
      "7500/7500 [==============================] - 0s 39us/step - loss: 0.3087 - acc: 0.9645\n",
      "Epoch 3/8\n",
      "7500/7500 [==============================] - 0s 39us/step - loss: 0.2411 - acc: 0.9656\n",
      "Epoch 4/8\n",
      "7500/7500 [==============================] - 0s 39us/step - loss: 0.2090 - acc: 0.9659\n",
      "Epoch 5/8\n",
      "7500/7500 [==============================] - 0s 39us/step - loss: 0.1913 - acc: 0.9659\n",
      "Epoch 6/8\n",
      "7500/7500 [==============================] - 0s 39us/step - loss: 0.1806 - acc: 0.9659\n",
      "Epoch 7/8\n",
      "7500/7500 [==============================] - 0s 40us/step - loss: 0.1736 - acc: 0.9659\n",
      "Epoch 8/8\n",
      "7500/7500 [==============================] - 0s 39us/step - loss: 0.1688 - acc: 0.9659\n",
      "\n"
     ]
    },
    {
     "name": "stderr",
     "output_type": "stream",
     "text": [
      "\u001b[32m[I 2020-01-23 23:00:58,805]\u001b[0m Finished trial#4 resulted in value: 0.5. Current best value is 0.49904831901100555 with parameters: {'act_fn_l0': 'relu', 'act_fn_l1': 'relu', 'act_fn_l2': 'relu', 'btch_sz': 677, 'drop_pct_l0': 0.2840917857728824, 'drop_pct_l1': 0.7245909014674915, 'epchs': 5, 'n_estimators': 3, 'n_units_l0': 351.1866872613872, 'n_units_l1': 6.009419583724631, 'n_units_l2': 4.123964346359425, 'optimizer': 'adam'}.\u001b[0m\n"
     ]
    }
   ],
   "source": [
    "study.optimize(nn_auc_objective, n_trials=100, timeout=300)"
   ]
  },
  {
   "cell_type": "code",
   "execution_count": 153,
   "metadata": {},
   "outputs": [
    {
     "data": {
      "text/html": [
       "<div>\n",
       "<style scoped>\n",
       "    .dataframe tbody tr th:only-of-type {\n",
       "        vertical-align: middle;\n",
       "    }\n",
       "\n",
       "    .dataframe tbody tr th {\n",
       "        vertical-align: top;\n",
       "    }\n",
       "\n",
       "    .dataframe thead th {\n",
       "        text-align: right;\n",
       "    }\n",
       "</style>\n",
       "<table border=\"1\" class=\"dataframe\">\n",
       "  <thead>\n",
       "    <tr style=\"text-align: right;\">\n",
       "      <th></th>\n",
       "      <th>number</th>\n",
       "      <th>value</th>\n",
       "      <th>params_act_fn_l0</th>\n",
       "      <th>params_act_fn_l1</th>\n",
       "      <th>params_act_fn_l2</th>\n",
       "      <th>params_act_fn_l3</th>\n",
       "      <th>params_btch_sz</th>\n",
       "      <th>params_drop_pct_l0</th>\n",
       "      <th>params_drop_pct_l1</th>\n",
       "      <th>params_drop_pct_l2</th>\n",
       "      <th>params_epchs</th>\n",
       "      <th>params_loss_fn</th>\n",
       "      <th>params_n_estimators</th>\n",
       "      <th>params_n_units_l0</th>\n",
       "      <th>params_n_units_l1</th>\n",
       "      <th>params_n_units_l2</th>\n",
       "      <th>params_n_units_l3</th>\n",
       "      <th>params_optimizer</th>\n",
       "      <th>params_output_activation</th>\n",
       "      <th>state</th>\n",
       "    </tr>\n",
       "  </thead>\n",
       "  <tbody>\n",
       "    <tr>\n",
       "      <th>0</th>\n",
       "      <td>0</td>\n",
       "      <td>0.5</td>\n",
       "      <td>tanh</td>\n",
       "      <td>tanh</td>\n",
       "      <td>sigmoid</td>\n",
       "      <td>softplus</td>\n",
       "      <td>288</td>\n",
       "      <td>0.043032</td>\n",
       "      <td>0.791751</td>\n",
       "      <td>0.793716</td>\n",
       "      <td>2</td>\n",
       "      <td>binary_crossentropy</td>\n",
       "      <td>4</td>\n",
       "      <td>23.512683</td>\n",
       "      <td>57.871778</td>\n",
       "      <td>259.387902</td>\n",
       "      <td>47.381963</td>\n",
       "      <td>sgd</td>\n",
       "      <td>tanh</td>\n",
       "      <td>COMPLETE</td>\n",
       "    </tr>\n",
       "    <tr>\n",
       "      <th>1</th>\n",
       "      <td>1</td>\n",
       "      <td>0.5</td>\n",
       "      <td>softplus</td>\n",
       "      <td>sigmoid</td>\n",
       "      <td>sigmoid</td>\n",
       "      <td>relu</td>\n",
       "      <td>728</td>\n",
       "      <td>0.254780</td>\n",
       "      <td>0.085958</td>\n",
       "      <td>0.465410</td>\n",
       "      <td>2</td>\n",
       "      <td>binary_crossentropy</td>\n",
       "      <td>4</td>\n",
       "      <td>245.418200</td>\n",
       "      <td>47.452048</td>\n",
       "      <td>63.835692</td>\n",
       "      <td>46.468002</td>\n",
       "      <td>sgd</td>\n",
       "      <td>softplus</td>\n",
       "      <td>COMPLETE</td>\n",
       "    </tr>\n",
       "    <tr>\n",
       "      <th>2</th>\n",
       "      <td>2</td>\n",
       "      <td>0.5</td>\n",
       "      <td>softplus</td>\n",
       "      <td>tanh</td>\n",
       "      <td>tanh</td>\n",
       "      <td>NaN</td>\n",
       "      <td>1002</td>\n",
       "      <td>0.267952</td>\n",
       "      <td>0.372788</td>\n",
       "      <td>NaN</td>\n",
       "      <td>1</td>\n",
       "      <td>binary_crossentropy</td>\n",
       "      <td>3</td>\n",
       "      <td>28.783537</td>\n",
       "      <td>6.493670</td>\n",
       "      <td>158.603137</td>\n",
       "      <td>NaN</td>\n",
       "      <td>adam</td>\n",
       "      <td>tanh</td>\n",
       "      <td>COMPLETE</td>\n",
       "    </tr>\n",
       "    <tr>\n",
       "      <th>3</th>\n",
       "      <td>3</td>\n",
       "      <td>0.5</td>\n",
       "      <td>softplus</td>\n",
       "      <td>tanh</td>\n",
       "      <td>relu</td>\n",
       "      <td>NaN</td>\n",
       "      <td>452</td>\n",
       "      <td>0.355564</td>\n",
       "      <td>0.961752</td>\n",
       "      <td>NaN</td>\n",
       "      <td>7</td>\n",
       "      <td>binary_crossentropy</td>\n",
       "      <td>3</td>\n",
       "      <td>37.470150</td>\n",
       "      <td>10.055097</td>\n",
       "      <td>169.698680</td>\n",
       "      <td>NaN</td>\n",
       "      <td>sgd</td>\n",
       "      <td>softplus</td>\n",
       "      <td>COMPLETE</td>\n",
       "    </tr>\n",
       "    <tr>\n",
       "      <th>4</th>\n",
       "      <td>4</td>\n",
       "      <td>0.5</td>\n",
       "      <td>tanh</td>\n",
       "      <td>sigmoid</td>\n",
       "      <td>tanh</td>\n",
       "      <td>NaN</td>\n",
       "      <td>288</td>\n",
       "      <td>0.402552</td>\n",
       "      <td>0.225885</td>\n",
       "      <td>NaN</td>\n",
       "      <td>2</td>\n",
       "      <td>binary_crossentropy</td>\n",
       "      <td>3</td>\n",
       "      <td>175.839399</td>\n",
       "      <td>10.270365</td>\n",
       "      <td>88.316813</td>\n",
       "      <td>NaN</td>\n",
       "      <td>adam</td>\n",
       "      <td>tanh</td>\n",
       "      <td>COMPLETE</td>\n",
       "    </tr>\n",
       "  </tbody>\n",
       "</table>\n",
       "</div>"
      ],
      "text/plain": [
       "   number  value params_act_fn_l0 params_act_fn_l1 params_act_fn_l2  \\\n",
       "0       0    0.5             tanh             tanh          sigmoid   \n",
       "1       1    0.5         softplus          sigmoid          sigmoid   \n",
       "2       2    0.5         softplus             tanh             tanh   \n",
       "3       3    0.5         softplus             tanh             relu   \n",
       "4       4    0.5             tanh          sigmoid             tanh   \n",
       "\n",
       "  params_act_fn_l3  params_btch_sz  params_drop_pct_l0  params_drop_pct_l1  \\\n",
       "0         softplus             288            0.043032            0.791751   \n",
       "1             relu             728            0.254780            0.085958   \n",
       "2              NaN            1002            0.267952            0.372788   \n",
       "3              NaN             452            0.355564            0.961752   \n",
       "4              NaN             288            0.402552            0.225885   \n",
       "\n",
       "   params_drop_pct_l2  params_epchs       params_loss_fn  params_n_estimators  \\\n",
       "0            0.793716             2  binary_crossentropy                    4   \n",
       "1            0.465410             2  binary_crossentropy                    4   \n",
       "2                 NaN             1  binary_crossentropy                    3   \n",
       "3                 NaN             7  binary_crossentropy                    3   \n",
       "4                 NaN             2  binary_crossentropy                    3   \n",
       "\n",
       "   params_n_units_l0  params_n_units_l1  params_n_units_l2  params_n_units_l3  \\\n",
       "0          23.512683          57.871778         259.387902          47.381963   \n",
       "1         245.418200          47.452048          63.835692          46.468002   \n",
       "2          28.783537           6.493670         158.603137                NaN   \n",
       "3          37.470150          10.055097         169.698680                NaN   \n",
       "4         175.839399          10.270365          88.316813                NaN   \n",
       "\n",
       "  params_optimizer params_output_activation     state  \n",
       "0              sgd                     tanh  COMPLETE  \n",
       "1              sgd                 softplus  COMPLETE  \n",
       "2             adam                     tanh  COMPLETE  \n",
       "3              sgd                 softplus  COMPLETE  \n",
       "4             adam                     tanh  COMPLETE  "
      ]
     },
     "execution_count": 153,
     "metadata": {},
     "output_type": "execute_result"
    }
   ],
   "source": [
    "df = study.trials_dataframe(attrs=('number', 'value', 'params', 'state'))\n",
    "df.sort_values(by='value')"
   ]
  },
  {
   "cell_type": "markdown",
   "metadata": {},
   "source": [
    "### visualizations"
   ]
  },
  {
   "cell_type": "code",
   "execution_count": 154,
   "metadata": {},
   "outputs": [
    {
     "data": {
      "application/vnd.plotly.v1+json": {
       "config": {
        "plotlyServerURL": "https://plot.ly"
       },
       "data": [
        {
         "mode": "markers",
         "name": "Objective Value",
         "type": "scatter",
         "x": [
          0,
          1,
          2,
          3,
          4
         ],
         "y": [
          0.5,
          0.5,
          0.5,
          0.5,
          0.5
         ]
        },
        {
         "name": "Best Value",
         "type": "scatter",
         "x": [
          0,
          1,
          2,
          3,
          4
         ],
         "y": [
          0.5,
          0.5,
          0.5,
          0.5,
          0.5
         ]
        }
       ],
       "layout": {
        "template": {
         "data": {
          "bar": [
           {
            "error_x": {
             "color": "#2a3f5f"
            },
            "error_y": {
             "color": "#2a3f5f"
            },
            "marker": {
             "line": {
              "color": "#E5ECF6",
              "width": 0.5
             }
            },
            "type": "bar"
           }
          ],
          "barpolar": [
           {
            "marker": {
             "line": {
              "color": "#E5ECF6",
              "width": 0.5
             }
            },
            "type": "barpolar"
           }
          ],
          "carpet": [
           {
            "aaxis": {
             "endlinecolor": "#2a3f5f",
             "gridcolor": "white",
             "linecolor": "white",
             "minorgridcolor": "white",
             "startlinecolor": "#2a3f5f"
            },
            "baxis": {
             "endlinecolor": "#2a3f5f",
             "gridcolor": "white",
             "linecolor": "white",
             "minorgridcolor": "white",
             "startlinecolor": "#2a3f5f"
            },
            "type": "carpet"
           }
          ],
          "choropleth": [
           {
            "colorbar": {
             "outlinewidth": 0,
             "ticks": ""
            },
            "type": "choropleth"
           }
          ],
          "contour": [
           {
            "colorbar": {
             "outlinewidth": 0,
             "ticks": ""
            },
            "colorscale": [
             [
              0,
              "#0d0887"
             ],
             [
              0.1111111111111111,
              "#46039f"
             ],
             [
              0.2222222222222222,
              "#7201a8"
             ],
             [
              0.3333333333333333,
              "#9c179e"
             ],
             [
              0.4444444444444444,
              "#bd3786"
             ],
             [
              0.5555555555555556,
              "#d8576b"
             ],
             [
              0.6666666666666666,
              "#ed7953"
             ],
             [
              0.7777777777777778,
              "#fb9f3a"
             ],
             [
              0.8888888888888888,
              "#fdca26"
             ],
             [
              1,
              "#f0f921"
             ]
            ],
            "type": "contour"
           }
          ],
          "contourcarpet": [
           {
            "colorbar": {
             "outlinewidth": 0,
             "ticks": ""
            },
            "type": "contourcarpet"
           }
          ],
          "heatmap": [
           {
            "colorbar": {
             "outlinewidth": 0,
             "ticks": ""
            },
            "colorscale": [
             [
              0,
              "#0d0887"
             ],
             [
              0.1111111111111111,
              "#46039f"
             ],
             [
              0.2222222222222222,
              "#7201a8"
             ],
             [
              0.3333333333333333,
              "#9c179e"
             ],
             [
              0.4444444444444444,
              "#bd3786"
             ],
             [
              0.5555555555555556,
              "#d8576b"
             ],
             [
              0.6666666666666666,
              "#ed7953"
             ],
             [
              0.7777777777777778,
              "#fb9f3a"
             ],
             [
              0.8888888888888888,
              "#fdca26"
             ],
             [
              1,
              "#f0f921"
             ]
            ],
            "type": "heatmap"
           }
          ],
          "heatmapgl": [
           {
            "colorbar": {
             "outlinewidth": 0,
             "ticks": ""
            },
            "colorscale": [
             [
              0,
              "#0d0887"
             ],
             [
              0.1111111111111111,
              "#46039f"
             ],
             [
              0.2222222222222222,
              "#7201a8"
             ],
             [
              0.3333333333333333,
              "#9c179e"
             ],
             [
              0.4444444444444444,
              "#bd3786"
             ],
             [
              0.5555555555555556,
              "#d8576b"
             ],
             [
              0.6666666666666666,
              "#ed7953"
             ],
             [
              0.7777777777777778,
              "#fb9f3a"
             ],
             [
              0.8888888888888888,
              "#fdca26"
             ],
             [
              1,
              "#f0f921"
             ]
            ],
            "type": "heatmapgl"
           }
          ],
          "histogram": [
           {
            "marker": {
             "colorbar": {
              "outlinewidth": 0,
              "ticks": ""
             }
            },
            "type": "histogram"
           }
          ],
          "histogram2d": [
           {
            "colorbar": {
             "outlinewidth": 0,
             "ticks": ""
            },
            "colorscale": [
             [
              0,
              "#0d0887"
             ],
             [
              0.1111111111111111,
              "#46039f"
             ],
             [
              0.2222222222222222,
              "#7201a8"
             ],
             [
              0.3333333333333333,
              "#9c179e"
             ],
             [
              0.4444444444444444,
              "#bd3786"
             ],
             [
              0.5555555555555556,
              "#d8576b"
             ],
             [
              0.6666666666666666,
              "#ed7953"
             ],
             [
              0.7777777777777778,
              "#fb9f3a"
             ],
             [
              0.8888888888888888,
              "#fdca26"
             ],
             [
              1,
              "#f0f921"
             ]
            ],
            "type": "histogram2d"
           }
          ],
          "histogram2dcontour": [
           {
            "colorbar": {
             "outlinewidth": 0,
             "ticks": ""
            },
            "colorscale": [
             [
              0,
              "#0d0887"
             ],
             [
              0.1111111111111111,
              "#46039f"
             ],
             [
              0.2222222222222222,
              "#7201a8"
             ],
             [
              0.3333333333333333,
              "#9c179e"
             ],
             [
              0.4444444444444444,
              "#bd3786"
             ],
             [
              0.5555555555555556,
              "#d8576b"
             ],
             [
              0.6666666666666666,
              "#ed7953"
             ],
             [
              0.7777777777777778,
              "#fb9f3a"
             ],
             [
              0.8888888888888888,
              "#fdca26"
             ],
             [
              1,
              "#f0f921"
             ]
            ],
            "type": "histogram2dcontour"
           }
          ],
          "mesh3d": [
           {
            "colorbar": {
             "outlinewidth": 0,
             "ticks": ""
            },
            "type": "mesh3d"
           }
          ],
          "parcoords": [
           {
            "line": {
             "colorbar": {
              "outlinewidth": 0,
              "ticks": ""
             }
            },
            "type": "parcoords"
           }
          ],
          "pie": [
           {
            "automargin": true,
            "type": "pie"
           }
          ],
          "scatter": [
           {
            "marker": {
             "colorbar": {
              "outlinewidth": 0,
              "ticks": ""
             }
            },
            "type": "scatter"
           }
          ],
          "scatter3d": [
           {
            "line": {
             "colorbar": {
              "outlinewidth": 0,
              "ticks": ""
             }
            },
            "marker": {
             "colorbar": {
              "outlinewidth": 0,
              "ticks": ""
             }
            },
            "type": "scatter3d"
           }
          ],
          "scattercarpet": [
           {
            "marker": {
             "colorbar": {
              "outlinewidth": 0,
              "ticks": ""
             }
            },
            "type": "scattercarpet"
           }
          ],
          "scattergeo": [
           {
            "marker": {
             "colorbar": {
              "outlinewidth": 0,
              "ticks": ""
             }
            },
            "type": "scattergeo"
           }
          ],
          "scattergl": [
           {
            "marker": {
             "colorbar": {
              "outlinewidth": 0,
              "ticks": ""
             }
            },
            "type": "scattergl"
           }
          ],
          "scattermapbox": [
           {
            "marker": {
             "colorbar": {
              "outlinewidth": 0,
              "ticks": ""
             }
            },
            "type": "scattermapbox"
           }
          ],
          "scatterpolar": [
           {
            "marker": {
             "colorbar": {
              "outlinewidth": 0,
              "ticks": ""
             }
            },
            "type": "scatterpolar"
           }
          ],
          "scatterpolargl": [
           {
            "marker": {
             "colorbar": {
              "outlinewidth": 0,
              "ticks": ""
             }
            },
            "type": "scatterpolargl"
           }
          ],
          "scatterternary": [
           {
            "marker": {
             "colorbar": {
              "outlinewidth": 0,
              "ticks": ""
             }
            },
            "type": "scatterternary"
           }
          ],
          "surface": [
           {
            "colorbar": {
             "outlinewidth": 0,
             "ticks": ""
            },
            "colorscale": [
             [
              0,
              "#0d0887"
             ],
             [
              0.1111111111111111,
              "#46039f"
             ],
             [
              0.2222222222222222,
              "#7201a8"
             ],
             [
              0.3333333333333333,
              "#9c179e"
             ],
             [
              0.4444444444444444,
              "#bd3786"
             ],
             [
              0.5555555555555556,
              "#d8576b"
             ],
             [
              0.6666666666666666,
              "#ed7953"
             ],
             [
              0.7777777777777778,
              "#fb9f3a"
             ],
             [
              0.8888888888888888,
              "#fdca26"
             ],
             [
              1,
              "#f0f921"
             ]
            ],
            "type": "surface"
           }
          ],
          "table": [
           {
            "cells": {
             "fill": {
              "color": "#EBF0F8"
             },
             "line": {
              "color": "white"
             }
            },
            "header": {
             "fill": {
              "color": "#C8D4E3"
             },
             "line": {
              "color": "white"
             }
            },
            "type": "table"
           }
          ]
         },
         "layout": {
          "annotationdefaults": {
           "arrowcolor": "#2a3f5f",
           "arrowhead": 0,
           "arrowwidth": 1
          },
          "coloraxis": {
           "colorbar": {
            "outlinewidth": 0,
            "ticks": ""
           }
          },
          "colorscale": {
           "diverging": [
            [
             0,
             "#8e0152"
            ],
            [
             0.1,
             "#c51b7d"
            ],
            [
             0.2,
             "#de77ae"
            ],
            [
             0.3,
             "#f1b6da"
            ],
            [
             0.4,
             "#fde0ef"
            ],
            [
             0.5,
             "#f7f7f7"
            ],
            [
             0.6,
             "#e6f5d0"
            ],
            [
             0.7,
             "#b8e186"
            ],
            [
             0.8,
             "#7fbc41"
            ],
            [
             0.9,
             "#4d9221"
            ],
            [
             1,
             "#276419"
            ]
           ],
           "sequential": [
            [
             0,
             "#0d0887"
            ],
            [
             0.1111111111111111,
             "#46039f"
            ],
            [
             0.2222222222222222,
             "#7201a8"
            ],
            [
             0.3333333333333333,
             "#9c179e"
            ],
            [
             0.4444444444444444,
             "#bd3786"
            ],
            [
             0.5555555555555556,
             "#d8576b"
            ],
            [
             0.6666666666666666,
             "#ed7953"
            ],
            [
             0.7777777777777778,
             "#fb9f3a"
            ],
            [
             0.8888888888888888,
             "#fdca26"
            ],
            [
             1,
             "#f0f921"
            ]
           ],
           "sequentialminus": [
            [
             0,
             "#0d0887"
            ],
            [
             0.1111111111111111,
             "#46039f"
            ],
            [
             0.2222222222222222,
             "#7201a8"
            ],
            [
             0.3333333333333333,
             "#9c179e"
            ],
            [
             0.4444444444444444,
             "#bd3786"
            ],
            [
             0.5555555555555556,
             "#d8576b"
            ],
            [
             0.6666666666666666,
             "#ed7953"
            ],
            [
             0.7777777777777778,
             "#fb9f3a"
            ],
            [
             0.8888888888888888,
             "#fdca26"
            ],
            [
             1,
             "#f0f921"
            ]
           ]
          },
          "colorway": [
           "#636efa",
           "#EF553B",
           "#00cc96",
           "#ab63fa",
           "#FFA15A",
           "#19d3f3",
           "#FF6692",
           "#B6E880",
           "#FF97FF",
           "#FECB52"
          ],
          "font": {
           "color": "#2a3f5f"
          },
          "geo": {
           "bgcolor": "white",
           "lakecolor": "white",
           "landcolor": "#E5ECF6",
           "showlakes": true,
           "showland": true,
           "subunitcolor": "white"
          },
          "hoverlabel": {
           "align": "left"
          },
          "hovermode": "closest",
          "mapbox": {
           "style": "light"
          },
          "paper_bgcolor": "white",
          "plot_bgcolor": "#E5ECF6",
          "polar": {
           "angularaxis": {
            "gridcolor": "white",
            "linecolor": "white",
            "ticks": ""
           },
           "bgcolor": "#E5ECF6",
           "radialaxis": {
            "gridcolor": "white",
            "linecolor": "white",
            "ticks": ""
           }
          },
          "scene": {
           "xaxis": {
            "backgroundcolor": "#E5ECF6",
            "gridcolor": "white",
            "gridwidth": 2,
            "linecolor": "white",
            "showbackground": true,
            "ticks": "",
            "zerolinecolor": "white"
           },
           "yaxis": {
            "backgroundcolor": "#E5ECF6",
            "gridcolor": "white",
            "gridwidth": 2,
            "linecolor": "white",
            "showbackground": true,
            "ticks": "",
            "zerolinecolor": "white"
           },
           "zaxis": {
            "backgroundcolor": "#E5ECF6",
            "gridcolor": "white",
            "gridwidth": 2,
            "linecolor": "white",
            "showbackground": true,
            "ticks": "",
            "zerolinecolor": "white"
           }
          },
          "shapedefaults": {
           "line": {
            "color": "#2a3f5f"
           }
          },
          "ternary": {
           "aaxis": {
            "gridcolor": "white",
            "linecolor": "white",
            "ticks": ""
           },
           "baxis": {
            "gridcolor": "white",
            "linecolor": "white",
            "ticks": ""
           },
           "bgcolor": "#E5ECF6",
           "caxis": {
            "gridcolor": "white",
            "linecolor": "white",
            "ticks": ""
           }
          },
          "title": {
           "x": 0.05
          },
          "xaxis": {
           "automargin": true,
           "gridcolor": "white",
           "linecolor": "white",
           "ticks": "",
           "title": {
            "standoff": 15
           },
           "zerolinecolor": "white",
           "zerolinewidth": 2
          },
          "yaxis": {
           "automargin": true,
           "gridcolor": "white",
           "linecolor": "white",
           "ticks": "",
           "title": {
            "standoff": 15
           },
           "zerolinecolor": "white",
           "zerolinewidth": 2
          }
         }
        },
        "title": {
         "text": "Optimization History Plot"
        },
        "xaxis": {
         "title": {
          "text": "#Trials"
         }
        },
        "yaxis": {
         "title": {
          "text": "Objective Value"
         }
        }
       }
      },
      "text/html": [
       "<div>\n",
       "        \n",
       "        \n",
       "            <div id=\"06bbd8c4-10ca-4109-a6c7-48cccf305bb6\" class=\"plotly-graph-div\" style=\"height:525px; width:100%;\"></div>\n",
       "            <script type=\"text/javascript\">\n",
       "                require([\"plotly\"], function(Plotly) {\n",
       "                    window.PLOTLYENV=window.PLOTLYENV || {};\n",
       "                    \n",
       "                if (document.getElementById(\"06bbd8c4-10ca-4109-a6c7-48cccf305bb6\")) {\n",
       "                    Plotly.newPlot(\n",
       "                        '06bbd8c4-10ca-4109-a6c7-48cccf305bb6',\n",
       "                        [{\"mode\": \"markers\", \"name\": \"Objective Value\", \"type\": \"scatter\", \"x\": [0, 1, 2, 3, 4], \"y\": [0.5, 0.5, 0.5, 0.5, 0.5]}, {\"name\": \"Best Value\", \"type\": \"scatter\", \"x\": [0, 1, 2, 3, 4], \"y\": [0.5, 0.5, 0.5, 0.5, 0.5]}],\n",
       "                        {\"template\": {\"data\": {\"bar\": [{\"error_x\": {\"color\": \"#2a3f5f\"}, \"error_y\": {\"color\": \"#2a3f5f\"}, \"marker\": {\"line\": {\"color\": \"#E5ECF6\", \"width\": 0.5}}, \"type\": \"bar\"}], \"barpolar\": [{\"marker\": {\"line\": {\"color\": \"#E5ECF6\", \"width\": 0.5}}, \"type\": \"barpolar\"}], \"carpet\": [{\"aaxis\": {\"endlinecolor\": \"#2a3f5f\", \"gridcolor\": \"white\", \"linecolor\": \"white\", \"minorgridcolor\": \"white\", \"startlinecolor\": \"#2a3f5f\"}, \"baxis\": {\"endlinecolor\": \"#2a3f5f\", \"gridcolor\": \"white\", \"linecolor\": \"white\", \"minorgridcolor\": \"white\", \"startlinecolor\": \"#2a3f5f\"}, \"type\": \"carpet\"}], \"choropleth\": [{\"colorbar\": {\"outlinewidth\": 0, \"ticks\": \"\"}, \"type\": \"choropleth\"}], \"contour\": [{\"colorbar\": {\"outlinewidth\": 0, \"ticks\": \"\"}, \"colorscale\": [[0.0, \"#0d0887\"], [0.1111111111111111, \"#46039f\"], [0.2222222222222222, \"#7201a8\"], [0.3333333333333333, \"#9c179e\"], [0.4444444444444444, \"#bd3786\"], [0.5555555555555556, \"#d8576b\"], [0.6666666666666666, \"#ed7953\"], [0.7777777777777778, \"#fb9f3a\"], [0.8888888888888888, \"#fdca26\"], [1.0, \"#f0f921\"]], \"type\": \"contour\"}], \"contourcarpet\": [{\"colorbar\": {\"outlinewidth\": 0, \"ticks\": \"\"}, \"type\": \"contourcarpet\"}], \"heatmap\": [{\"colorbar\": {\"outlinewidth\": 0, \"ticks\": \"\"}, \"colorscale\": [[0.0, \"#0d0887\"], [0.1111111111111111, \"#46039f\"], [0.2222222222222222, \"#7201a8\"], [0.3333333333333333, \"#9c179e\"], [0.4444444444444444, \"#bd3786\"], [0.5555555555555556, \"#d8576b\"], [0.6666666666666666, \"#ed7953\"], [0.7777777777777778, \"#fb9f3a\"], [0.8888888888888888, \"#fdca26\"], [1.0, \"#f0f921\"]], \"type\": \"heatmap\"}], \"heatmapgl\": [{\"colorbar\": {\"outlinewidth\": 0, \"ticks\": \"\"}, \"colorscale\": [[0.0, \"#0d0887\"], [0.1111111111111111, \"#46039f\"], [0.2222222222222222, \"#7201a8\"], [0.3333333333333333, \"#9c179e\"], [0.4444444444444444, \"#bd3786\"], [0.5555555555555556, \"#d8576b\"], [0.6666666666666666, \"#ed7953\"], [0.7777777777777778, \"#fb9f3a\"], [0.8888888888888888, \"#fdca26\"], [1.0, \"#f0f921\"]], \"type\": \"heatmapgl\"}], \"histogram\": [{\"marker\": {\"colorbar\": {\"outlinewidth\": 0, \"ticks\": \"\"}}, \"type\": \"histogram\"}], \"histogram2d\": [{\"colorbar\": {\"outlinewidth\": 0, \"ticks\": \"\"}, \"colorscale\": [[0.0, \"#0d0887\"], [0.1111111111111111, \"#46039f\"], [0.2222222222222222, \"#7201a8\"], [0.3333333333333333, \"#9c179e\"], [0.4444444444444444, \"#bd3786\"], [0.5555555555555556, \"#d8576b\"], [0.6666666666666666, \"#ed7953\"], [0.7777777777777778, \"#fb9f3a\"], [0.8888888888888888, \"#fdca26\"], [1.0, \"#f0f921\"]], \"type\": \"histogram2d\"}], \"histogram2dcontour\": [{\"colorbar\": {\"outlinewidth\": 0, \"ticks\": \"\"}, \"colorscale\": [[0.0, \"#0d0887\"], [0.1111111111111111, \"#46039f\"], [0.2222222222222222, \"#7201a8\"], [0.3333333333333333, \"#9c179e\"], [0.4444444444444444, \"#bd3786\"], [0.5555555555555556, \"#d8576b\"], [0.6666666666666666, \"#ed7953\"], [0.7777777777777778, \"#fb9f3a\"], [0.8888888888888888, \"#fdca26\"], [1.0, \"#f0f921\"]], \"type\": \"histogram2dcontour\"}], \"mesh3d\": [{\"colorbar\": {\"outlinewidth\": 0, \"ticks\": \"\"}, \"type\": \"mesh3d\"}], \"parcoords\": [{\"line\": {\"colorbar\": {\"outlinewidth\": 0, \"ticks\": \"\"}}, \"type\": \"parcoords\"}], \"pie\": [{\"automargin\": true, \"type\": \"pie\"}], \"scatter\": [{\"marker\": {\"colorbar\": {\"outlinewidth\": 0, \"ticks\": \"\"}}, \"type\": \"scatter\"}], \"scatter3d\": [{\"line\": {\"colorbar\": {\"outlinewidth\": 0, \"ticks\": \"\"}}, \"marker\": {\"colorbar\": {\"outlinewidth\": 0, \"ticks\": \"\"}}, \"type\": \"scatter3d\"}], \"scattercarpet\": [{\"marker\": {\"colorbar\": {\"outlinewidth\": 0, \"ticks\": \"\"}}, \"type\": \"scattercarpet\"}], \"scattergeo\": [{\"marker\": {\"colorbar\": {\"outlinewidth\": 0, \"ticks\": \"\"}}, \"type\": \"scattergeo\"}], \"scattergl\": [{\"marker\": {\"colorbar\": {\"outlinewidth\": 0, \"ticks\": \"\"}}, \"type\": \"scattergl\"}], \"scattermapbox\": [{\"marker\": {\"colorbar\": {\"outlinewidth\": 0, \"ticks\": \"\"}}, \"type\": \"scattermapbox\"}], \"scatterpolar\": [{\"marker\": {\"colorbar\": {\"outlinewidth\": 0, \"ticks\": \"\"}}, \"type\": \"scatterpolar\"}], \"scatterpolargl\": [{\"marker\": {\"colorbar\": {\"outlinewidth\": 0, \"ticks\": \"\"}}, \"type\": \"scatterpolargl\"}], \"scatterternary\": [{\"marker\": {\"colorbar\": {\"outlinewidth\": 0, \"ticks\": \"\"}}, \"type\": \"scatterternary\"}], \"surface\": [{\"colorbar\": {\"outlinewidth\": 0, \"ticks\": \"\"}, \"colorscale\": [[0.0, \"#0d0887\"], [0.1111111111111111, \"#46039f\"], [0.2222222222222222, \"#7201a8\"], [0.3333333333333333, \"#9c179e\"], [0.4444444444444444, \"#bd3786\"], [0.5555555555555556, \"#d8576b\"], [0.6666666666666666, \"#ed7953\"], [0.7777777777777778, \"#fb9f3a\"], [0.8888888888888888, \"#fdca26\"], [1.0, \"#f0f921\"]], \"type\": \"surface\"}], \"table\": [{\"cells\": {\"fill\": {\"color\": \"#EBF0F8\"}, \"line\": {\"color\": \"white\"}}, \"header\": {\"fill\": {\"color\": \"#C8D4E3\"}, \"line\": {\"color\": \"white\"}}, \"type\": \"table\"}]}, \"layout\": {\"annotationdefaults\": {\"arrowcolor\": \"#2a3f5f\", \"arrowhead\": 0, \"arrowwidth\": 1}, \"coloraxis\": {\"colorbar\": {\"outlinewidth\": 0, \"ticks\": \"\"}}, \"colorscale\": {\"diverging\": [[0, \"#8e0152\"], [0.1, \"#c51b7d\"], [0.2, \"#de77ae\"], [0.3, \"#f1b6da\"], [0.4, \"#fde0ef\"], [0.5, \"#f7f7f7\"], [0.6, \"#e6f5d0\"], [0.7, \"#b8e186\"], [0.8, \"#7fbc41\"], [0.9, \"#4d9221\"], [1, \"#276419\"]], \"sequential\": [[0.0, \"#0d0887\"], [0.1111111111111111, \"#46039f\"], [0.2222222222222222, \"#7201a8\"], [0.3333333333333333, \"#9c179e\"], [0.4444444444444444, \"#bd3786\"], [0.5555555555555556, \"#d8576b\"], [0.6666666666666666, \"#ed7953\"], [0.7777777777777778, \"#fb9f3a\"], [0.8888888888888888, \"#fdca26\"], [1.0, \"#f0f921\"]], \"sequentialminus\": [[0.0, \"#0d0887\"], [0.1111111111111111, \"#46039f\"], [0.2222222222222222, \"#7201a8\"], [0.3333333333333333, \"#9c179e\"], [0.4444444444444444, \"#bd3786\"], [0.5555555555555556, \"#d8576b\"], [0.6666666666666666, \"#ed7953\"], [0.7777777777777778, \"#fb9f3a\"], [0.8888888888888888, \"#fdca26\"], [1.0, \"#f0f921\"]]}, \"colorway\": [\"#636efa\", \"#EF553B\", \"#00cc96\", \"#ab63fa\", \"#FFA15A\", \"#19d3f3\", \"#FF6692\", \"#B6E880\", \"#FF97FF\", \"#FECB52\"], \"font\": {\"color\": \"#2a3f5f\"}, \"geo\": {\"bgcolor\": \"white\", \"lakecolor\": \"white\", \"landcolor\": \"#E5ECF6\", \"showlakes\": true, \"showland\": true, \"subunitcolor\": \"white\"}, \"hoverlabel\": {\"align\": \"left\"}, \"hovermode\": \"closest\", \"mapbox\": {\"style\": \"light\"}, \"paper_bgcolor\": \"white\", \"plot_bgcolor\": \"#E5ECF6\", \"polar\": {\"angularaxis\": {\"gridcolor\": \"white\", \"linecolor\": \"white\", \"ticks\": \"\"}, \"bgcolor\": \"#E5ECF6\", \"radialaxis\": {\"gridcolor\": \"white\", \"linecolor\": \"white\", \"ticks\": \"\"}}, \"scene\": {\"xaxis\": {\"backgroundcolor\": \"#E5ECF6\", \"gridcolor\": \"white\", \"gridwidth\": 2, \"linecolor\": \"white\", \"showbackground\": true, \"ticks\": \"\", \"zerolinecolor\": \"white\"}, \"yaxis\": {\"backgroundcolor\": \"#E5ECF6\", \"gridcolor\": \"white\", \"gridwidth\": 2, \"linecolor\": \"white\", \"showbackground\": true, \"ticks\": \"\", \"zerolinecolor\": \"white\"}, \"zaxis\": {\"backgroundcolor\": \"#E5ECF6\", \"gridcolor\": \"white\", \"gridwidth\": 2, \"linecolor\": \"white\", \"showbackground\": true, \"ticks\": \"\", \"zerolinecolor\": \"white\"}}, \"shapedefaults\": {\"line\": {\"color\": \"#2a3f5f\"}}, \"ternary\": {\"aaxis\": {\"gridcolor\": \"white\", \"linecolor\": \"white\", \"ticks\": \"\"}, \"baxis\": {\"gridcolor\": \"white\", \"linecolor\": \"white\", \"ticks\": \"\"}, \"bgcolor\": \"#E5ECF6\", \"caxis\": {\"gridcolor\": \"white\", \"linecolor\": \"white\", \"ticks\": \"\"}}, \"title\": {\"x\": 0.05}, \"xaxis\": {\"automargin\": true, \"gridcolor\": \"white\", \"linecolor\": \"white\", \"ticks\": \"\", \"title\": {\"standoff\": 15}, \"zerolinecolor\": \"white\", \"zerolinewidth\": 2}, \"yaxis\": {\"automargin\": true, \"gridcolor\": \"white\", \"linecolor\": \"white\", \"ticks\": \"\", \"title\": {\"standoff\": 15}, \"zerolinecolor\": \"white\", \"zerolinewidth\": 2}}}, \"title\": {\"text\": \"Optimization History Plot\"}, \"xaxis\": {\"title\": {\"text\": \"#Trials\"}}, \"yaxis\": {\"title\": {\"text\": \"Objective Value\"}}},\n",
       "                        {\"responsive\": true}\n",
       "                    ).then(function(){\n",
       "                            \n",
       "var gd = document.getElementById('06bbd8c4-10ca-4109-a6c7-48cccf305bb6');\n",
       "var x = new MutationObserver(function (mutations, observer) {{\n",
       "        var display = window.getComputedStyle(gd).display;\n",
       "        if (!display || display === 'none') {{\n",
       "            console.log([gd, 'removed!']);\n",
       "            Plotly.purge(gd);\n",
       "            observer.disconnect();\n",
       "        }}\n",
       "}});\n",
       "\n",
       "// Listen for the removal of the full notebook cells\n",
       "var notebookContainer = gd.closest('#notebook-container');\n",
       "if (notebookContainer) {{\n",
       "    x.observe(notebookContainer, {childList: true});\n",
       "}}\n",
       "\n",
       "// Listen for the clearing of the current output cell\n",
       "var outputEl = gd.closest('.output');\n",
       "if (outputEl) {{\n",
       "    x.observe(outputEl, {childList: true});\n",
       "}}\n",
       "\n",
       "                        })\n",
       "                };\n",
       "                });\n",
       "            </script>\n",
       "        </div>"
      ]
     },
     "metadata": {},
     "output_type": "display_data"
    }
   ],
   "source": [
    "optuna.visualization.plot_optimization_history(study)"
   ]
  },
  {
   "cell_type": "code",
   "execution_count": null,
   "metadata": {},
   "outputs": [],
   "source": []
  }
 ],
 "metadata": {
  "kernelspec": {
   "display_name": "Python 3",
   "language": "python",
   "name": "python3"
  },
  "language_info": {
   "codemirror_mode": {
    "name": "ipython",
    "version": 3
   },
   "file_extension": ".py",
   "mimetype": "text/x-python",
   "name": "python",
   "nbconvert_exporter": "python",
   "pygments_lexer": "ipython3",
   "version": "3.7.6"
  }
 },
 "nbformat": 4,
 "nbformat_minor": 2
}
