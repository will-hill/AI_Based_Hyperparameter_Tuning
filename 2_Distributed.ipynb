{
 "cells": [
  {
   "cell_type": "markdown",
   "metadata": {},
   "source": [
    "# Create PostgreSQL Docker "
   ]
  },
  {
   "cell_type": "code",
   "execution_count": 14,
   "metadata": {},
   "outputs": [
    {
     "name": "stdout",
     "output_type": "stream",
     "text": [
      "CPU times: user 2 µs, sys: 0 ns, total: 2 µs\n",
      "Wall time: 3.81 µs\n",
      "c4083923c29bfa7c59092169adfc302e99ef6fe15d67e17f804f558f0920d8b2\n"
     ]
    }
   ],
   "source": [
    "%time\n",
    "!mkdir -p init\n",
    "!docker run -d \\\n",
    "    -p 5433:5432 \\\n",
    "    --name optuna_pg \\\n",
    "    -e POSTGRES_USER=admin \\\n",
    "    -e POSTGRES_DB=optuna \\\n",
    "    -v $PWD/init:/docker-entrypoint-initdb.d \\\n",
    "    postgres"
   ]
  },
  {
   "cell_type": "code",
   "execution_count": 1,
   "metadata": {},
   "outputs": [
    {
     "name": "stdout",
     "output_type": "stream",
     "text": [
      "c4083923c29b        postgres              \"docker-entrypoint.s…\"   8 minutes ago       Up 8 minutes        0.0.0.0:5433->5432/tcp                           optuna_pg\r\n"
     ]
    }
   ],
   "source": [
    "!docker ps | grep optuna_pg"
   ]
  },
  {
   "cell_type": "code",
   "execution_count": 2,
   "metadata": {},
   "outputs": [
    {
     "name": "stdout",
     "output_type": "stream",
     "text": [
      "List of databases\r\n",
      "+-----------+-------+----------+------------+------------+-------------------+\r\n",
      "| Name      | Owner | Encoding | Collate    | Ctype      | Access privileges |\r\n",
      "+-----------+-------+----------+------------+------------+-------------------+\r\n",
      "| optuna    | admin | UTF8     | en_US.utf8 | en_US.utf8 | <null>            |\r\n",
      "| postgres  | admin | UTF8     | en_US.utf8 | en_US.utf8 | <null>            |\r\n",
      "| template0 | admin | UTF8     | en_US.utf8 | en_US.utf8 | =c/admin          |\r\n",
      "|           |       |          |            |            | admin=CTc/admin   |\r\n",
      "| template1 | admin | UTF8     | en_US.utf8 | en_US.utf8 | =c/admin          |\r\n",
      "|           |       |          |            |            | admin=CTc/admin   |\r\n",
      "+-----------+-------+----------+------------+------------+-------------------+\r\n",
      "SELECT 4\r\n"
     ]
    }
   ],
   "source": [
    "!pgcli -p 5433 -d optuna -h localhost -U admin  -l"
   ]
  },
  {
   "cell_type": "markdown",
   "metadata": {},
   "source": [
    "### test connection"
   ]
  },
  {
   "cell_type": "code",
   "execution_count": 12,
   "metadata": {},
   "outputs": [
    {
     "data": {
      "text/plain": [
       "[]"
      ]
     },
     "execution_count": 12,
     "metadata": {},
     "output_type": "execute_result"
    }
   ],
   "source": [
    "from sqlalchemy import create_engine\n",
    "pg_url = 'postgresql+pg8000://admin@localhost:5433/optuna'\n",
    "engine = create_engine(pg_url)\n",
    "engine.table_names()"
   ]
  },
  {
   "cell_type": "markdown",
   "metadata": {},
   "source": [
    "### distributed optuna"
   ]
  },
  {
   "cell_type": "code",
   "execution_count": 19,
   "metadata": {},
   "outputs": [],
   "source": [
    "import optuna\n",
    "from sklearn.ensemble import RandomForestClassifier"
   ]
  },
  {
   "cell_type": "code",
   "execution_count": 16,
   "metadata": {},
   "outputs": [
    {
     "name": "stderr",
     "output_type": "stream",
     "text": [
      "\u001b[32m[I 2020-01-20 16:15:53,064]\u001b[0m A new study created with name: sklearn_rf_ieee_fraud\u001b[0m\n"
     ]
    }
   ],
   "source": [
    "study = optuna.create_study(study_name='sklearn_rf_ieee_fraud', storage=pg_url)"
   ]
  },
  {
   "cell_type": "markdown",
   "metadata": {},
   "source": [
    "### data"
   ]
  },
  {
   "cell_type": "code",
   "execution_count": 22,
   "metadata": {},
   "outputs": [],
   "source": [
    "import pandas as pd\n",
    "import numpy as np\n",
    "\n",
    "df = pd.read_csv('train_transaction.csv', low_memory=True)"
   ]
  },
  {
   "cell_type": "code",
   "execution_count": 23,
   "metadata": {},
   "outputs": [],
   "source": [
    "for i in range(1,10):\n",
    "    df['M' + str(i)] = df['M' + str(i)].eq('T').mul(1)"
   ]
  },
  {
   "cell_type": "code",
   "execution_count": 24,
   "metadata": {},
   "outputs": [],
   "source": [
    "df = df.drop(columns=['P_emaildomain', 'R_emaildomain'], axis=1)"
   ]
  },
  {
   "cell_type": "code",
   "execution_count": 25,
   "metadata": {},
   "outputs": [],
   "source": [
    "df = pd.concat([df, pd.get_dummies(df['ProductCD'], drop_first=True)], axis=1)\n",
    "df = df.drop(columns=['ProductCD'], axis=1)"
   ]
  },
  {
   "cell_type": "code",
   "execution_count": 26,
   "metadata": {},
   "outputs": [],
   "source": [
    "df = pd.concat([df, pd.get_dummies(df['card4'])], axis=1)\n",
    "df = df.drop(columns=['card4'], axis=1)"
   ]
  },
  {
   "cell_type": "code",
   "execution_count": 27,
   "metadata": {},
   "outputs": [],
   "source": [
    "df = pd.concat([df, pd.get_dummies(df['card6'])], axis=1)\n",
    "df = df.drop(columns=['card6'], axis=1)"
   ]
  },
  {
   "cell_type": "code",
   "execution_count": 28,
   "metadata": {},
   "outputs": [],
   "source": [
    "for c in df.columns:\n",
    "    df[c] = df[c].fillna(df[c].mean())"
   ]
  },
  {
   "cell_type": "code",
   "execution_count": 29,
   "metadata": {},
   "outputs": [],
   "source": [
    "from sklearn.model_selection import train_test_split"
   ]
  },
  {
   "cell_type": "code",
   "execution_count": 30,
   "metadata": {},
   "outputs": [
    {
     "data": {
      "text/plain": [
       "RandomForestClassifier(bootstrap=True, ccp_alpha=0.0, class_weight=None,\n",
       "                       criterion='gini', max_depth=5, max_features='auto',\n",
       "                       max_leaf_nodes=None, max_samples=None,\n",
       "                       min_impurity_decrease=0.0, min_impurity_split=None,\n",
       "                       min_samples_leaf=1, min_samples_split=2,\n",
       "                       min_weight_fraction_leaf=0.0, n_estimators=50, n_jobs=12,\n",
       "                       oob_score=False, random_state=0, verbose=0,\n",
       "                       warm_start=False)"
      ]
     },
     "execution_count": 30,
     "metadata": {},
     "output_type": "execute_result"
    }
   ],
   "source": [
    "# SPLIT DATA FOR CROSS VALIDATION\n",
    "y = df['isFraud']\n",
    "X = df.drop(columns = ['isFraud'], axis = 1)\n",
    "X_train, X_test, y_train, y_test = train_test_split(X, y, test_size=0.33, random_state=0)"
   ]
  },
  {
   "cell_type": "markdown",
   "metadata": {},
   "source": [
    "### objective function"
   ]
  },
  {
   "cell_type": "code",
   "execution_count": 34,
   "metadata": {},
   "outputs": [],
   "source": [
    "from sklearn.metrics import roc_auc_score\n",
    "import matplotlib.pyplot as plt\n",
    "from sklearn import metrics\n",
    "\n",
    "def rf_ojbective(trial):\n",
    "    \n",
    "    # Random Forest Params\n",
    "    n_estimators = trial.suggest_int('n_estimators', 25, 250)\n",
    "    criterion = trial.suggest_categorical('criterion', ['gini','entropy'])\n",
    "    max_depth = trial.suggest_int('max_depth',1,20)\n",
    "    min_samples_split = trial.suggest_int('min_samples_split',2,10)\n",
    "    \n",
    "    # Induction\n",
    "    clf = RandomForestClassifier(\n",
    "        n_estimators = n_estimators, \n",
    "        criterion = criterion,\n",
    "        max_depth = max_depth, \n",
    "        min_samples_split = min_samples_split,\n",
    "        n_jobs = 12,\n",
    "        random_state = 0)\n",
    "    clf.fit(X_train, y_train)\n",
    "    \n",
    "    # Test\n",
    "    fpr, tpr, thresholds = metrics.roc_curve(y_test, [y_hat[1] for y_hat in clf.predict_proba(X_test)], pos_label=1)\n",
    "    result = 1 - metrics.auc(fpr, tpr)\n",
    "    return result"
   ]
  },
  {
   "cell_type": "markdown",
   "metadata": {},
   "source": [
    "### optimize"
   ]
  },
  {
   "cell_type": "code",
   "execution_count": 38,
   "metadata": {},
   "outputs": [
    {
     "name": "stderr",
     "output_type": "stream",
     "text": [
      "\u001b[32m[I 2020-01-20 16:48:48,209]\u001b[0m Finished trial#8 resulted in value: 0.14263984225715864. Current best value is 0.07414497928728958 with parameters: {'criterion': 'entropy', 'max_depth': 20, 'min_samples_split': 2, 'n_estimators': 244}.\u001b[0m\n",
      "\u001b[32m[I 2020-01-20 16:49:07,925]\u001b[0m Finished trial#9 resulted in value: 0.170449387598395. Current best value is 0.07414497928728958 with parameters: {'criterion': 'entropy', 'max_depth': 20, 'min_samples_split': 2, 'n_estimators': 244}.\u001b[0m\n",
      "\u001b[32m[I 2020-01-20 16:50:18,854]\u001b[0m Finished trial#10 resulted in value: 0.12792193922306339. Current best value is 0.07414497928728958 with parameters: {'criterion': 'entropy', 'max_depth': 20, 'min_samples_split': 2, 'n_estimators': 244}.\u001b[0m\n",
      "\u001b[32m[I 2020-01-20 16:51:16,145]\u001b[0m Finished trial#11 resulted in value: 0.136426148755735. Current best value is 0.07414497928728958 with parameters: {'criterion': 'entropy', 'max_depth': 20, 'min_samples_split': 2, 'n_estimators': 244}.\u001b[0m\n",
      "\u001b[32m[I 2020-01-20 16:51:38,966]\u001b[0m Finished trial#12 resulted in value: 0.17001669962684074. Current best value is 0.07414497928728958 with parameters: {'criterion': 'entropy', 'max_depth': 20, 'min_samples_split': 2, 'n_estimators': 244}.\u001b[0m\n",
      "\u001b[32m[I 2020-01-20 16:51:56,575]\u001b[0m Finished trial#13 resulted in value: 0.08096431455675657. Current best value is 0.07414497928728958 with parameters: {'criterion': 'entropy', 'max_depth': 20, 'min_samples_split': 2, 'n_estimators': 244}.\u001b[0m\n",
      "\u001b[32m[I 2020-01-20 16:52:27,582]\u001b[0m Finished trial#14 resulted in value: 0.07741965638401904. Current best value is 0.07414497928728958 with parameters: {'criterion': 'entropy', 'max_depth': 20, 'min_samples_split': 2, 'n_estimators': 244}.\u001b[0m\n",
      "\u001b[32m[I 2020-01-20 16:52:48,571]\u001b[0m Finished trial#15 resulted in value: 0.08951086808058828. Current best value is 0.07414497928728958 with parameters: {'criterion': 'entropy', 'max_depth': 20, 'min_samples_split': 2, 'n_estimators': 244}.\u001b[0m\n",
      "\u001b[32m[I 2020-01-20 16:53:22,748]\u001b[0m Finished trial#16 resulted in value: 0.08466480455239123. Current best value is 0.07414497928728958 with parameters: {'criterion': 'entropy', 'max_depth': 20, 'min_samples_split': 2, 'n_estimators': 244}.\u001b[0m\n",
      "\u001b[32m[I 2020-01-20 16:54:18,716]\u001b[0m Finished trial#17 resulted in value: 0.09447343727420265. Current best value is 0.07414497928728958 with parameters: {'criterion': 'entropy', 'max_depth': 20, 'min_samples_split': 2, 'n_estimators': 244}.\u001b[0m\n",
      "\u001b[32m[I 2020-01-20 16:56:20,511]\u001b[0m Finished trial#18 resulted in value: 0.07576693051459849. Current best value is 0.07414497928728958 with parameters: {'criterion': 'entropy', 'max_depth': 20, 'min_samples_split': 2, 'n_estimators': 244}.\u001b[0m\n",
      "\u001b[32m[I 2020-01-20 16:58:15,514]\u001b[0m Finished trial#19 resulted in value: 0.08060177592586104. Current best value is 0.07414497928728958 with parameters: {'criterion': 'entropy', 'max_depth': 20, 'min_samples_split': 2, 'n_estimators': 244}.\u001b[0m\n",
      "\u001b[32m[I 2020-01-20 16:59:51,813]\u001b[0m Finished trial#20 resulted in value: 0.09402349788621023. Current best value is 0.07414497928728958 with parameters: {'criterion': 'entropy', 'max_depth': 20, 'min_samples_split': 2, 'n_estimators': 244}.\u001b[0m\n",
      "\u001b[32m[I 2020-01-20 17:01:40,120]\u001b[0m Finished trial#21 resulted in value: 0.09410460448489633. Current best value is 0.07414497928728958 with parameters: {'criterion': 'entropy', 'max_depth': 20, 'min_samples_split': 2, 'n_estimators': 244}.\u001b[0m\n",
      "\u001b[32m[I 2020-01-20 17:02:18,921]\u001b[0m Finished trial#22 resulted in value: 0.1495292309690779. Current best value is 0.07414497928728958 with parameters: {'criterion': 'entropy', 'max_depth': 20, 'min_samples_split': 2, 'n_estimators': 244}.\u001b[0m\n",
      "\u001b[32m[I 2020-01-20 17:04:39,470]\u001b[0m Finished trial#23 resulted in value: 0.07412447601397609. Current best value is 0.07412447601397609 with parameters: {'n_estimators': 250, 'criterion': 'entropy', 'max_depth': 20, 'min_samples_split': 2}.\u001b[0m\n",
      "\u001b[32m[I 2020-01-20 17:06:58,761]\u001b[0m Finished trial#24 resulted in value: 0.07416614950697697. Current best value is 0.07412447601397609 with parameters: {'n_estimators': 250, 'criterion': 'entropy', 'max_depth': 20, 'min_samples_split': 2}.\u001b[0m\n",
      "\u001b[32m[I 2020-01-20 17:09:17,999]\u001b[0m Finished trial#25 resulted in value: 0.07433415211458749. Current best value is 0.07412447601397609 with parameters: {'n_estimators': 250, 'criterion': 'entropy', 'max_depth': 20, 'min_samples_split': 2}.\u001b[0m\n",
      "\u001b[32m[I 2020-01-20 17:11:24,449]\u001b[0m Finished trial#26 resulted in value: 0.08169169258621545. Current best value is 0.07412447601397609 with parameters: {'n_estimators': 250, 'criterion': 'entropy', 'max_depth': 20, 'min_samples_split': 2}.\u001b[0m\n",
      "\u001b[32m[I 2020-01-20 17:13:15,237]\u001b[0m Finished trial#27 resulted in value: 0.07455835896400353. Current best value is 0.07412447601397609 with parameters: {'n_estimators': 250, 'criterion': 'entropy', 'max_depth': 20, 'min_samples_split': 2}.\u001b[0m\n",
      "\u001b[32m[I 2020-01-20 17:15:17,024]\u001b[0m Finished trial#28 resulted in value: 0.08054000722022725. Current best value is 0.07412447601397609 with parameters: {'n_estimators': 250, 'criterion': 'entropy', 'max_depth': 20, 'min_samples_split': 2}.\u001b[0m\n",
      "\u001b[32m[I 2020-01-20 17:16:33,066]\u001b[0m Finished trial#29 resulted in value: 0.0859482430039713. Current best value is 0.07412447601397609 with parameters: {'n_estimators': 250, 'criterion': 'entropy', 'max_depth': 20, 'min_samples_split': 2}.\u001b[0m\n",
      "\u001b[32m[I 2020-01-20 17:18:19,397]\u001b[0m Finished trial#30 resulted in value: 0.0798708109877686. Current best value is 0.07412447601397609 with parameters: {'n_estimators': 250, 'criterion': 'entropy', 'max_depth': 20, 'min_samples_split': 2}.\u001b[0m\n",
      "\u001b[32m[I 2020-01-20 17:20:15,134]\u001b[0m Finished trial#31 resulted in value: 0.0896476272104112. Current best value is 0.07412447601397609 with parameters: {'n_estimators': 250, 'criterion': 'entropy', 'max_depth': 20, 'min_samples_split': 2}.\u001b[0m\n",
      "\u001b[32m[I 2020-01-20 17:21:45,491]\u001b[0m Finished trial#32 resulted in value: 0.10639394029731264. Current best value is 0.07412447601397609 with parameters: {'n_estimators': 250, 'criterion': 'entropy', 'max_depth': 20, 'min_samples_split': 2}.\u001b[0m\n",
      "\u001b[32m[I 2020-01-20 17:23:51,693]\u001b[0m Finished trial#33 resulted in value: 0.0755750610928797. Current best value is 0.07412447601397609 with parameters: {'n_estimators': 250, 'criterion': 'entropy', 'max_depth': 20, 'min_samples_split': 2}.\u001b[0m\n",
      "\u001b[32m[I 2020-01-20 17:26:12,092]\u001b[0m Finished trial#34 resulted in value: 0.0743430599924263. Current best value is 0.07412447601397609 with parameters: {'n_estimators': 250, 'criterion': 'entropy', 'max_depth': 20, 'min_samples_split': 2}.\u001b[0m\n",
      "\u001b[32m[I 2020-01-20 17:28:32,442]\u001b[0m Finished trial#35 resulted in value: 0.07434305959778342. Current best value is 0.07412447601397609 with parameters: {'n_estimators': 250, 'criterion': 'entropy', 'max_depth': 20, 'min_samples_split': 2}.\u001b[0m\n",
      "\u001b[32m[I 2020-01-20 17:30:33,763]\u001b[0m Finished trial#36 resulted in value: 0.07965813757490392. Current best value is 0.07412447601397609 with parameters: {'n_estimators': 250, 'criterion': 'entropy', 'max_depth': 20, 'min_samples_split': 2}.\u001b[0m\n",
      "\u001b[32m[I 2020-01-20 17:32:25,444]\u001b[0m Finished trial#37 resulted in value: 0.07578672106297091. Current best value is 0.07412447601397609 with parameters: {'n_estimators': 250, 'criterion': 'entropy', 'max_depth': 20, 'min_samples_split': 2}.\u001b[0m\n",
      "\u001b[32m[I 2020-01-20 17:34:26,329]\u001b[0m Finished trial#38 resulted in value: 0.08219560056441189. Current best value is 0.07412447601397609 with parameters: {'n_estimators': 250, 'criterion': 'entropy', 'max_depth': 20, 'min_samples_split': 2}.\u001b[0m\n",
      "\u001b[32m[I 2020-01-20 17:35:16,965]\u001b[0m Finished trial#39 resulted in value: 0.0760505287412725. Current best value is 0.07412447601397609 with parameters: {'n_estimators': 250, 'criterion': 'entropy', 'max_depth': 20, 'min_samples_split': 2}.\u001b[0m\n",
      "\u001b[32m[I 2020-01-20 17:36:50,984]\u001b[0m Finished trial#40 resulted in value: 0.07721820898094522. Current best value is 0.07412447601397609 with parameters: {'n_estimators': 250, 'criterion': 'entropy', 'max_depth': 20, 'min_samples_split': 2}.\u001b[0m\n",
      "\u001b[32m[I 2020-01-20 17:38:30,365]\u001b[0m Finished trial#41 resulted in value: 0.10086630493231774. Current best value is 0.07412447601397609 with parameters: {'n_estimators': 250, 'criterion': 'entropy', 'max_depth': 20, 'min_samples_split': 2}.\u001b[0m\n"
     ]
    },
    {
     "name": "stderr",
     "output_type": "stream",
     "text": [
      "\u001b[32m[I 2020-01-20 17:39:25,161]\u001b[0m Finished trial#42 resulted in value: 0.1476737573484762. Current best value is 0.07412447601397609 with parameters: {'n_estimators': 250, 'criterion': 'entropy', 'max_depth': 20, 'min_samples_split': 2}.\u001b[0m\n",
      "\u001b[32m[I 2020-01-20 17:39:33,037]\u001b[0m Finished trial#43 resulted in value: 0.2741518425206537. Current best value is 0.07412447601397609 with parameters: {'n_estimators': 250, 'criterion': 'entropy', 'max_depth': 20, 'min_samples_split': 2}.\u001b[0m\n",
      "\u001b[32m[I 2020-01-20 17:41:52,785]\u001b[0m Finished trial#44 resulted in value: 0.07432653235092856. Current best value is 0.07412447601397609 with parameters: {'n_estimators': 250, 'criterion': 'entropy', 'max_depth': 20, 'min_samples_split': 2}.\u001b[0m\n",
      "\u001b[32m[I 2020-01-20 17:44:07,530]\u001b[0m Finished trial#45 resulted in value: 0.07474669988422677. Current best value is 0.07412447601397609 with parameters: {'n_estimators': 250, 'criterion': 'entropy', 'max_depth': 20, 'min_samples_split': 2}.\u001b[0m\n",
      "\u001b[32m[I 2020-01-20 17:46:17,758]\u001b[0m Finished trial#46 resulted in value: 0.07899989544333019. Current best value is 0.07412447601397609 with parameters: {'n_estimators': 250, 'criterion': 'entropy', 'max_depth': 20, 'min_samples_split': 2}.\u001b[0m\n",
      "\u001b[32m[I 2020-01-20 17:48:22,869]\u001b[0m Finished trial#47 resulted in value: 0.09662284994741333. Current best value is 0.07412447601397609 with parameters: {'n_estimators': 250, 'criterion': 'entropy', 'max_depth': 20, 'min_samples_split': 2}.\u001b[0m\n",
      "\u001b[32m[I 2020-01-20 17:50:17,167]\u001b[0m Finished trial#48 resulted in value: 0.08350270258904557. Current best value is 0.07412447601397609 with parameters: {'n_estimators': 250, 'criterion': 'entropy', 'max_depth': 20, 'min_samples_split': 2}.\u001b[0m\n",
      "\u001b[32m[I 2020-01-20 17:51:49,313]\u001b[0m Finished trial#49 resulted in value: 0.08603715879487228. Current best value is 0.07412447601397609 with parameters: {'n_estimators': 250, 'criterion': 'entropy', 'max_depth': 20, 'min_samples_split': 2}.\u001b[0m\n",
      "\u001b[32m[I 2020-01-20 17:53:59,327]\u001b[0m Finished trial#50 resulted in value: 0.076902101656945. Current best value is 0.07412447601397609 with parameters: {'n_estimators': 250, 'criterion': 'entropy', 'max_depth': 20, 'min_samples_split': 2}.\u001b[0m\n",
      "\u001b[32m[I 2020-01-20 17:55:10,906]\u001b[0m Finished trial#51 resulted in value: 0.13216192450825304. Current best value is 0.07412447601397609 with parameters: {'n_estimators': 250, 'criterion': 'entropy', 'max_depth': 20, 'min_samples_split': 2}.\u001b[0m\n",
      "\u001b[32m[I 2020-01-20 17:57:15,590]\u001b[0m Finished trial#52 resulted in value: 0.07449372673003385. Current best value is 0.07412447601397609 with parameters: {'n_estimators': 250, 'criterion': 'entropy', 'max_depth': 20, 'min_samples_split': 2}.\u001b[0m\n",
      "\u001b[32m[I 2020-01-20 17:59:21,375]\u001b[0m Finished trial#53 resulted in value: 0.08169169258621545. Current best value is 0.07412447601397609 with parameters: {'n_estimators': 250, 'criterion': 'entropy', 'max_depth': 20, 'min_samples_split': 2}.\u001b[0m\n",
      "\u001b[32m[I 2020-01-20 18:01:40,840]\u001b[0m Finished trial#54 resulted in value: 0.07434305959778342. Current best value is 0.07412447601397609 with parameters: {'n_estimators': 250, 'criterion': 'entropy', 'max_depth': 20, 'min_samples_split': 2}.\u001b[0m\n",
      "\u001b[32m[I 2020-01-20 18:03:53,683]\u001b[0m Finished trial#55 resulted in value: 0.07441446863833845. Current best value is 0.07412447601397609 with parameters: {'n_estimators': 250, 'criterion': 'entropy', 'max_depth': 20, 'min_samples_split': 2}.\u001b[0m\n",
      "\u001b[32m[I 2020-01-20 18:06:01,700]\u001b[0m Finished trial#56 resulted in value: 0.07908209480799777. Current best value is 0.07412447601397609 with parameters: {'n_estimators': 250, 'criterion': 'entropy', 'max_depth': 20, 'min_samples_split': 2}.\u001b[0m\n",
      "\u001b[32m[I 2020-01-20 18:08:02,086]\u001b[0m Finished trial#57 resulted in value: 0.07683689442837971. Current best value is 0.07412447601397609 with parameters: {'n_estimators': 250, 'criterion': 'entropy', 'max_depth': 20, 'min_samples_split': 2}.\u001b[0m\n",
      "\u001b[32m[I 2020-01-20 18:10:12,696]\u001b[0m Finished trial#58 resulted in value: 0.07470306383245862. Current best value is 0.07412447601397609 with parameters: {'n_estimators': 250, 'criterion': 'entropy', 'max_depth': 20, 'min_samples_split': 2}.\u001b[0m\n",
      "\u001b[32m[I 2020-01-20 18:12:20,723]\u001b[0m Finished trial#59 resulted in value: 0.07901024613533592. Current best value is 0.07412447601397609 with parameters: {'n_estimators': 250, 'criterion': 'entropy', 'max_depth': 20, 'min_samples_split': 2}.\u001b[0m\n",
      "\u001b[32m[I 2020-01-20 18:13:57,831]\u001b[0m Finished trial#60 resulted in value: 0.0896657373696359. Current best value is 0.07412447601397609 with parameters: {'n_estimators': 250, 'criterion': 'entropy', 'max_depth': 20, 'min_samples_split': 2}.\u001b[0m\n",
      "\u001b[32m[I 2020-01-20 18:16:05,304]\u001b[0m Finished trial#61 resulted in value: 0.07557464237684275. Current best value is 0.07412447601397609 with parameters: {'n_estimators': 250, 'criterion': 'entropy', 'max_depth': 20, 'min_samples_split': 2}.\u001b[0m\n",
      "\u001b[32m[I 2020-01-20 18:16:54,338]\u001b[0m Finished trial#62 resulted in value: 0.08361651244932744. Current best value is 0.07412447601397609 with parameters: {'n_estimators': 250, 'criterion': 'entropy', 'max_depth': 20, 'min_samples_split': 2}.\u001b[0m\n",
      "\u001b[32m[I 2020-01-20 18:18:56,406]\u001b[0m Finished trial#63 resulted in value: 0.07450739005391005. Current best value is 0.07412447601397609 with parameters: {'n_estimators': 250, 'criterion': 'entropy', 'max_depth': 20, 'min_samples_split': 2}.\u001b[0m\n",
      "\u001b[32m[I 2020-01-20 18:21:14,304]\u001b[0m Finished trial#64 resulted in value: 0.0743436539298773. Current best value is 0.07412447601397609 with parameters: {'n_estimators': 250, 'criterion': 'entropy', 'max_depth': 20, 'min_samples_split': 2}.\u001b[0m\n",
      "\u001b[32m[I 2020-01-20 18:23:29,762]\u001b[0m Finished trial#65 resulted in value: 0.07643047388323632. Current best value is 0.07412447601397609 with parameters: {'n_estimators': 250, 'criterion': 'entropy', 'max_depth': 20, 'min_samples_split': 2}.\u001b[0m\n",
      "\u001b[32m[I 2020-01-20 18:25:38,704]\u001b[0m Finished trial#66 resulted in value: 0.07422074163284398. Current best value is 0.07412447601397609 with parameters: {'n_estimators': 250, 'criterion': 'entropy', 'max_depth': 20, 'min_samples_split': 2}.\u001b[0m\n",
      "\u001b[32m[I 2020-01-20 18:27:36,915]\u001b[0m Finished trial#67 resulted in value: 0.0789283427527867. Current best value is 0.07412447601397609 with parameters: {'n_estimators': 250, 'criterion': 'entropy', 'max_depth': 20, 'min_samples_split': 2}.\u001b[0m\n",
      "\u001b[32m[I 2020-01-20 18:29:48,545]\u001b[0m Finished trial#68 resulted in value: 0.0755229654775218. Current best value is 0.07412447601397609 with parameters: {'n_estimators': 250, 'criterion': 'entropy', 'max_depth': 20, 'min_samples_split': 2}.\u001b[0m\n",
      "\u001b[32m[I 2020-01-20 18:31:58,797]\u001b[0m Finished trial#69 resulted in value: 0.07423816116712545. Current best value is 0.07412447601397609 with parameters: {'n_estimators': 250, 'criterion': 'entropy', 'max_depth': 20, 'min_samples_split': 2}.\u001b[0m\n",
      "\u001b[32m[I 2020-01-20 18:33:45,364]\u001b[0m Finished trial#70 resulted in value: 0.07583357266447432. Current best value is 0.07412447601397609 with parameters: {'n_estimators': 250, 'criterion': 'entropy', 'max_depth': 20, 'min_samples_split': 2}.\u001b[0m\n",
      "\u001b[32m[I 2020-01-20 18:35:46,642]\u001b[0m Finished trial#71 resulted in value: 0.07892468520308737. Current best value is 0.07412447601397609 with parameters: {'n_estimators': 250, 'criterion': 'entropy', 'max_depth': 20, 'min_samples_split': 2}.\u001b[0m\n",
      "\u001b[32m[I 2020-01-20 18:37:36,956]\u001b[0m Finished trial#72 resulted in value: 0.10667232292441575. Current best value is 0.07412447601397609 with parameters: {'n_estimators': 250, 'criterion': 'entropy', 'max_depth': 20, 'min_samples_split': 2}.\u001b[0m\n",
      "\u001b[32m[I 2020-01-20 18:39:23,050]\u001b[0m Finished trial#73 resulted in value: 0.07463762139676988. Current best value is 0.07412447601397609 with parameters: {'n_estimators': 250, 'criterion': 'entropy', 'max_depth': 20, 'min_samples_split': 2}.\u001b[0m\n",
      "\u001b[32m[I 2020-01-20 18:41:35,278]\u001b[0m Finished trial#74 resulted in value: 0.07440225878398576. Current best value is 0.07412447601397609 with parameters: {'n_estimators': 250, 'criterion': 'entropy', 'max_depth': 20, 'min_samples_split': 2}.\u001b[0m\n",
      "\u001b[32m[I 2020-01-20 18:43:51,346]\u001b[0m Finished trial#75 resulted in value: 0.07437892710554761. Current best value is 0.07412447601397609 with parameters: {'n_estimators': 250, 'criterion': 'entropy', 'max_depth': 20, 'min_samples_split': 2}.\u001b[0m\n"
     ]
    },
    {
     "name": "stderr",
     "output_type": "stream",
     "text": [
      "\u001b[32m[I 2020-01-20 18:45:55,483]\u001b[0m Finished trial#76 resulted in value: 0.0755880487882401. Current best value is 0.07412447601397609 with parameters: {'n_estimators': 250, 'criterion': 'entropy', 'max_depth': 20, 'min_samples_split': 2}.\u001b[0m\n"
     ]
    },
    {
     "ename": "KeyboardInterrupt",
     "evalue": "",
     "output_type": "error",
     "traceback": [
      "\u001b[0;31m---------------------------------------------------------------------------\u001b[0m",
      "\u001b[0;31mKeyboardInterrupt\u001b[0m                         Traceback (most recent call last)",
      "\u001b[0;32m<timed eval>\u001b[0m in \u001b[0;36m<module>\u001b[0;34m\u001b[0m\n",
      "\u001b[0;32m~/anaconda3/envs/diyaml/lib/python3.7/site-packages/optuna/study.py\u001b[0m in \u001b[0;36moptimize\u001b[0;34m(self, func, n_trials, timeout, n_jobs, catch, callbacks, gc_after_trial)\u001b[0m\n\u001b[1;32m    300\u001b[0m             \u001b[0;32mif\u001b[0m \u001b[0mn_jobs\u001b[0m \u001b[0;34m==\u001b[0m \u001b[0;36m1\u001b[0m\u001b[0;34m:\u001b[0m\u001b[0;34m\u001b[0m\u001b[0;34m\u001b[0m\u001b[0m\n\u001b[1;32m    301\u001b[0m                 self._optimize_sequential(func, n_trials, timeout, catch, callbacks,\n\u001b[0;32m--> 302\u001b[0;31m                                           gc_after_trial, None)\n\u001b[0m\u001b[1;32m    303\u001b[0m             \u001b[0;32melse\u001b[0m\u001b[0;34m:\u001b[0m\u001b[0;34m\u001b[0m\u001b[0;34m\u001b[0m\u001b[0m\n\u001b[1;32m    304\u001b[0m                 \u001b[0mtime_start\u001b[0m \u001b[0;34m=\u001b[0m \u001b[0mdatetime\u001b[0m\u001b[0;34m.\u001b[0m\u001b[0mdatetime\u001b[0m\u001b[0;34m.\u001b[0m\u001b[0mnow\u001b[0m\u001b[0;34m(\u001b[0m\u001b[0;34m)\u001b[0m\u001b[0;34m\u001b[0m\u001b[0;34m\u001b[0m\u001b[0m\n",
      "\u001b[0;32m~/anaconda3/envs/diyaml/lib/python3.7/site-packages/optuna/study.py\u001b[0m in \u001b[0;36m_optimize_sequential\u001b[0;34m(self, func, n_trials, timeout, catch, callbacks, gc_after_trial, time_start)\u001b[0m\n\u001b[1;32m    536\u001b[0m                     \u001b[0;32mbreak\u001b[0m\u001b[0;34m\u001b[0m\u001b[0;34m\u001b[0m\u001b[0m\n\u001b[1;32m    537\u001b[0m \u001b[0;34m\u001b[0m\u001b[0m\n\u001b[0;32m--> 538\u001b[0;31m             \u001b[0mself\u001b[0m\u001b[0;34m.\u001b[0m\u001b[0m_run_trial_and_callbacks\u001b[0m\u001b[0;34m(\u001b[0m\u001b[0mfunc\u001b[0m\u001b[0;34m,\u001b[0m \u001b[0mcatch\u001b[0m\u001b[0;34m,\u001b[0m \u001b[0mcallbacks\u001b[0m\u001b[0;34m,\u001b[0m \u001b[0mgc_after_trial\u001b[0m\u001b[0;34m)\u001b[0m\u001b[0;34m\u001b[0m\u001b[0;34m\u001b[0m\u001b[0m\n\u001b[0m\u001b[1;32m    539\u001b[0m         \u001b[0mself\u001b[0m\u001b[0;34m.\u001b[0m\u001b[0m_storage\u001b[0m\u001b[0;34m.\u001b[0m\u001b[0mremove_session\u001b[0m\u001b[0;34m(\u001b[0m\u001b[0;34m)\u001b[0m\u001b[0;34m\u001b[0m\u001b[0;34m\u001b[0m\u001b[0m\n\u001b[1;32m    540\u001b[0m \u001b[0;34m\u001b[0m\u001b[0m\n",
      "\u001b[0;32m~/anaconda3/envs/diyaml/lib/python3.7/site-packages/optuna/study.py\u001b[0m in \u001b[0;36m_run_trial_and_callbacks\u001b[0;34m(self, func, catch, callbacks, gc_after_trial)\u001b[0m\n\u001b[1;32m    548\u001b[0m         \u001b[0;31m# type: (...) -> None\u001b[0m\u001b[0;34m\u001b[0m\u001b[0;34m\u001b[0m\u001b[0;34m\u001b[0m\u001b[0m\n\u001b[1;32m    549\u001b[0m \u001b[0;34m\u001b[0m\u001b[0m\n\u001b[0;32m--> 550\u001b[0;31m         \u001b[0mtrial\u001b[0m \u001b[0;34m=\u001b[0m \u001b[0mself\u001b[0m\u001b[0;34m.\u001b[0m\u001b[0m_run_trial\u001b[0m\u001b[0;34m(\u001b[0m\u001b[0mfunc\u001b[0m\u001b[0;34m,\u001b[0m \u001b[0mcatch\u001b[0m\u001b[0;34m,\u001b[0m \u001b[0mgc_after_trial\u001b[0m\u001b[0;34m)\u001b[0m\u001b[0;34m\u001b[0m\u001b[0;34m\u001b[0m\u001b[0m\n\u001b[0m\u001b[1;32m    551\u001b[0m         \u001b[0;32mif\u001b[0m \u001b[0mcallbacks\u001b[0m \u001b[0;32mis\u001b[0m \u001b[0;32mnot\u001b[0m \u001b[0;32mNone\u001b[0m\u001b[0;34m:\u001b[0m\u001b[0;34m\u001b[0m\u001b[0;34m\u001b[0m\u001b[0m\n\u001b[1;32m    552\u001b[0m             \u001b[0mfrozen_trial\u001b[0m \u001b[0;34m=\u001b[0m \u001b[0mself\u001b[0m\u001b[0;34m.\u001b[0m\u001b[0m_storage\u001b[0m\u001b[0;34m.\u001b[0m\u001b[0mget_trial\u001b[0m\u001b[0;34m(\u001b[0m\u001b[0mtrial\u001b[0m\u001b[0;34m.\u001b[0m\u001b[0m_trial_id\u001b[0m\u001b[0;34m)\u001b[0m\u001b[0;34m\u001b[0m\u001b[0;34m\u001b[0m\u001b[0m\n",
      "\u001b[0;32m~/anaconda3/envs/diyaml/lib/python3.7/site-packages/optuna/study.py\u001b[0m in \u001b[0;36m_run_trial\u001b[0;34m(self, func, catch, gc_after_trial)\u001b[0m\n\u001b[1;32m    567\u001b[0m \u001b[0;34m\u001b[0m\u001b[0m\n\u001b[1;32m    568\u001b[0m         \u001b[0;32mtry\u001b[0m\u001b[0;34m:\u001b[0m\u001b[0;34m\u001b[0m\u001b[0;34m\u001b[0m\u001b[0m\n\u001b[0;32m--> 569\u001b[0;31m             \u001b[0mresult\u001b[0m \u001b[0;34m=\u001b[0m \u001b[0mfunc\u001b[0m\u001b[0;34m(\u001b[0m\u001b[0mtrial\u001b[0m\u001b[0;34m)\u001b[0m\u001b[0;34m\u001b[0m\u001b[0;34m\u001b[0m\u001b[0m\n\u001b[0m\u001b[1;32m    570\u001b[0m         \u001b[0;32mexcept\u001b[0m \u001b[0mexceptions\u001b[0m\u001b[0;34m.\u001b[0m\u001b[0mTrialPruned\u001b[0m \u001b[0;32mas\u001b[0m \u001b[0me\u001b[0m\u001b[0;34m:\u001b[0m\u001b[0;34m\u001b[0m\u001b[0;34m\u001b[0m\u001b[0m\n\u001b[1;32m    571\u001b[0m             message = 'Setting status of trial#{} as {}. {}'.format(trial_number,\n",
      "\u001b[0;32m<ipython-input-34-7f3ef3656cf1>\u001b[0m in \u001b[0;36mrf_ojbective\u001b[0;34m(trial)\u001b[0m\n\u001b[1;32m     19\u001b[0m         \u001b[0mn_jobs\u001b[0m \u001b[0;34m=\u001b[0m \u001b[0;36m12\u001b[0m\u001b[0;34m,\u001b[0m\u001b[0;34m\u001b[0m\u001b[0;34m\u001b[0m\u001b[0m\n\u001b[1;32m     20\u001b[0m         random_state = 0)\n\u001b[0;32m---> 21\u001b[0;31m     \u001b[0mclf\u001b[0m\u001b[0;34m.\u001b[0m\u001b[0mfit\u001b[0m\u001b[0;34m(\u001b[0m\u001b[0mX_train\u001b[0m\u001b[0;34m,\u001b[0m \u001b[0my_train\u001b[0m\u001b[0;34m)\u001b[0m\u001b[0;34m\u001b[0m\u001b[0;34m\u001b[0m\u001b[0m\n\u001b[0m\u001b[1;32m     22\u001b[0m \u001b[0;34m\u001b[0m\u001b[0m\n\u001b[1;32m     23\u001b[0m     \u001b[0;31m# Test\u001b[0m\u001b[0;34m\u001b[0m\u001b[0;34m\u001b[0m\u001b[0;34m\u001b[0m\u001b[0m\n",
      "\u001b[0;32m~/anaconda3/envs/diyaml/lib/python3.7/site-packages/sklearn/ensemble/_forest.py\u001b[0m in \u001b[0;36mfit\u001b[0;34m(self, X, y, sample_weight)\u001b[0m\n\u001b[1;32m    381\u001b[0m                     \u001b[0mverbose\u001b[0m\u001b[0;34m=\u001b[0m\u001b[0mself\u001b[0m\u001b[0;34m.\u001b[0m\u001b[0mverbose\u001b[0m\u001b[0;34m,\u001b[0m \u001b[0mclass_weight\u001b[0m\u001b[0;34m=\u001b[0m\u001b[0mself\u001b[0m\u001b[0;34m.\u001b[0m\u001b[0mclass_weight\u001b[0m\u001b[0;34m,\u001b[0m\u001b[0;34m\u001b[0m\u001b[0;34m\u001b[0m\u001b[0m\n\u001b[1;32m    382\u001b[0m                     n_samples_bootstrap=n_samples_bootstrap)\n\u001b[0;32m--> 383\u001b[0;31m                 for i, t in enumerate(trees))\n\u001b[0m\u001b[1;32m    384\u001b[0m \u001b[0;34m\u001b[0m\u001b[0m\n\u001b[1;32m    385\u001b[0m             \u001b[0;31m# Collect newly grown trees\u001b[0m\u001b[0;34m\u001b[0m\u001b[0;34m\u001b[0m\u001b[0;34m\u001b[0m\u001b[0m\n",
      "\u001b[0;32m~/anaconda3/envs/diyaml/lib/python3.7/site-packages/joblib/parallel.py\u001b[0m in \u001b[0;36m__call__\u001b[0;34m(self, iterable)\u001b[0m\n\u001b[1;32m   1015\u001b[0m \u001b[0;34m\u001b[0m\u001b[0m\n\u001b[1;32m   1016\u001b[0m             \u001b[0;32mwith\u001b[0m \u001b[0mself\u001b[0m\u001b[0;34m.\u001b[0m\u001b[0m_backend\u001b[0m\u001b[0;34m.\u001b[0m\u001b[0mretrieval_context\u001b[0m\u001b[0;34m(\u001b[0m\u001b[0;34m)\u001b[0m\u001b[0;34m:\u001b[0m\u001b[0;34m\u001b[0m\u001b[0;34m\u001b[0m\u001b[0m\n\u001b[0;32m-> 1017\u001b[0;31m                 \u001b[0mself\u001b[0m\u001b[0;34m.\u001b[0m\u001b[0mretrieve\u001b[0m\u001b[0;34m(\u001b[0m\u001b[0;34m)\u001b[0m\u001b[0;34m\u001b[0m\u001b[0;34m\u001b[0m\u001b[0m\n\u001b[0m\u001b[1;32m   1018\u001b[0m             \u001b[0;31m# Make sure that we get a last message telling us we are done\u001b[0m\u001b[0;34m\u001b[0m\u001b[0;34m\u001b[0m\u001b[0;34m\u001b[0m\u001b[0m\n\u001b[1;32m   1019\u001b[0m             \u001b[0melapsed_time\u001b[0m \u001b[0;34m=\u001b[0m \u001b[0mtime\u001b[0m\u001b[0;34m.\u001b[0m\u001b[0mtime\u001b[0m\u001b[0;34m(\u001b[0m\u001b[0;34m)\u001b[0m \u001b[0;34m-\u001b[0m \u001b[0mself\u001b[0m\u001b[0;34m.\u001b[0m\u001b[0m_start_time\u001b[0m\u001b[0;34m\u001b[0m\u001b[0;34m\u001b[0m\u001b[0m\n",
      "\u001b[0;32m~/anaconda3/envs/diyaml/lib/python3.7/site-packages/joblib/parallel.py\u001b[0m in \u001b[0;36mretrieve\u001b[0;34m(self)\u001b[0m\n\u001b[1;32m    907\u001b[0m             \u001b[0;32mtry\u001b[0m\u001b[0;34m:\u001b[0m\u001b[0;34m\u001b[0m\u001b[0;34m\u001b[0m\u001b[0m\n\u001b[1;32m    908\u001b[0m                 \u001b[0;32mif\u001b[0m \u001b[0mgetattr\u001b[0m\u001b[0;34m(\u001b[0m\u001b[0mself\u001b[0m\u001b[0;34m.\u001b[0m\u001b[0m_backend\u001b[0m\u001b[0;34m,\u001b[0m \u001b[0;34m'supports_timeout'\u001b[0m\u001b[0;34m,\u001b[0m \u001b[0;32mFalse\u001b[0m\u001b[0;34m)\u001b[0m\u001b[0;34m:\u001b[0m\u001b[0;34m\u001b[0m\u001b[0;34m\u001b[0m\u001b[0m\n\u001b[0;32m--> 909\u001b[0;31m                     \u001b[0mself\u001b[0m\u001b[0;34m.\u001b[0m\u001b[0m_output\u001b[0m\u001b[0;34m.\u001b[0m\u001b[0mextend\u001b[0m\u001b[0;34m(\u001b[0m\u001b[0mjob\u001b[0m\u001b[0;34m.\u001b[0m\u001b[0mget\u001b[0m\u001b[0;34m(\u001b[0m\u001b[0mtimeout\u001b[0m\u001b[0;34m=\u001b[0m\u001b[0mself\u001b[0m\u001b[0;34m.\u001b[0m\u001b[0mtimeout\u001b[0m\u001b[0;34m)\u001b[0m\u001b[0;34m)\u001b[0m\u001b[0;34m\u001b[0m\u001b[0;34m\u001b[0m\u001b[0m\n\u001b[0m\u001b[1;32m    910\u001b[0m                 \u001b[0;32melse\u001b[0m\u001b[0;34m:\u001b[0m\u001b[0;34m\u001b[0m\u001b[0;34m\u001b[0m\u001b[0m\n\u001b[1;32m    911\u001b[0m                     \u001b[0mself\u001b[0m\u001b[0;34m.\u001b[0m\u001b[0m_output\u001b[0m\u001b[0;34m.\u001b[0m\u001b[0mextend\u001b[0m\u001b[0;34m(\u001b[0m\u001b[0mjob\u001b[0m\u001b[0;34m.\u001b[0m\u001b[0mget\u001b[0m\u001b[0;34m(\u001b[0m\u001b[0;34m)\u001b[0m\u001b[0;34m)\u001b[0m\u001b[0;34m\u001b[0m\u001b[0;34m\u001b[0m\u001b[0m\n",
      "\u001b[0;32m~/anaconda3/envs/diyaml/lib/python3.7/multiprocessing/pool.py\u001b[0m in \u001b[0;36mget\u001b[0;34m(self, timeout)\u001b[0m\n\u001b[1;32m    649\u001b[0m \u001b[0;34m\u001b[0m\u001b[0m\n\u001b[1;32m    650\u001b[0m     \u001b[0;32mdef\u001b[0m \u001b[0mget\u001b[0m\u001b[0;34m(\u001b[0m\u001b[0mself\u001b[0m\u001b[0;34m,\u001b[0m \u001b[0mtimeout\u001b[0m\u001b[0;34m=\u001b[0m\u001b[0;32mNone\u001b[0m\u001b[0;34m)\u001b[0m\u001b[0;34m:\u001b[0m\u001b[0;34m\u001b[0m\u001b[0;34m\u001b[0m\u001b[0m\n\u001b[0;32m--> 651\u001b[0;31m         \u001b[0mself\u001b[0m\u001b[0;34m.\u001b[0m\u001b[0mwait\u001b[0m\u001b[0;34m(\u001b[0m\u001b[0mtimeout\u001b[0m\u001b[0;34m)\u001b[0m\u001b[0;34m\u001b[0m\u001b[0;34m\u001b[0m\u001b[0m\n\u001b[0m\u001b[1;32m    652\u001b[0m         \u001b[0;32mif\u001b[0m \u001b[0;32mnot\u001b[0m \u001b[0mself\u001b[0m\u001b[0;34m.\u001b[0m\u001b[0mready\u001b[0m\u001b[0;34m(\u001b[0m\u001b[0;34m)\u001b[0m\u001b[0;34m:\u001b[0m\u001b[0;34m\u001b[0m\u001b[0;34m\u001b[0m\u001b[0m\n\u001b[1;32m    653\u001b[0m             \u001b[0;32mraise\u001b[0m \u001b[0mTimeoutError\u001b[0m\u001b[0;34m\u001b[0m\u001b[0;34m\u001b[0m\u001b[0m\n",
      "\u001b[0;32m~/anaconda3/envs/diyaml/lib/python3.7/multiprocessing/pool.py\u001b[0m in \u001b[0;36mwait\u001b[0;34m(self, timeout)\u001b[0m\n\u001b[1;32m    646\u001b[0m \u001b[0;34m\u001b[0m\u001b[0m\n\u001b[1;32m    647\u001b[0m     \u001b[0;32mdef\u001b[0m \u001b[0mwait\u001b[0m\u001b[0;34m(\u001b[0m\u001b[0mself\u001b[0m\u001b[0;34m,\u001b[0m \u001b[0mtimeout\u001b[0m\u001b[0;34m=\u001b[0m\u001b[0;32mNone\u001b[0m\u001b[0;34m)\u001b[0m\u001b[0;34m:\u001b[0m\u001b[0;34m\u001b[0m\u001b[0;34m\u001b[0m\u001b[0m\n\u001b[0;32m--> 648\u001b[0;31m         \u001b[0mself\u001b[0m\u001b[0;34m.\u001b[0m\u001b[0m_event\u001b[0m\u001b[0;34m.\u001b[0m\u001b[0mwait\u001b[0m\u001b[0;34m(\u001b[0m\u001b[0mtimeout\u001b[0m\u001b[0;34m)\u001b[0m\u001b[0;34m\u001b[0m\u001b[0;34m\u001b[0m\u001b[0m\n\u001b[0m\u001b[1;32m    649\u001b[0m \u001b[0;34m\u001b[0m\u001b[0m\n\u001b[1;32m    650\u001b[0m     \u001b[0;32mdef\u001b[0m \u001b[0mget\u001b[0m\u001b[0;34m(\u001b[0m\u001b[0mself\u001b[0m\u001b[0;34m,\u001b[0m \u001b[0mtimeout\u001b[0m\u001b[0;34m=\u001b[0m\u001b[0;32mNone\u001b[0m\u001b[0;34m)\u001b[0m\u001b[0;34m:\u001b[0m\u001b[0;34m\u001b[0m\u001b[0;34m\u001b[0m\u001b[0m\n",
      "\u001b[0;32m~/anaconda3/envs/diyaml/lib/python3.7/threading.py\u001b[0m in \u001b[0;36mwait\u001b[0;34m(self, timeout)\u001b[0m\n\u001b[1;32m    550\u001b[0m             \u001b[0msignaled\u001b[0m \u001b[0;34m=\u001b[0m \u001b[0mself\u001b[0m\u001b[0;34m.\u001b[0m\u001b[0m_flag\u001b[0m\u001b[0;34m\u001b[0m\u001b[0;34m\u001b[0m\u001b[0m\n\u001b[1;32m    551\u001b[0m             \u001b[0;32mif\u001b[0m \u001b[0;32mnot\u001b[0m \u001b[0msignaled\u001b[0m\u001b[0;34m:\u001b[0m\u001b[0;34m\u001b[0m\u001b[0;34m\u001b[0m\u001b[0m\n\u001b[0;32m--> 552\u001b[0;31m                 \u001b[0msignaled\u001b[0m \u001b[0;34m=\u001b[0m \u001b[0mself\u001b[0m\u001b[0;34m.\u001b[0m\u001b[0m_cond\u001b[0m\u001b[0;34m.\u001b[0m\u001b[0mwait\u001b[0m\u001b[0;34m(\u001b[0m\u001b[0mtimeout\u001b[0m\u001b[0;34m)\u001b[0m\u001b[0;34m\u001b[0m\u001b[0;34m\u001b[0m\u001b[0m\n\u001b[0m\u001b[1;32m    553\u001b[0m             \u001b[0;32mreturn\u001b[0m \u001b[0msignaled\u001b[0m\u001b[0;34m\u001b[0m\u001b[0;34m\u001b[0m\u001b[0m\n\u001b[1;32m    554\u001b[0m \u001b[0;34m\u001b[0m\u001b[0m\n",
      "\u001b[0;32m~/anaconda3/envs/diyaml/lib/python3.7/threading.py\u001b[0m in \u001b[0;36mwait\u001b[0;34m(self, timeout)\u001b[0m\n\u001b[1;32m    294\u001b[0m         \u001b[0;32mtry\u001b[0m\u001b[0;34m:\u001b[0m    \u001b[0;31m# restore state no matter what (e.g., KeyboardInterrupt)\u001b[0m\u001b[0;34m\u001b[0m\u001b[0;34m\u001b[0m\u001b[0m\n\u001b[1;32m    295\u001b[0m             \u001b[0;32mif\u001b[0m \u001b[0mtimeout\u001b[0m \u001b[0;32mis\u001b[0m \u001b[0;32mNone\u001b[0m\u001b[0;34m:\u001b[0m\u001b[0;34m\u001b[0m\u001b[0;34m\u001b[0m\u001b[0m\n\u001b[0;32m--> 296\u001b[0;31m                 \u001b[0mwaiter\u001b[0m\u001b[0;34m.\u001b[0m\u001b[0macquire\u001b[0m\u001b[0;34m(\u001b[0m\u001b[0;34m)\u001b[0m\u001b[0;34m\u001b[0m\u001b[0;34m\u001b[0m\u001b[0m\n\u001b[0m\u001b[1;32m    297\u001b[0m                 \u001b[0mgotit\u001b[0m \u001b[0;34m=\u001b[0m \u001b[0;32mTrue\u001b[0m\u001b[0;34m\u001b[0m\u001b[0;34m\u001b[0m\u001b[0m\n\u001b[1;32m    298\u001b[0m             \u001b[0;32melse\u001b[0m\u001b[0;34m:\u001b[0m\u001b[0;34m\u001b[0m\u001b[0;34m\u001b[0m\u001b[0m\n",
      "\u001b[0;31mKeyboardInterrupt\u001b[0m: "
     ]
    }
   ],
   "source": [
    "%%time\n",
    "study.optimize(rf_ojbective, n_trials=100000)"
   ]
  },
  {
   "cell_type": "code",
   "execution_count": 73,
   "metadata": {},
   "outputs": [
    {
     "data": {
      "text/plain": [
       "['version_info',\n",
       " 'studies',\n",
       " 'study_user_attributes',\n",
       " 'study_system_attributes',\n",
       " 'trials',\n",
       " 'trial_user_attributes',\n",
       " 'trial_system_attributes',\n",
       " 'trial_params',\n",
       " 'trial_values',\n",
       " 'alembic_version']"
      ]
     },
     "execution_count": 73,
     "metadata": {},
     "output_type": "execute_result"
    }
   ],
   "source": [
    "import pandas as pd\n",
    "import sqlalchemy as db\n",
    "from sqlalchemy import create_engine\n",
    "\n",
    "pg_url = 'postgresql+pg8000://admin@localhost:5433/optuna'\n",
    "engine = create_engine(pg_url)\n",
    "metadata = db.MetaData()\n",
    "tables = engine.table_names()\n",
    "tables"
   ]
  },
  {
   "cell_type": "code",
   "execution_count": 74,
   "metadata": {},
   "outputs": [],
   "source": [
    "def get_tbl(tbl):\n",
    "    return pd.read_sql_query('select * from ' + tbl, engine)"
   ]
  },
  {
   "cell_type": "code",
   "execution_count": 77,
   "metadata": {},
   "outputs": [
    {
     "data": {
      "text/plain": [
       "'studies'"
      ]
     },
     "metadata": {},
     "output_type": "display_data"
    },
    {
     "data": {
      "text/html": [
       "<div>\n",
       "<style scoped>\n",
       "    .dataframe tbody tr th:only-of-type {\n",
       "        vertical-align: middle;\n",
       "    }\n",
       "\n",
       "    .dataframe tbody tr th {\n",
       "        vertical-align: top;\n",
       "    }\n",
       "\n",
       "    .dataframe thead th {\n",
       "        text-align: right;\n",
       "    }\n",
       "</style>\n",
       "<table border=\"1\" class=\"dataframe\">\n",
       "  <thead>\n",
       "    <tr style=\"text-align: right;\">\n",
       "      <th></th>\n",
       "      <th>study_id</th>\n",
       "      <th>study_name</th>\n",
       "      <th>direction</th>\n",
       "    </tr>\n",
       "  </thead>\n",
       "  <tbody>\n",
       "    <tr>\n",
       "      <th>0</th>\n",
       "      <td>1</td>\n",
       "      <td>sklearn_rf_ieee_fraud</td>\n",
       "      <td>MINIMIZE</td>\n",
       "    </tr>\n",
       "  </tbody>\n",
       "</table>\n",
       "</div>"
      ],
      "text/plain": [
       "   study_id             study_name direction\n",
       "0         1  sklearn_rf_ieee_fraud  MINIMIZE"
      ]
     },
     "metadata": {},
     "output_type": "display_data"
    },
    {
     "name": "stdout",
     "output_type": "stream",
     "text": [
      "---------------------------\n",
      "\n"
     ]
    },
    {
     "data": {
      "text/plain": [
       "'trials'"
      ]
     },
     "metadata": {},
     "output_type": "display_data"
    },
    {
     "data": {
      "text/html": [
       "<div>\n",
       "<style scoped>\n",
       "    .dataframe tbody tr th:only-of-type {\n",
       "        vertical-align: middle;\n",
       "    }\n",
       "\n",
       "    .dataframe tbody tr th {\n",
       "        vertical-align: top;\n",
       "    }\n",
       "\n",
       "    .dataframe thead th {\n",
       "        text-align: right;\n",
       "    }\n",
       "</style>\n",
       "<table border=\"1\" class=\"dataframe\">\n",
       "  <thead>\n",
       "    <tr style=\"text-align: right;\">\n",
       "      <th></th>\n",
       "      <th>trial_id</th>\n",
       "      <th>study_id</th>\n",
       "      <th>state</th>\n",
       "      <th>value</th>\n",
       "      <th>datetime_start</th>\n",
       "      <th>datetime_complete</th>\n",
       "    </tr>\n",
       "  </thead>\n",
       "  <tbody>\n",
       "    <tr>\n",
       "      <th>0</th>\n",
       "      <td>1</td>\n",
       "      <td>1</td>\n",
       "      <td>FAIL</td>\n",
       "      <td>NaN</td>\n",
       "      <td>2020-01-20 16:22:27.514063</td>\n",
       "      <td>2020-01-20 16:22:27.731792</td>\n",
       "    </tr>\n",
       "    <tr>\n",
       "      <th>1</th>\n",
       "      <td>2</td>\n",
       "      <td>1</td>\n",
       "      <td>FAIL</td>\n",
       "      <td>NaN</td>\n",
       "      <td>2020-01-20 16:23:08.662825</td>\n",
       "      <td>2020-01-20 16:23:08.883756</td>\n",
       "    </tr>\n",
       "    <tr>\n",
       "      <th>2</th>\n",
       "      <td>3</td>\n",
       "      <td>1</td>\n",
       "      <td>FAIL</td>\n",
       "      <td>NaN</td>\n",
       "      <td>2020-01-20 16:27:52.413196</td>\n",
       "      <td>2020-01-20 16:28:27.406747</td>\n",
       "    </tr>\n",
       "    <tr>\n",
       "      <th>3</th>\n",
       "      <td>4</td>\n",
       "      <td>1</td>\n",
       "      <td>COMPLETE</td>\n",
       "      <td>0.143193</td>\n",
       "      <td>2020-01-20 16:29:12.619799</td>\n",
       "      <td>2020-01-20 16:30:23.502020</td>\n",
       "    </tr>\n",
       "    <tr>\n",
       "      <th>4</th>\n",
       "      <td>5</td>\n",
       "      <td>1</td>\n",
       "      <td>COMPLETE</td>\n",
       "      <td>0.128107</td>\n",
       "      <td>2020-01-20 16:30:23.542472</td>\n",
       "      <td>2020-01-20 16:31:06.205273</td>\n",
       "    </tr>\n",
       "    <tr>\n",
       "      <th>...</th>\n",
       "      <td>...</td>\n",
       "      <td>...</td>\n",
       "      <td>...</td>\n",
       "      <td>...</td>\n",
       "      <td>...</td>\n",
       "      <td>...</td>\n",
       "    </tr>\n",
       "    <tr>\n",
       "      <th>73</th>\n",
       "      <td>74</td>\n",
       "      <td>1</td>\n",
       "      <td>COMPLETE</td>\n",
       "      <td>0.074638</td>\n",
       "      <td>2020-01-20 18:37:36.957851</td>\n",
       "      <td>2020-01-20 18:39:23.025868</td>\n",
       "    </tr>\n",
       "    <tr>\n",
       "      <th>74</th>\n",
       "      <td>75</td>\n",
       "      <td>1</td>\n",
       "      <td>COMPLETE</td>\n",
       "      <td>0.074402</td>\n",
       "      <td>2020-01-20 18:39:23.051571</td>\n",
       "      <td>2020-01-20 18:41:35.253074</td>\n",
       "    </tr>\n",
       "    <tr>\n",
       "      <th>75</th>\n",
       "      <td>76</td>\n",
       "      <td>1</td>\n",
       "      <td>COMPLETE</td>\n",
       "      <td>0.074379</td>\n",
       "      <td>2020-01-20 18:41:35.279743</td>\n",
       "      <td>2020-01-20 18:43:51.322061</td>\n",
       "    </tr>\n",
       "    <tr>\n",
       "      <th>76</th>\n",
       "      <td>77</td>\n",
       "      <td>1</td>\n",
       "      <td>COMPLETE</td>\n",
       "      <td>0.075588</td>\n",
       "      <td>2020-01-20 18:43:51.347771</td>\n",
       "      <td>2020-01-20 18:45:55.457952</td>\n",
       "    </tr>\n",
       "    <tr>\n",
       "      <th>77</th>\n",
       "      <td>78</td>\n",
       "      <td>1</td>\n",
       "      <td>RUNNING</td>\n",
       "      <td>NaN</td>\n",
       "      <td>2020-01-20 18:45:55.484739</td>\n",
       "      <td>NaT</td>\n",
       "    </tr>\n",
       "  </tbody>\n",
       "</table>\n",
       "<p>78 rows × 6 columns</p>\n",
       "</div>"
      ],
      "text/plain": [
       "    trial_id  study_id     state     value             datetime_start  \\\n",
       "0          1         1      FAIL       NaN 2020-01-20 16:22:27.514063   \n",
       "1          2         1      FAIL       NaN 2020-01-20 16:23:08.662825   \n",
       "2          3         1      FAIL       NaN 2020-01-20 16:27:52.413196   \n",
       "3          4         1  COMPLETE  0.143193 2020-01-20 16:29:12.619799   \n",
       "4          5         1  COMPLETE  0.128107 2020-01-20 16:30:23.542472   \n",
       "..       ...       ...       ...       ...                        ...   \n",
       "73        74         1  COMPLETE  0.074638 2020-01-20 18:37:36.957851   \n",
       "74        75         1  COMPLETE  0.074402 2020-01-20 18:39:23.051571   \n",
       "75        76         1  COMPLETE  0.074379 2020-01-20 18:41:35.279743   \n",
       "76        77         1  COMPLETE  0.075588 2020-01-20 18:43:51.347771   \n",
       "77        78         1   RUNNING       NaN 2020-01-20 18:45:55.484739   \n",
       "\n",
       "            datetime_complete  \n",
       "0  2020-01-20 16:22:27.731792  \n",
       "1  2020-01-20 16:23:08.883756  \n",
       "2  2020-01-20 16:28:27.406747  \n",
       "3  2020-01-20 16:30:23.502020  \n",
       "4  2020-01-20 16:31:06.205273  \n",
       "..                        ...  \n",
       "73 2020-01-20 18:39:23.025868  \n",
       "74 2020-01-20 18:41:35.253074  \n",
       "75 2020-01-20 18:43:51.322061  \n",
       "76 2020-01-20 18:45:55.457952  \n",
       "77                        NaT  \n",
       "\n",
       "[78 rows x 6 columns]"
      ]
     },
     "metadata": {},
     "output_type": "display_data"
    },
    {
     "name": "stdout",
     "output_type": "stream",
     "text": [
      "---------------------------\n",
      "\n"
     ]
    },
    {
     "data": {
      "text/plain": [
       "'trial_params'"
      ]
     },
     "metadata": {},
     "output_type": "display_data"
    },
    {
     "data": {
      "text/html": [
       "<div>\n",
       "<style scoped>\n",
       "    .dataframe tbody tr th:only-of-type {\n",
       "        vertical-align: middle;\n",
       "    }\n",
       "\n",
       "    .dataframe tbody tr th {\n",
       "        vertical-align: top;\n",
       "    }\n",
       "\n",
       "    .dataframe thead th {\n",
       "        text-align: right;\n",
       "    }\n",
       "</style>\n",
       "<table border=\"1\" class=\"dataframe\">\n",
       "  <thead>\n",
       "    <tr style=\"text-align: right;\">\n",
       "      <th></th>\n",
       "      <th>param_id</th>\n",
       "      <th>trial_id</th>\n",
       "      <th>param_name</th>\n",
       "      <th>param_value</th>\n",
       "      <th>distribution_json</th>\n",
       "    </tr>\n",
       "  </thead>\n",
       "  <tbody>\n",
       "    <tr>\n",
       "      <th>0</th>\n",
       "      <td>1</td>\n",
       "      <td>1</td>\n",
       "      <td>n_estimators</td>\n",
       "      <td>101.0</td>\n",
       "      <td>{\"name\": \"IntUniformDistribution\", \"attributes...</td>\n",
       "    </tr>\n",
       "    <tr>\n",
       "      <th>1</th>\n",
       "      <td>2</td>\n",
       "      <td>1</td>\n",
       "      <td>criterion</td>\n",
       "      <td>1.0</td>\n",
       "      <td>{\"name\": \"CategoricalDistribution\", \"attribute...</td>\n",
       "    </tr>\n",
       "    <tr>\n",
       "      <th>2</th>\n",
       "      <td>3</td>\n",
       "      <td>1</td>\n",
       "      <td>max_depth</td>\n",
       "      <td>2.0</td>\n",
       "      <td>{\"name\": \"IntUniformDistribution\", \"attributes...</td>\n",
       "    </tr>\n",
       "    <tr>\n",
       "      <th>3</th>\n",
       "      <td>4</td>\n",
       "      <td>1</td>\n",
       "      <td>min_samples_split</td>\n",
       "      <td>6.0</td>\n",
       "      <td>{\"name\": \"IntUniformDistribution\", \"attributes...</td>\n",
       "    </tr>\n",
       "    <tr>\n",
       "      <th>4</th>\n",
       "      <td>5</td>\n",
       "      <td>2</td>\n",
       "      <td>n_estimators</td>\n",
       "      <td>86.0</td>\n",
       "      <td>{\"name\": \"IntUniformDistribution\", \"attributes...</td>\n",
       "    </tr>\n",
       "    <tr>\n",
       "      <th>...</th>\n",
       "      <td>...</td>\n",
       "      <td>...</td>\n",
       "      <td>...</td>\n",
       "      <td>...</td>\n",
       "      <td>...</td>\n",
       "    </tr>\n",
       "    <tr>\n",
       "      <th>307</th>\n",
       "      <td>308</td>\n",
       "      <td>77</td>\n",
       "      <td>min_samples_split</td>\n",
       "      <td>2.0</td>\n",
       "      <td>{\"name\": \"IntUniformDistribution\", \"attributes...</td>\n",
       "    </tr>\n",
       "    <tr>\n",
       "      <th>308</th>\n",
       "      <td>309</td>\n",
       "      <td>78</td>\n",
       "      <td>n_estimators</td>\n",
       "      <td>236.0</td>\n",
       "      <td>{\"name\": \"IntUniformDistribution\", \"attributes...</td>\n",
       "    </tr>\n",
       "    <tr>\n",
       "      <th>309</th>\n",
       "      <td>310</td>\n",
       "      <td>78</td>\n",
       "      <td>criterion</td>\n",
       "      <td>1.0</td>\n",
       "      <td>{\"name\": \"CategoricalDistribution\", \"attribute...</td>\n",
       "    </tr>\n",
       "    <tr>\n",
       "      <th>310</th>\n",
       "      <td>311</td>\n",
       "      <td>78</td>\n",
       "      <td>max_depth</td>\n",
       "      <td>19.0</td>\n",
       "      <td>{\"name\": \"IntUniformDistribution\", \"attributes...</td>\n",
       "    </tr>\n",
       "    <tr>\n",
       "      <th>311</th>\n",
       "      <td>312</td>\n",
       "      <td>78</td>\n",
       "      <td>min_samples_split</td>\n",
       "      <td>2.0</td>\n",
       "      <td>{\"name\": \"IntUniformDistribution\", \"attributes...</td>\n",
       "    </tr>\n",
       "  </tbody>\n",
       "</table>\n",
       "<p>312 rows × 5 columns</p>\n",
       "</div>"
      ],
      "text/plain": [
       "     param_id  trial_id         param_name  param_value  \\\n",
       "0           1         1       n_estimators        101.0   \n",
       "1           2         1          criterion          1.0   \n",
       "2           3         1          max_depth          2.0   \n",
       "3           4         1  min_samples_split          6.0   \n",
       "4           5         2       n_estimators         86.0   \n",
       "..        ...       ...                ...          ...   \n",
       "307       308        77  min_samples_split          2.0   \n",
       "308       309        78       n_estimators        236.0   \n",
       "309       310        78          criterion          1.0   \n",
       "310       311        78          max_depth         19.0   \n",
       "311       312        78  min_samples_split          2.0   \n",
       "\n",
       "                                     distribution_json  \n",
       "0    {\"name\": \"IntUniformDistribution\", \"attributes...  \n",
       "1    {\"name\": \"CategoricalDistribution\", \"attribute...  \n",
       "2    {\"name\": \"IntUniformDistribution\", \"attributes...  \n",
       "3    {\"name\": \"IntUniformDistribution\", \"attributes...  \n",
       "4    {\"name\": \"IntUniformDistribution\", \"attributes...  \n",
       "..                                                 ...  \n",
       "307  {\"name\": \"IntUniformDistribution\", \"attributes...  \n",
       "308  {\"name\": \"IntUniformDistribution\", \"attributes...  \n",
       "309  {\"name\": \"CategoricalDistribution\", \"attribute...  \n",
       "310  {\"name\": \"IntUniformDistribution\", \"attributes...  \n",
       "311  {\"name\": \"IntUniformDistribution\", \"attributes...  \n",
       "\n",
       "[312 rows x 5 columns]"
      ]
     },
     "metadata": {},
     "output_type": "display_data"
    },
    {
     "name": "stdout",
     "output_type": "stream",
     "text": [
      "---------------------------\n",
      "\n"
     ]
    }
   ],
   "source": [
    "for t in ['studies', 'trials','trial_params']:\n",
    "    display(t, get_tbl(t))\n",
    "    print('---------------------------\\n')"
   ]
  },
  {
   "cell_type": "code",
   "execution_count": null,
   "metadata": {},
   "outputs": [],
   "source": []
  },
  {
   "cell_type": "code",
   "execution_count": null,
   "metadata": {},
   "outputs": [],
   "source": []
  },
  {
   "cell_type": "code",
   "execution_count": null,
   "metadata": {},
   "outputs": [],
   "source": []
  },
  {
   "cell_type": "code",
   "execution_count": null,
   "metadata": {},
   "outputs": [],
   "source": []
  },
  {
   "cell_type": "code",
   "execution_count": 44,
   "metadata": {},
   "outputs": [],
   "source": [
    "import plaidml.keras\n",
    "plaidml.keras.install_backend()"
   ]
  },
  {
   "cell_type": "code",
   "execution_count": null,
   "metadata": {},
   "outputs": [],
   "source": []
  }
 ],
 "metadata": {
  "kernelspec": {
   "display_name": "Python 3",
   "language": "python",
   "name": "python3"
  },
  "language_info": {
   "codemirror_mode": {
    "name": "ipython",
    "version": 3
   },
   "file_extension": ".py",
   "mimetype": "text/x-python",
   "name": "python",
   "nbconvert_exporter": "python",
   "pygments_lexer": "ipython3",
   "version": "3.7.6"
  }
 },
 "nbformat": 4,
 "nbformat_minor": 2
}
