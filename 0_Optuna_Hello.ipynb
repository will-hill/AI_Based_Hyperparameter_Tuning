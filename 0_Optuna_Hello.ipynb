{
 "cells": [
  {
   "cell_type": "markdown",
   "metadata": {},
   "source": [
    "### install Optuna"
   ]
  },
  {
   "cell_type": "code",
   "execution_count": 10,
   "metadata": {},
   "outputs": [],
   "source": [
    "# !pip install optuna"
   ]
  },
  {
   "cell_type": "code",
   "execution_count": 11,
   "metadata": {},
   "outputs": [],
   "source": [
    "import optuna"
   ]
  },
  {
   "cell_type": "code",
   "execution_count": 12,
   "metadata": {},
   "outputs": [],
   "source": [
    "def objective(trial):\n",
    "    x = trial.suggest_uniform('x', -10, 10)\n",
    "    return (x - 2) ** 2"
   ]
  },
  {
   "cell_type": "code",
   "execution_count": 25,
   "metadata": {},
   "outputs": [
    {
     "name": "stderr",
     "output_type": "stream",
     "text": [
      "\u001b[32m[I 2020-01-20 12:31:45,994]\u001b[0m Finished trial#0 resulted in value: 20.852306300265496. Current best value is 20.852306300265496 with parameters: {'x': 6.566432557288621}.\u001b[0m\n",
      "\u001b[32m[I 2020-01-20 12:31:46,046]\u001b[0m Finished trial#1 resulted in value: 116.1187870990153. Current best value is 20.852306300265496 with parameters: {'x': 6.566432557288621}.\u001b[0m\n",
      "\u001b[32m[I 2020-01-20 12:31:46,098]\u001b[0m Finished trial#2 resulted in value: 50.945281720212705. Current best value is 20.852306300265496 with parameters: {'x': 6.566432557288621}.\u001b[0m\n",
      "\u001b[32m[I 2020-01-20 12:31:46,150]\u001b[0m Finished trial#3 resulted in value: 1.0916947753014856. Current best value is 1.0916947753014856 with parameters: {'x': 0.9551580141947369}.\u001b[0m\n",
      "\u001b[32m[I 2020-01-20 12:31:46,203]\u001b[0m Finished trial#4 resulted in value: 117.06085188668708. Current best value is 1.0916947753014856 with parameters: {'x': 0.9551580141947369}.\u001b[0m\n",
      "\u001b[32m[I 2020-01-20 12:31:46,257]\u001b[0m Finished trial#5 resulted in value: 0.30596685073048585. Current best value is 0.30596685073048585 with parameters: {'x': 1.4468572962331638}.\u001b[0m\n",
      "\u001b[32m[I 2020-01-20 12:31:46,309]\u001b[0m Finished trial#6 resulted in value: 12.166592626632102. Current best value is 0.30596685073048585 with parameters: {'x': 1.4468572962331638}.\u001b[0m\n",
      "\u001b[32m[I 2020-01-20 12:31:46,362]\u001b[0m Finished trial#7 resulted in value: 0.2925889394746079. Current best value is 0.2925889394746079 with parameters: {'x': 2.540914909643474}.\u001b[0m\n",
      "\u001b[32m[I 2020-01-20 12:31:46,413]\u001b[0m Finished trial#8 resulted in value: 6.7243774423741405. Current best value is 0.2925889394746079 with parameters: {'x': 2.540914909643474}.\u001b[0m\n",
      "\u001b[32m[I 2020-01-20 12:31:46,464]\u001b[0m Finished trial#9 resulted in value: 8.55561898317493. Current best value is 0.2925889394746079 with parameters: {'x': 2.540914909643474}.\u001b[0m\n",
      "\u001b[32m[I 2020-01-20 12:31:46,517]\u001b[0m Finished trial#10 resulted in value: 57.06794817815746. Current best value is 0.2925889394746079 with parameters: {'x': 2.540914909643474}.\u001b[0m\n",
      "\u001b[32m[I 2020-01-20 12:31:46,570]\u001b[0m Finished trial#11 resulted in value: 0.5482549369634012. Current best value is 0.2925889394746079 with parameters: {'x': 2.540914909643474}.\u001b[0m\n",
      "\u001b[32m[I 2020-01-20 12:31:46,623]\u001b[0m Finished trial#12 resulted in value: 22.431231677373592. Current best value is 0.2925889394746079 with parameters: {'x': 2.540914909643474}.\u001b[0m\n",
      "\u001b[32m[I 2020-01-20 12:31:46,676]\u001b[0m Finished trial#13 resulted in value: 3.5514482899447164. Current best value is 0.2925889394746079 with parameters: {'x': 2.540914909643474}.\u001b[0m\n",
      "\u001b[32m[I 2020-01-20 12:31:46,729]\u001b[0m Finished trial#14 resulted in value: 40.710571567344545. Current best value is 0.2925889394746079 with parameters: {'x': 2.540914909643474}.\u001b[0m\n",
      "\u001b[32m[I 2020-01-20 12:31:46,782]\u001b[0m Finished trial#15 resulted in value: 39.323608490934426. Current best value is 0.2925889394746079 with parameters: {'x': 2.540914909643474}.\u001b[0m\n",
      "\u001b[32m[I 2020-01-20 12:31:46,836]\u001b[0m Finished trial#16 resulted in value: 0.040167045111505005. Current best value is 0.040167045111505005 with parameters: {'x': 1.7995828223142911}.\u001b[0m\n",
      "\u001b[32m[I 2020-01-20 12:31:46,890]\u001b[0m Finished trial#17 resulted in value: 5.8975028403766. Current best value is 0.040167045111505005 with parameters: {'x': 1.7995828223142911}.\u001b[0m\n",
      "\u001b[32m[I 2020-01-20 12:31:46,945]\u001b[0m Finished trial#18 resulted in value: 23.23373802530727. Current best value is 0.040167045111505005 with parameters: {'x': 1.7995828223142911}.\u001b[0m\n",
      "\u001b[32m[I 2020-01-20 12:31:46,997]\u001b[0m Finished trial#19 resulted in value: 0.010558594482404805. Current best value is 0.010558594482404805 with parameters: {'x': 2.1027550216894766}.\u001b[0m\n",
      "\u001b[32m[I 2020-01-20 12:31:47,049]\u001b[0m Finished trial#20 resulted in value: 23.662307408474106. Current best value is 0.010558594482404805 with parameters: {'x': 2.1027550216894766}.\u001b[0m\n",
      "\u001b[32m[I 2020-01-20 12:31:47,098]\u001b[0m Finished trial#21 resulted in value: 0.06018722320143526. Current best value is 0.010558594482404805 with parameters: {'x': 2.1027550216894766}.\u001b[0m\n",
      "\u001b[32m[I 2020-01-20 12:31:47,150]\u001b[0m Finished trial#22 resulted in value: 3.6569579623945754. Current best value is 0.010558594482404805 with parameters: {'x': 2.1027550216894766}.\u001b[0m\n",
      "\u001b[32m[I 2020-01-20 12:31:47,206]\u001b[0m Finished trial#23 resulted in value: 0.015569204781235624. Current best value is 0.010558594482404805 with parameters: {'x': 2.1027550216894766}.\u001b[0m\n",
      "\u001b[32m[I 2020-01-20 12:31:47,260]\u001b[0m Finished trial#24 resulted in value: 4.452342338544201. Current best value is 0.010558594482404805 with parameters: {'x': 2.1027550216894766}.\u001b[0m\n",
      "\u001b[32m[I 2020-01-20 12:31:47,315]\u001b[0m Finished trial#25 resulted in value: 13.824096615473128. Current best value is 0.010558594482404805 with parameters: {'x': 2.1027550216894766}.\u001b[0m\n",
      "\u001b[32m[I 2020-01-20 12:31:47,368]\u001b[0m Finished trial#26 resulted in value: 1.2665983602521582. Current best value is 0.010558594482404805 with parameters: {'x': 2.1027550216894766}.\u001b[0m\n",
      "\u001b[32m[I 2020-01-20 12:31:47,419]\u001b[0m Finished trial#27 resulted in value: 14.924525194361971. Current best value is 0.010558594482404805 with parameters: {'x': 2.1027550216894766}.\u001b[0m\n",
      "\u001b[32m[I 2020-01-20 12:31:47,473]\u001b[0m Finished trial#28 resulted in value: 1.6777072761630307. Current best value is 0.010558594482404805 with parameters: {'x': 2.1027550216894766}.\u001b[0m\n",
      "\u001b[32m[I 2020-01-20 12:31:47,527]\u001b[0m Finished trial#29 resulted in value: 29.254135197665505. Current best value is 0.010558594482404805 with parameters: {'x': 2.1027550216894766}.\u001b[0m\n",
      "\u001b[32m[I 2020-01-20 12:31:47,581]\u001b[0m Finished trial#30 resulted in value: 8.90841865598599. Current best value is 0.010558594482404805 with parameters: {'x': 2.1027550216894766}.\u001b[0m\n",
      "\u001b[32m[I 2020-01-20 12:31:47,635]\u001b[0m Finished trial#31 resulted in value: 0.062133727554136015. Current best value is 0.010558594482404805 with parameters: {'x': 2.1027550216894766}.\u001b[0m\n",
      "\u001b[32m[I 2020-01-20 12:31:47,687]\u001b[0m Finished trial#32 resulted in value: 0.009360930686269028. Current best value is 0.009360930686269028 with parameters: {'x': 2.0967519027527057}.\u001b[0m\n",
      "\u001b[32m[I 2020-01-20 12:31:47,737]\u001b[0m Finished trial#33 resulted in value: 4.056522099306444. Current best value is 0.009360930686269028 with parameters: {'x': 2.0967519027527057}.\u001b[0m\n",
      "\u001b[32m[I 2020-01-20 12:31:47,794]\u001b[0m Finished trial#34 resulted in value: 1.369881386553388. Current best value is 0.009360930686269028 with parameters: {'x': 2.0967519027527057}.\u001b[0m\n",
      "\u001b[32m[I 2020-01-20 12:31:47,849]\u001b[0m Finished trial#35 resulted in value: 85.38916704108132. Current best value is 0.009360930686269028 with parameters: {'x': 2.0967519027527057}.\u001b[0m\n",
      "\u001b[32m[I 2020-01-20 12:31:47,905]\u001b[0m Finished trial#36 resulted in value: 13.383172128343537. Current best value is 0.009360930686269028 with parameters: {'x': 2.0967519027527057}.\u001b[0m\n",
      "\u001b[32m[I 2020-01-20 12:31:47,959]\u001b[0m Finished trial#37 resulted in value: 1.1077544283039493. Current best value is 0.009360930686269028 with parameters: {'x': 2.0967519027527057}.\u001b[0m\n",
      "\u001b[32m[I 2020-01-20 12:31:48,015]\u001b[0m Finished trial#38 resulted in value: 0.15694715229950595. Current best value is 0.009360930686269028 with parameters: {'x': 2.0967519027527057}.\u001b[0m\n",
      "\u001b[32m[I 2020-01-20 12:31:48,072]\u001b[0m Finished trial#39 resulted in value: 2.4474652746636933. Current best value is 0.009360930686269028 with parameters: {'x': 2.0967519027527057}.\u001b[0m\n",
      "\u001b[32m[I 2020-01-20 12:31:48,128]\u001b[0m Finished trial#40 resulted in value: 14.936049989345944. Current best value is 0.009360930686269028 with parameters: {'x': 2.0967519027527057}.\u001b[0m\n",
      "\u001b[32m[I 2020-01-20 12:31:48,181]\u001b[0m Finished trial#41 resulted in value: 0.035658463990249196. Current best value is 0.009360930686269028 with parameters: {'x': 2.0967519027527057}.\u001b[0m\n",
      "\u001b[32m[I 2020-01-20 12:31:48,235]\u001b[0m Finished trial#42 resulted in value: 0.003979980232370694. Current best value is 0.003979980232370694 with parameters: {'x': 1.9369129154868392}.\u001b[0m\n",
      "\u001b[32m[I 2020-01-20 12:31:48,290]\u001b[0m Finished trial#43 resulted in value: 2.238058213077919. Current best value is 0.003979980232370694 with parameters: {'x': 1.9369129154868392}.\u001b[0m\n",
      "\u001b[32m[I 2020-01-20 12:31:48,348]\u001b[0m Finished trial#44 resulted in value: 8.109565449841265. Current best value is 0.003979980232370694 with parameters: {'x': 1.9369129154868392}.\u001b[0m\n"
     ]
    },
    {
     "name": "stderr",
     "output_type": "stream",
     "text": [
      "\u001b[32m[I 2020-01-20 12:31:48,401]\u001b[0m Finished trial#45 resulted in value: 0.7462449180013854. Current best value is 0.003979980232370694 with parameters: {'x': 1.9369129154868392}.\u001b[0m\n",
      "\u001b[32m[I 2020-01-20 12:31:48,457]\u001b[0m Finished trial#46 resulted in value: 7.966033815399994. Current best value is 0.003979980232370694 with parameters: {'x': 1.9369129154868392}.\u001b[0m\n",
      "\u001b[32m[I 2020-01-20 12:31:48,515]\u001b[0m Finished trial#47 resulted in value: 0.05370545609838635. Current best value is 0.003979980232370694 with parameters: {'x': 1.9369129154868392}.\u001b[0m\n",
      "\u001b[32m[I 2020-01-20 12:31:48,569]\u001b[0m Finished trial#48 resulted in value: 5.327785396540374. Current best value is 0.003979980232370694 with parameters: {'x': 1.9369129154868392}.\u001b[0m\n",
      "\u001b[32m[I 2020-01-20 12:31:48,626]\u001b[0m Finished trial#49 resulted in value: 0.8498008162421009. Current best value is 0.003979980232370694 with parameters: {'x': 1.9369129154868392}.\u001b[0m\n",
      "\u001b[32m[I 2020-01-20 12:31:48,683]\u001b[0m Finished trial#50 resulted in value: 13.75859269958118. Current best value is 0.003979980232370694 with parameters: {'x': 1.9369129154868392}.\u001b[0m\n",
      "\u001b[32m[I 2020-01-20 12:31:48,739]\u001b[0m Finished trial#51 resulted in value: 0.015168961108094426. Current best value is 0.003979980232370694 with parameters: {'x': 1.9369129154868392}.\u001b[0m\n",
      "\u001b[32m[I 2020-01-20 12:31:48,793]\u001b[0m Finished trial#52 resulted in value: 3.7157760447718906. Current best value is 0.003979980232370694 with parameters: {'x': 1.9369129154868392}.\u001b[0m\n",
      "\u001b[32m[I 2020-01-20 12:31:48,849]\u001b[0m Finished trial#53 resulted in value: 0.12439038917252078. Current best value is 0.003979980232370694 with parameters: {'x': 1.9369129154868392}.\u001b[0m\n",
      "\u001b[32m[I 2020-01-20 12:31:48,904]\u001b[0m Finished trial#54 resulted in value: 0.19852702059874913. Current best value is 0.003979980232370694 with parameters: {'x': 1.9369129154868392}.\u001b[0m\n",
      "\u001b[32m[I 2020-01-20 12:31:48,962]\u001b[0m Finished trial#55 resulted in value: 1.915590876763347. Current best value is 0.003979980232370694 with parameters: {'x': 1.9369129154868392}.\u001b[0m\n",
      "\u001b[32m[I 2020-01-20 12:31:49,017]\u001b[0m Finished trial#56 resulted in value: 0.6197267737031292. Current best value is 0.003979980232370694 with parameters: {'x': 1.9369129154868392}.\u001b[0m\n",
      "\u001b[32m[I 2020-01-20 12:31:49,068]\u001b[0m Finished trial#57 resulted in value: 2.638556516974788. Current best value is 0.003979980232370694 with parameters: {'x': 1.9369129154868392}.\u001b[0m\n",
      "\u001b[32m[I 2020-01-20 12:31:49,118]\u001b[0m Finished trial#58 resulted in value: 6.8826464708541994. Current best value is 0.003979980232370694 with parameters: {'x': 1.9369129154868392}.\u001b[0m\n",
      "\u001b[32m[I 2020-01-20 12:31:49,168]\u001b[0m Finished trial#59 resulted in value: 9.61960581859989. Current best value is 0.003979980232370694 with parameters: {'x': 1.9369129154868392}.\u001b[0m\n",
      "\u001b[32m[I 2020-01-20 12:31:49,218]\u001b[0m Finished trial#60 resulted in value: 0.005884471449873237. Current best value is 0.003979980232370694 with parameters: {'x': 1.9369129154868392}.\u001b[0m\n",
      "\u001b[32m[I 2020-01-20 12:31:49,267]\u001b[0m Finished trial#61 resulted in value: 0.024869864882755444. Current best value is 0.003979980232370694 with parameters: {'x': 1.9369129154868392}.\u001b[0m\n",
      "\u001b[32m[I 2020-01-20 12:31:49,322]\u001b[0m Finished trial#62 resulted in value: 0.7133461201822336. Current best value is 0.003979980232370694 with parameters: {'x': 1.9369129154868392}.\u001b[0m\n",
      "\u001b[32m[I 2020-01-20 12:31:49,375]\u001b[0m Finished trial#63 resulted in value: 0.3200954515926539. Current best value is 0.003979980232370694 with parameters: {'x': 1.9369129154868392}.\u001b[0m\n",
      "\u001b[32m[I 2020-01-20 12:31:49,430]\u001b[0m Finished trial#64 resulted in value: 3.6184090684394588. Current best value is 0.003979980232370694 with parameters: {'x': 1.9369129154868392}.\u001b[0m\n",
      "\u001b[32m[I 2020-01-20 12:31:49,482]\u001b[0m Finished trial#65 resulted in value: 11.022048803661152. Current best value is 0.003979980232370694 with parameters: {'x': 1.9369129154868392}.\u001b[0m\n",
      "\u001b[32m[I 2020-01-20 12:31:49,534]\u001b[0m Finished trial#66 resulted in value: 0.013702170382837902. Current best value is 0.003979980232370694 with parameters: {'x': 1.9369129154868392}.\u001b[0m\n",
      "\u001b[32m[I 2020-01-20 12:31:49,587]\u001b[0m Finished trial#67 resulted in value: 4.787097327729832. Current best value is 0.003979980232370694 with parameters: {'x': 1.9369129154868392}.\u001b[0m\n",
      "\u001b[32m[I 2020-01-20 12:31:49,639]\u001b[0m Finished trial#68 resulted in value: 22.911295461155913. Current best value is 0.003979980232370694 with parameters: {'x': 1.9369129154868392}.\u001b[0m\n",
      "\u001b[32m[I 2020-01-20 12:31:49,693]\u001b[0m Finished trial#69 resulted in value: 1.6140801146102035. Current best value is 0.003979980232370694 with parameters: {'x': 1.9369129154868392}.\u001b[0m\n",
      "\u001b[32m[I 2020-01-20 12:31:49,744]\u001b[0m Finished trial#70 resulted in value: 0.055466950239478445. Current best value is 0.003979980232370694 with parameters: {'x': 1.9369129154868392}.\u001b[0m\n",
      "\u001b[32m[I 2020-01-20 12:31:49,796]\u001b[0m Finished trial#71 resulted in value: 0.49718229947917086. Current best value is 0.003979980232370694 with parameters: {'x': 1.9369129154868392}.\u001b[0m\n",
      "\u001b[32m[I 2020-01-20 12:31:49,845]\u001b[0m Finished trial#72 resulted in value: 0.0008234751319510122. Current best value is 0.0008234751319510122 with parameters: {'x': 2.0286962564100444}.\u001b[0m\n",
      "\u001b[32m[I 2020-01-20 12:31:49,895]\u001b[0m Finished trial#73 resulted in value: 1.784201149968542. Current best value is 0.0008234751319510122 with parameters: {'x': 2.0286962564100444}.\u001b[0m\n",
      "\u001b[32m[I 2020-01-20 12:31:49,948]\u001b[0m Finished trial#74 resulted in value: 0.786370698924272. Current best value is 0.0008234751319510122 with parameters: {'x': 2.0286962564100444}.\u001b[0m\n",
      "\u001b[32m[I 2020-01-20 12:31:49,998]\u001b[0m Finished trial#75 resulted in value: 2.6299211100416318. Current best value is 0.0008234751319510122 with parameters: {'x': 2.0286962564100444}.\u001b[0m\n",
      "\u001b[32m[I 2020-01-20 12:31:50,048]\u001b[0m Finished trial#76 resulted in value: 0.0008987898268406636. Current best value is 0.0008234751319510122 with parameters: {'x': 2.0286962564100444}.\u001b[0m\n",
      "\u001b[32m[I 2020-01-20 12:31:50,100]\u001b[0m Finished trial#77 resulted in value: 6.227105143155909. Current best value is 0.0008234751319510122 with parameters: {'x': 2.0286962564100444}.\u001b[0m\n",
      "\u001b[32m[I 2020-01-20 12:31:50,151]\u001b[0m Finished trial#78 resulted in value: 2.9042329685895476. Current best value is 0.0008234751319510122 with parameters: {'x': 2.0286962564100444}.\u001b[0m\n",
      "\u001b[32m[I 2020-01-20 12:31:50,208]\u001b[0m Finished trial#79 resulted in value: 0.443440930026171. Current best value is 0.0008234751319510122 with parameters: {'x': 2.0286962564100444}.\u001b[0m\n",
      "\u001b[32m[I 2020-01-20 12:31:50,262]\u001b[0m Finished trial#80 resulted in value: 1.2841431936267502. Current best value is 0.0008234751319510122 with parameters: {'x': 2.0286962564100444}.\u001b[0m\n",
      "\u001b[32m[I 2020-01-20 12:31:50,317]\u001b[0m Finished trial#81 resulted in value: 0.03467771286415085. Current best value is 0.0008234751319510122 with parameters: {'x': 2.0286962564100444}.\u001b[0m\n",
      "\u001b[32m[I 2020-01-20 12:31:50,365]\u001b[0m Finished trial#82 resulted in value: 0.019269169901366387. Current best value is 0.0008234751319510122 with parameters: {'x': 2.0286962564100444}.\u001b[0m\n",
      "\u001b[32m[I 2020-01-20 12:31:50,413]\u001b[0m Finished trial#83 resulted in value: 0.05611331307592234. Current best value is 0.0008234751319510122 with parameters: {'x': 2.0286962564100444}.\u001b[0m\n",
      "\u001b[32m[I 2020-01-20 12:31:50,466]\u001b[0m Finished trial#84 resulted in value: 1.179395788809455. Current best value is 0.0008234751319510122 with parameters: {'x': 2.0286962564100444}.\u001b[0m\n",
      "\u001b[32m[I 2020-01-20 12:31:50,524]\u001b[0m Finished trial#85 resulted in value: 0.4200017054479949. Current best value is 0.0008234751319510122 with parameters: {'x': 2.0286962564100444}.\u001b[0m\n",
      "\u001b[32m[I 2020-01-20 12:31:50,579]\u001b[0m Finished trial#86 resulted in value: 2.136036520452073. Current best value is 0.0008234751319510122 with parameters: {'x': 2.0286962564100444}.\u001b[0m\n",
      "\u001b[32m[I 2020-01-20 12:31:50,632]\u001b[0m Finished trial#87 resulted in value: 3.4645674789945384. Current best value is 0.0008234751319510122 with parameters: {'x': 2.0286962564100444}.\u001b[0m\n",
      "\u001b[32m[I 2020-01-20 12:31:50,684]\u001b[0m Finished trial#88 resulted in value: 0.34761923146881607. Current best value is 0.0008234751319510122 with parameters: {'x': 2.0286962564100444}.\u001b[0m\n",
      "\u001b[32m[I 2020-01-20 12:31:50,738]\u001b[0m Finished trial#89 resulted in value: 5.275032643658464. Current best value is 0.0008234751319510122 with parameters: {'x': 2.0286962564100444}.\u001b[0m\n"
     ]
    },
    {
     "name": "stderr",
     "output_type": "stream",
     "text": [
      "\u001b[32m[I 2020-01-20 12:31:50,789]\u001b[0m Finished trial#90 resulted in value: 4.580977790823872. Current best value is 0.0008234751319510122 with parameters: {'x': 2.0286962564100444}.\u001b[0m\n",
      "\u001b[32m[I 2020-01-20 12:31:50,846]\u001b[0m Finished trial#91 resulted in value: 0.000687435548164244. Current best value is 0.000687435548164244 with parameters: {'x': 1.9737810078728368}.\u001b[0m\n",
      "\u001b[32m[I 2020-01-20 12:31:50,897]\u001b[0m Finished trial#92 resulted in value: 0.017581218028017574. Current best value is 0.000687435548164244 with parameters: {'x': 1.9737810078728368}.\u001b[0m\n",
      "\u001b[32m[I 2020-01-20 12:31:50,950]\u001b[0m Finished trial#93 resulted in value: 0.7880524350254839. Current best value is 0.000687435548164244 with parameters: {'x': 1.9737810078728368}.\u001b[0m\n"
     ]
    }
   ],
   "source": [
    "study = optuna.create_study()\n",
    "study.optimize(objective, n_trials=1000, timeout=5)"
   ]
  },
  {
   "cell_type": "code",
   "execution_count": 26,
   "metadata": {},
   "outputs": [
    {
     "data": {
      "text/plain": [
       "{'x': 1.9737810078728368}"
      ]
     },
     "execution_count": 26,
     "metadata": {},
     "output_type": "execute_result"
    }
   ],
   "source": [
    "study.best_params"
   ]
  },
  {
   "cell_type": "code",
   "execution_count": 27,
   "metadata": {},
   "outputs": [
    {
     "data": {
      "text/plain": [
       "0.00069"
      ]
     },
     "execution_count": 27,
     "metadata": {},
     "output_type": "execute_result"
    }
   ],
   "source": [
    "round(study.best_value, 5)"
   ]
  },
  {
   "cell_type": "code",
   "execution_count": 28,
   "metadata": {},
   "outputs": [
    {
     "data": {
      "text/plain": [
       "FrozenTrial(number=91, value=0.000687435548164244, datetime_start=datetime.datetime(2020, 1, 20, 12, 31, 50, 790697), datetime_complete=datetime.datetime(2020, 1, 20, 12, 31, 50, 846113), params={'x': 1.9737810078728368}, distributions={'x': UniformDistribution(high=10, low=-10)}, user_attrs={}, system_attrs={'_number': 91}, intermediate_values={}, trial_id=91, state=TrialState.COMPLETE)"
      ]
     },
     "execution_count": 28,
     "metadata": {},
     "output_type": "execute_result"
    }
   ],
   "source": [
    "study.best_trial"
   ]
  },
  {
   "cell_type": "code",
   "execution_count": null,
   "metadata": {},
   "outputs": [],
   "source": []
  }
 ],
 "metadata": {
  "kernelspec": {
   "display_name": "Python 3",
   "language": "python",
   "name": "python3"
  },
  "language_info": {
   "codemirror_mode": {
    "name": "ipython",
    "version": 3
   },
   "file_extension": ".py",
   "mimetype": "text/x-python",
   "name": "python",
   "nbconvert_exporter": "python",
   "pygments_lexer": "ipython3",
   "version": "3.7.6"
  }
 },
 "nbformat": 4,
 "nbformat_minor": 4
}
